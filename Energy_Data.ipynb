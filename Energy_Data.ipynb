{
 "cells": [
  {
   "cell_type": "markdown",
   "metadata": {},
   "source": [
    "# <center><B>MSCA-31006 <span style=\"color:maroon\">Time Series Analysis and Forecasting</span></B></center>\n",
    "## <center><B><U><i>Final Project</i></U></B></center>&nbsp; <center><i>Data Input and Engineering</i></center>"
   ]
  },
  {
   "cell_type": "code",
   "execution_count": 98,
   "metadata": {
    "tags": [
     "hide"
    ]
   },
   "outputs": [],
   "source": [
    "library(tseries)\n",
    "library(TSA)\n",
    "library(fpp)\n",
    "library(fpp2)\n",
    "library(ggplot2)\n",
    "library(forecast)"
   ]
  },
  {
   "cell_type": "markdown",
   "metadata": {},
   "source": [
    "<br>"
   ]
  },
  {
   "cell_type": "markdown",
   "metadata": {},
   "source": [
    "<h3><u>Read and Clean the Data</u></h3>"
   ]
  },
  {
   "cell_type": "markdown",
   "metadata": {},
   "source": [
    "This set has 13 files overall, with historical information for energy sources going back to the 1970's. Most of the data has monthly frequency but a few datasets are yearly."
   ]
  },
  {
   "cell_type": "code",
   "execution_count": 99,
   "metadata": {},
   "outputs": [],
   "source": [
    "path <- paste(getwd(), \"/Data/\", sep = \"\")\n",
    "files <- dir(path, pattern = \".csv\")\n",
    "# Drop last file to deal with later\n",
    "files <- files[-1]"
   ]
  },
  {
   "cell_type": "code",
   "execution_count": 100,
   "metadata": {},
   "outputs": [
    {
     "data": {
      "text/html": [
       "<ol class=list-inline>\n",
       "\t<li>'Table_1.2_Primary_Energy_Production_by_Source.csv'</li>\n",
       "\t<li>'Table_1.3_Primary_Energy_Consumption_by_Source.csv'</li>\n",
       "\t<li>'Table_1.7_Primary_Energy_Consumption_-_Energy_Expenditures_-_and_Carbon_Dioxide_Emissions_Indicators.csv'</li>\n",
       "\t<li>'Table_10.1_Renewable_Energy_Production_and_Consumption_by_Source.csv'</li>\n",
       "\t<li>'Table_11.1_Carbon_Dioxide_Emissions_From_Energy_Consumption_by_Source.csv'</li>\n",
       "\t<li>'Table_11.6_Carbon_Dioxide_Emissions_From_Energy_Consumption__Electric_Power_Sector.csv'</li>\n",
       "\t<li>'Table_2.1_Energy_Consumption_by_Sector.csv'</li>\n",
       "\t<li>'Table_2.6_Electric_Power_Sector_Energy_Consumption.csv'</li>\n",
       "\t<li>'Table_7.1_Electricity_Overview.csv'</li>\n",
       "\t<li>'Table_7.2b_Electricity_Net_Generation__Electric_Power_Sector.csv'</li>\n",
       "\t<li>'Table_9.10_Natural_Gas_Prices.csv'</li>\n",
       "\t<li>'Table_9.8_Average_Retail_Prices_of_Electricity.csv'</li>\n",
       "\t<li>'Table_9.9_Cost_of_Fossil-Fuel_Receipts_at_Electric_Generating_Plants.csv'</li>\n",
       "\t<li>'Table_C1_Population_-_U.S._Gross_Domestic_Product_-_and_U.S._Gross_Output.csv'</li>\n",
       "</ol>\n"
      ],
      "text/latex": [
       "\\begin{enumerate*}\n",
       "\\item 'Table\\_1.2\\_Primary\\_Energy\\_Production\\_by\\_Source.csv'\n",
       "\\item 'Table\\_1.3\\_Primary\\_Energy\\_Consumption\\_by\\_Source.csv'\n",
       "\\item 'Table\\_1.7\\_Primary\\_Energy\\_Consumption\\_-\\_Energy\\_Expenditures\\_-\\_and\\_Carbon\\_Dioxide\\_Emissions\\_Indicators.csv'\n",
       "\\item 'Table\\_10.1\\_Renewable\\_Energy\\_Production\\_and\\_Consumption\\_by\\_Source.csv'\n",
       "\\item 'Table\\_11.1\\_Carbon\\_Dioxide\\_Emissions\\_From\\_Energy\\_Consumption\\_by\\_Source.csv'\n",
       "\\item 'Table\\_11.6\\_Carbon\\_Dioxide\\_Emissions\\_From\\_Energy\\_Consumption\\_\\_Electric\\_Power\\_Sector.csv'\n",
       "\\item 'Table\\_2.1\\_Energy\\_Consumption\\_by\\_Sector.csv'\n",
       "\\item 'Table\\_2.6\\_Electric\\_Power\\_Sector\\_Energy\\_Consumption.csv'\n",
       "\\item 'Table\\_7.1\\_Electricity\\_Overview.csv'\n",
       "\\item 'Table\\_7.2b\\_Electricity\\_Net\\_Generation\\_\\_Electric\\_Power\\_Sector.csv'\n",
       "\\item 'Table\\_9.10\\_Natural\\_Gas\\_Prices.csv'\n",
       "\\item 'Table\\_9.8\\_Average\\_Retail\\_Prices\\_of\\_Electricity.csv'\n",
       "\\item 'Table\\_9.9\\_Cost\\_of\\_Fossil-Fuel\\_Receipts\\_at\\_Electric\\_Generating\\_Plants.csv'\n",
       "\\item 'Table\\_C1\\_Population\\_-\\_U.S.\\_Gross\\_Domestic\\_Product\\_-\\_and\\_U.S.\\_Gross\\_Output.csv'\n",
       "\\end{enumerate*}\n"
      ],
      "text/markdown": [
       "1. 'Table_1.2_Primary_Energy_Production_by_Source.csv'\n",
       "2. 'Table_1.3_Primary_Energy_Consumption_by_Source.csv'\n",
       "3. 'Table_1.7_Primary_Energy_Consumption_-_Energy_Expenditures_-_and_Carbon_Dioxide_Emissions_Indicators.csv'\n",
       "4. 'Table_10.1_Renewable_Energy_Production_and_Consumption_by_Source.csv'\n",
       "5. 'Table_11.1_Carbon_Dioxide_Emissions_From_Energy_Consumption_by_Source.csv'\n",
       "6. 'Table_11.6_Carbon_Dioxide_Emissions_From_Energy_Consumption__Electric_Power_Sector.csv'\n",
       "7. 'Table_2.1_Energy_Consumption_by_Sector.csv'\n",
       "8. 'Table_2.6_Electric_Power_Sector_Energy_Consumption.csv'\n",
       "9. 'Table_7.1_Electricity_Overview.csv'\n",
       "10. 'Table_7.2b_Electricity_Net_Generation__Electric_Power_Sector.csv'\n",
       "11. 'Table_9.10_Natural_Gas_Prices.csv'\n",
       "12. 'Table_9.8_Average_Retail_Prices_of_Electricity.csv'\n",
       "13. 'Table_9.9_Cost_of_Fossil-Fuel_Receipts_at_Electric_Generating_Plants.csv'\n",
       "14. 'Table_C1_Population_-_U.S._Gross_Domestic_Product_-_and_U.S._Gross_Output.csv'\n",
       "\n",
       "\n"
      ],
      "text/plain": [
       " [1] \"Table_1.2_Primary_Energy_Production_by_Source.csv\"                                                       \n",
       " [2] \"Table_1.3_Primary_Energy_Consumption_by_Source.csv\"                                                      \n",
       " [3] \"Table_1.7_Primary_Energy_Consumption_-_Energy_Expenditures_-_and_Carbon_Dioxide_Emissions_Indicators.csv\"\n",
       " [4] \"Table_10.1_Renewable_Energy_Production_and_Consumption_by_Source.csv\"                                    \n",
       " [5] \"Table_11.1_Carbon_Dioxide_Emissions_From_Energy_Consumption_by_Source.csv\"                               \n",
       " [6] \"Table_11.6_Carbon_Dioxide_Emissions_From_Energy_Consumption__Electric_Power_Sector.csv\"                  \n",
       " [7] \"Table_2.1_Energy_Consumption_by_Sector.csv\"                                                              \n",
       " [8] \"Table_2.6_Electric_Power_Sector_Energy_Consumption.csv\"                                                  \n",
       " [9] \"Table_7.1_Electricity_Overview.csv\"                                                                      \n",
       "[10] \"Table_7.2b_Electricity_Net_Generation__Electric_Power_Sector.csv\"                                        \n",
       "[11] \"Table_9.10_Natural_Gas_Prices.csv\"                                                                       \n",
       "[12] \"Table_9.8_Average_Retail_Prices_of_Electricity.csv\"                                                      \n",
       "[13] \"Table_9.9_Cost_of_Fossil-Fuel_Receipts_at_Electric_Generating_Plants.csv\"                                \n",
       "[14] \"Table_C1_Population_-_U.S._Gross_Domestic_Product_-_and_U.S._Gross_Output.csv\"                           "
      ]
     },
     "metadata": {},
     "output_type": "display_data"
    }
   ],
   "source": [
    "files"
   ]
  },
  {
   "cell_type": "code",
   "execution_count": 101,
   "metadata": {},
   "outputs": [],
   "source": [
    "energy_data <- list()\n",
    "metadata <- list()\n",
    "i <- 1\n",
    "\n",
    "for (file in files) {\n",
    "    # Read the header\n",
    "    header <- read.csv(paste(path, file, sep = \"\"), skip = 10, nrows = 1, header = F, as.is = T)\n",
    "    # Find the units\n",
    "    units <- read.csv(paste(path, file, sep = \"\"), skip = 11, nrows = 1, header = F, as.is = T)\n",
    "    # Read the data\n",
    "    dta <- read.csv(paste(path, file, sep = \"\"), skip = 12, header = F, check.names = T, blank.lines.skip = T, na.strings = \"Not Available\")\n",
    "\n",
    "    # Make sure values are numeric\n",
    "    dta[,2:ncol(dta)] <- sapply(dta[,2:ncol(dta)], function(x) trimws(x))  # get rid of whitespace\n",
    "    suppressWarnings(dta[,2:ncol(dta)] <- sapply(dta[,2:ncol(dta)], function(x) as.numeric(x)))\n",
    "    # Also substitute negative values with zeros\n",
    "    dta[,2:ncol(dta)] <- sapply(dta[,2:ncol(dta)], function(x) (abs(x) + x)/2)\n",
    "    # Convert energy units to Trillion Btu if other                           \n",
    "    dta[,which(units == '(Quadrillion Btu)')] <- sapply(dta[,which(units == '(Quadrillion Btu)')], function(x) 1000*x)                               \n",
    "    units[which(units == '(Quadrillion Btu)')] <- '(Trillion Btu)'  # update metadata\n",
    "    dta[,which(units == '(Million Kilowatthours)')] <- sapply(dta[,which(units == '(Million Kilowatthours)')], function(x) (3.412e-3)*x)                               \n",
    "    units[which(units == '(Million Kilowatthours)')] <- '(Trillion Btu)'  # update metadata \n",
    "\n",
    "    # Assign to the list\n",
    "    energy_data[[i]] <- dta\n",
    "    metadata[[i]] <- rbind(header, units)\n",
    "    i <- i+1\n",
    "}\n",
    "\n",
    "set_names <- c(\"Prod_by_Source\", \n",
    "               \"Consump_by_Source\", \n",
    "               \"Expenditures_Emissions_Indicators\", \n",
    "               \"Renewable_by_Source\", \n",
    "               \"CO2_by_Source\", \n",
    "               \"CO2_ElecPower\", \n",
    "               \"Consump_by_Sector\",\n",
    "               \"Consump_Elec\",\n",
    "               \"ElectricityOverview\",\n",
    "               \"Elec_by_Source\",\n",
    "               \"NGPrices\", \n",
    "               \"Avg_Elec_Price\", \n",
    "               \"Fossil_Fuel_Costs\", \n",
    "               \"GDP_Pop_Info\")\n",
    "\n",
    "                                \n",
    "names(energy_data) <- set_names\n",
    "names(metadata) <- set_names"
   ]
  },
  {
   "cell_type": "markdown",
   "metadata": {},
   "source": [
    "<br>"
   ]
  },
  {
   "cell_type": "markdown",
   "metadata": {},
   "source": [
    "<h4><b>Example Output</b></h4>\n",
    "\n",
    "Use the `metadata` list to get information about the variables and their units. Be sure to match the name of the dataframe with the corresponding item in the metadata list to obtain the correct information."
   ]
  },
  {
   "cell_type": "code",
   "execution_count": 102,
   "metadata": {},
   "outputs": [
    {
     "data": {
      "text/html": [
       "<table>\n",
       "<caption>A data.frame: 8 × 14</caption>\n",
       "<thead>\n",
       "\t<tr><th scope=col>V1</th><th scope=col>V2</th><th scope=col>V3</th><th scope=col>V4</th><th scope=col>V5</th><th scope=col>V6</th><th scope=col>V7</th><th scope=col>V8</th><th scope=col>V9</th><th scope=col>V10</th><th scope=col>V11</th><th scope=col>V12</th><th scope=col>V13</th><th scope=col>V14</th></tr>\n",
       "\t<tr><th scope=col>&lt;chr&gt;</th><th scope=col>&lt;chr&gt;</th><th scope=col>&lt;chr&gt;</th><th scope=col>&lt;chr&gt;</th><th scope=col>&lt;chr&gt;</th><th scope=col>&lt;chr&gt;</th><th scope=col>&lt;chr&gt;</th><th scope=col>&lt;chr&gt;</th><th scope=col>&lt;chr&gt;</th><th scope=col>&lt;chr&gt;</th><th scope=col>&lt;chr&gt;</th><th scope=col>&lt;chr&gt;</th><th scope=col>&lt;chr&gt;</th><th scope=col>&lt;chr&gt;</th></tr>\n",
       "</thead>\n",
       "<tbody>\n",
       "\t<tr><td>Month     </td><td>Wood Energy Production</td><td>Biofuels Production</td><td>Total Biomass Energy Production</td><td>Total Renewable Energy Production</td><td>Hydroelectric Power Consumption</td><td>Geothermal Energy Consumption</td><td>Solar Energy Consumption</td><td>Wind Energy Consumption</td><td>Wood Energy Consumption</td><td>Waste Energy Consumption</td><td>Biofuels Consumption</td><td>Total Biomass Energy Consumption</td><td>Total Renewable Energy Consumption</td></tr>\n",
       "\t<tr><td>NA        </td><td>(Trillion Btu)        </td><td>(Trillion Btu)     </td><td>(Trillion Btu)                 </td><td>(Trillion Btu)                   </td><td>(Trillion Btu)                 </td><td>(Trillion Btu)               </td><td>(Trillion Btu)          </td><td>(Trillion Btu)         </td><td>(Trillion Btu)         </td><td>(Trillion Btu)          </td><td>(Trillion Btu)      </td><td>(Trillion Btu)                  </td><td>(Trillion Btu)                    </td></tr>\n",
       "\t<tr><td>01/01/1973</td><td>129.63                </td><td>NA                 </td><td>129.787                        </td><td>403.981                          </td><td>272.703                        </td><td>1.491                        </td><td>NA                      </td><td>NA                     </td><td>129.63                 </td><td>0.157                   </td><td>NA                  </td><td>129.787                         </td><td>403.981                           </td></tr>\n",
       "\t<tr><td>02/01/1973</td><td>117.194               </td><td>NA                 </td><td>117.338                        </td><td>360.9                            </td><td>242.199                        </td><td>1.363                        </td><td>NA                      </td><td>NA                     </td><td>117.194                </td><td>0.144                   </td><td>NA                  </td><td>117.338                         </td><td>360.9                             </td></tr>\n",
       "\t<tr><td>03/01/1973</td><td>129.763               </td><td>NA                 </td><td>129.938                        </td><td>400.161                          </td><td>268.81                         </td><td>1.412                        </td><td>NA                      </td><td>NA                     </td><td>129.763                </td><td>0.176                   </td><td>NA                  </td><td>129.938                         </td><td>400.161                           </td></tr>\n",
       "\t<tr><td>04/01/1973</td><td>125.462               </td><td>NA                 </td><td>125.636                        </td><td>380.47                           </td><td>253.185                        </td><td>1.649                        </td><td>NA                      </td><td>NA                     </td><td>125.462                </td><td>0.174                   </td><td>NA                  </td><td>125.636                         </td><td>380.47                            </td></tr>\n",
       "\t<tr><td>05/01/1973</td><td>129.624               </td><td>NA                 </td><td>129.834                        </td><td>392.141                          </td><td>260.77                         </td><td>1.537                        </td><td>NA                      </td><td>NA                     </td><td>129.624                </td><td>0.21                    </td><td>NA                  </td><td>129.834                         </td><td>392.141                           </td></tr>\n",
       "\t<tr><td>06/01/1973</td><td>125.435               </td><td>NA                 </td><td>125.611                        </td><td>377.232                          </td><td>249.859                        </td><td>1.763                        </td><td>NA                      </td><td>NA                     </td><td>125.435                </td><td>0.176                   </td><td>NA                  </td><td>125.611                         </td><td>377.232                           </td></tr>\n",
       "</tbody>\n",
       "</table>\n"
      ],
      "text/latex": [
       "A data.frame: 8 × 14\n",
       "\\begin{tabular}{llllllllllllll}\n",
       " V1 & V2 & V3 & V4 & V5 & V6 & V7 & V8 & V9 & V10 & V11 & V12 & V13 & V14\\\\\n",
       " <chr> & <chr> & <chr> & <chr> & <chr> & <chr> & <chr> & <chr> & <chr> & <chr> & <chr> & <chr> & <chr> & <chr>\\\\\n",
       "\\hline\n",
       "\t Month      & Wood Energy Production & Biofuels Production & Total Biomass Energy Production & Total Renewable Energy Production & Hydroelectric Power Consumption & Geothermal Energy Consumption & Solar Energy Consumption & Wind Energy Consumption & Wood Energy Consumption & Waste Energy Consumption & Biofuels Consumption & Total Biomass Energy Consumption & Total Renewable Energy Consumption\\\\\n",
       "\t NA         & (Trillion Btu)         & (Trillion Btu)      & (Trillion Btu)                  & (Trillion Btu)                    & (Trillion Btu)                  & (Trillion Btu)                & (Trillion Btu)           & (Trillion Btu)          & (Trillion Btu)          & (Trillion Btu)           & (Trillion Btu)       & (Trillion Btu)                   & (Trillion Btu)                    \\\\\n",
       "\t 01/01/1973 & 129.63                 & NA                  & 129.787                         & 403.981                           & 272.703                         & 1.491                         & NA                       & NA                      & 129.63                  & 0.157                    & NA                   & 129.787                          & 403.981                           \\\\\n",
       "\t 02/01/1973 & 117.194                & NA                  & 117.338                         & 360.9                             & 242.199                         & 1.363                         & NA                       & NA                      & 117.194                 & 0.144                    & NA                   & 117.338                          & 360.9                             \\\\\n",
       "\t 03/01/1973 & 129.763                & NA                  & 129.938                         & 400.161                           & 268.81                          & 1.412                         & NA                       & NA                      & 129.763                 & 0.176                    & NA                   & 129.938                          & 400.161                           \\\\\n",
       "\t 04/01/1973 & 125.462                & NA                  & 125.636                         & 380.47                            & 253.185                         & 1.649                         & NA                       & NA                      & 125.462                 & 0.174                    & NA                   & 125.636                          & 380.47                            \\\\\n",
       "\t 05/01/1973 & 129.624                & NA                  & 129.834                         & 392.141                           & 260.77                          & 1.537                         & NA                       & NA                      & 129.624                 & 0.21                     & NA                   & 129.834                          & 392.141                           \\\\\n",
       "\t 06/01/1973 & 125.435                & NA                  & 125.611                         & 377.232                           & 249.859                         & 1.763                         & NA                       & NA                      & 125.435                 & 0.176                    & NA                   & 125.611                          & 377.232                           \\\\\n",
       "\\end{tabular}\n"
      ],
      "text/markdown": [
       "\n",
       "A data.frame: 8 × 14\n",
       "\n",
       "| V1 &lt;chr&gt; | V2 &lt;chr&gt; | V3 &lt;chr&gt; | V4 &lt;chr&gt; | V5 &lt;chr&gt; | V6 &lt;chr&gt; | V7 &lt;chr&gt; | V8 &lt;chr&gt; | V9 &lt;chr&gt; | V10 &lt;chr&gt; | V11 &lt;chr&gt; | V12 &lt;chr&gt; | V13 &lt;chr&gt; | V14 &lt;chr&gt; |\n",
       "|---|---|---|---|---|---|---|---|---|---|---|---|---|---|\n",
       "| Month      | Wood Energy Production | Biofuels Production | Total Biomass Energy Production | Total Renewable Energy Production | Hydroelectric Power Consumption | Geothermal Energy Consumption | Solar Energy Consumption | Wind Energy Consumption | Wood Energy Consumption | Waste Energy Consumption | Biofuels Consumption | Total Biomass Energy Consumption | Total Renewable Energy Consumption |\n",
       "| NA         | (Trillion Btu)         | (Trillion Btu)      | (Trillion Btu)                  | (Trillion Btu)                    | (Trillion Btu)                  | (Trillion Btu)                | (Trillion Btu)           | (Trillion Btu)          | (Trillion Btu)          | (Trillion Btu)           | (Trillion Btu)       | (Trillion Btu)                   | (Trillion Btu)                     |\n",
       "| 01/01/1973 | 129.63                 | NA                  | 129.787                         | 403.981                           | 272.703                         | 1.491                         | NA                       | NA                      | 129.63                  | 0.157                    | NA                   | 129.787                          | 403.981                            |\n",
       "| 02/01/1973 | 117.194                | NA                  | 117.338                         | 360.9                             | 242.199                         | 1.363                         | NA                       | NA                      | 117.194                 | 0.144                    | NA                   | 117.338                          | 360.9                              |\n",
       "| 03/01/1973 | 129.763                | NA                  | 129.938                         | 400.161                           | 268.81                          | 1.412                         | NA                       | NA                      | 129.763                 | 0.176                    | NA                   | 129.938                          | 400.161                            |\n",
       "| 04/01/1973 | 125.462                | NA                  | 125.636                         | 380.47                            | 253.185                         | 1.649                         | NA                       | NA                      | 125.462                 | 0.174                    | NA                   | 125.636                          | 380.47                             |\n",
       "| 05/01/1973 | 129.624                | NA                  | 129.834                         | 392.141                           | 260.77                          | 1.537                         | NA                       | NA                      | 129.624                 | 0.21                     | NA                   | 129.834                          | 392.141                            |\n",
       "| 06/01/1973 | 125.435                | NA                  | 125.611                         | 377.232                           | 249.859                         | 1.763                         | NA                       | NA                      | 125.435                 | 0.176                    | NA                   | 125.611                          | 377.232                            |\n",
       "\n"
      ],
      "text/plain": [
       "  V1         V2                     V3                 \n",
       "1 Month      Wood Energy Production Biofuels Production\n",
       "2 NA         (Trillion Btu)         (Trillion Btu)     \n",
       "3 01/01/1973 129.63                 NA                 \n",
       "4 02/01/1973 117.194                NA                 \n",
       "5 03/01/1973 129.763                NA                 \n",
       "6 04/01/1973 125.462                NA                 \n",
       "7 05/01/1973 129.624                NA                 \n",
       "8 06/01/1973 125.435                NA                 \n",
       "  V4                              V5                               \n",
       "1 Total Biomass Energy Production Total Renewable Energy Production\n",
       "2 (Trillion Btu)                  (Trillion Btu)                   \n",
       "3 129.787                         403.981                          \n",
       "4 117.338                         360.9                            \n",
       "5 129.938                         400.161                          \n",
       "6 125.636                         380.47                           \n",
       "7 129.834                         392.141                          \n",
       "8 125.611                         377.232                          \n",
       "  V6                              V7                           \n",
       "1 Hydroelectric Power Consumption Geothermal Energy Consumption\n",
       "2 (Trillion Btu)                  (Trillion Btu)               \n",
       "3 272.703                         1.491                        \n",
       "4 242.199                         1.363                        \n",
       "5 268.81                          1.412                        \n",
       "6 253.185                         1.649                        \n",
       "7 260.77                          1.537                        \n",
       "8 249.859                         1.763                        \n",
       "  V8                       V9                      V10                    \n",
       "1 Solar Energy Consumption Wind Energy Consumption Wood Energy Consumption\n",
       "2 (Trillion Btu)           (Trillion Btu)          (Trillion Btu)         \n",
       "3 NA                       NA                      129.63                 \n",
       "4 NA                       NA                      117.194                \n",
       "5 NA                       NA                      129.763                \n",
       "6 NA                       NA                      125.462                \n",
       "7 NA                       NA                      129.624                \n",
       "8 NA                       NA                      125.435                \n",
       "  V11                      V12                 \n",
       "1 Waste Energy Consumption Biofuels Consumption\n",
       "2 (Trillion Btu)           (Trillion Btu)      \n",
       "3 0.157                    NA                  \n",
       "4 0.144                    NA                  \n",
       "5 0.176                    NA                  \n",
       "6 0.174                    NA                  \n",
       "7 0.21                     NA                  \n",
       "8 0.176                    NA                  \n",
       "  V13                              V14                               \n",
       "1 Total Biomass Energy Consumption Total Renewable Energy Consumption\n",
       "2 (Trillion Btu)                   (Trillion Btu)                    \n",
       "3 129.787                          403.981                           \n",
       "4 117.338                          360.9                             \n",
       "5 129.938                          400.161                           \n",
       "6 125.636                          380.47                            \n",
       "7 129.834                          392.141                           \n",
       "8 125.611                          377.232                           "
      ]
     },
     "metadata": {},
     "output_type": "display_data"
    }
   ],
   "source": [
    "rbind(metadata$Renewable_by_Source, head(energy_data$Renewable_by_Source))"
   ]
  },
  {
   "cell_type": "code",
   "execution_count": 103,
   "metadata": {},
   "outputs": [
    {
     "data": {
      "text/html": [
       "<table>\n",
       "<caption>A data.frame: 8 × 11</caption>\n",
       "<thead>\n",
       "\t<tr><th></th><th scope=col>V1</th><th scope=col>V2</th><th scope=col>V3</th><th scope=col>V4</th><th scope=col>V5</th><th scope=col>V6</th><th scope=col>V7</th><th scope=col>V8</th><th scope=col>V9</th><th scope=col>V10</th><th scope=col>V11</th></tr>\n",
       "\t<tr><th></th><th scope=col>&lt;chr&gt;</th><th scope=col>&lt;chr&gt;</th><th scope=col>&lt;chr&gt;</th><th scope=col>&lt;chr&gt;</th><th scope=col>&lt;chr&gt;</th><th scope=col>&lt;chr&gt;</th><th scope=col>&lt;chr&gt;</th><th scope=col>&lt;chr&gt;</th><th scope=col>&lt;chr&gt;</th><th scope=col>&lt;chr&gt;</th><th scope=col>&lt;chr&gt;</th></tr>\n",
       "</thead>\n",
       "<tbody>\n",
       "\t<tr><th scope=row>1</th><td>Year</td><td>Total Primary Energy Consumption</td><td>Total Primary Energy Consumption per Capita</td><td>Total Primary Energy Consumption per Real Dollar of GDP</td><td>Energy Expenditures      </td><td>Energy Expenditures per Capita</td><td>Energy Expenditures as Share of GDP</td><td>Energy Expenditures as Share of Gross Output</td><td>Total Energy CO2 Emissions          </td><td>Total Energy CO2 Emissions per Capita</td><td>Total Energy CO2 Emissions per Real Dollar of GDP              </td></tr>\n",
       "\t<tr><th scope=row>2</th><td>NA  </td><td>(Trillion Btu)                  </td><td>(Million Btu)                              </td><td>(Thousand Btu per Chained (2012) Dollar)               </td><td>(Million Nominal Dollars)</td><td>(Nominal Dollars)             </td><td>(Percent)                          </td><td>(Percent)                                   </td><td>(Million Metric Tons Carbon Dioxide)</td><td>(Metric Tons Carbon Dioxide)         </td><td>(Metric Tons Carbon Dioxide per Million Chained (2012) Dollars)</td></tr>\n",
       "\t<tr><th scope=row>30</th><td>1978</td><td>79906.703                       </td><td>359                                        </td><td>12.16                                                  </td><td>239280.18                </td><td>1075                          </td><td>10.2                               </td><td>5.5                                         </td><td>4883.91                             </td><td>21.9                                 </td><td>744                                                            </td></tr>\n",
       "\t<tr><th scope=row>31</th><td>1979</td><td>80811.788                       </td><td>359                                        </td><td>11.93                                                  </td><td>297574.63                </td><td>1322                          </td><td>11.3                               </td><td>6                                           </td><td>4946.627                            </td><td>22                                   </td><td>730                                                            </td></tr>\n",
       "\t<tr><th scope=row>32</th><td>1980</td><td>78021.113                       </td><td>343                                        </td><td>11.54                                                  </td><td>374350.01                </td><td>1647                          </td><td>13.1                               </td><td>6.9                                         </td><td>4750.409                            </td><td>20.9                                 </td><td>703                                                            </td></tr>\n",
       "\t<tr><th scope=row>33</th><td>1981</td><td>76057.187                       </td><td>331                                        </td><td>10.97                                                  </td><td>427901.18                </td><td>1865                          </td><td>13.3                               </td><td>7.1                                         </td><td>4627.298                            </td><td>20.2                                 </td><td>668                                                            </td></tr>\n",
       "\t<tr><th scope=row>34</th><td>1982</td><td>73046.189                       </td><td>315                                        </td><td>10.73                                                  </td><td>426482.04                </td><td>1841                          </td><td>12.8                               </td><td>6.9                                         </td><td>4394.16                             </td><td>19                                   </td><td>646                                                            </td></tr>\n",
       "\t<tr><th scope=row>35</th><td>1983</td><td>72915.394                       </td><td>312                                        </td><td>10.24                                                  </td><td>417621.52                </td><td>1786                          </td><td>11.5                               </td><td>6.3                                         </td><td>4370.655                            </td><td>18.7                                 </td><td>614                                                            </td></tr>\n",
       "</tbody>\n",
       "</table>\n"
      ],
      "text/latex": [
       "A data.frame: 8 × 11\n",
       "\\begin{tabular}{r|lllllllllll}\n",
       "  & V1 & V2 & V3 & V4 & V5 & V6 & V7 & V8 & V9 & V10 & V11\\\\\n",
       "  & <chr> & <chr> & <chr> & <chr> & <chr> & <chr> & <chr> & <chr> & <chr> & <chr> & <chr>\\\\\n",
       "\\hline\n",
       "\t1 & Year & Total Primary Energy Consumption & Total Primary Energy Consumption per Capita & Total Primary Energy Consumption per Real Dollar of GDP & Energy Expenditures       & Energy Expenditures per Capita & Energy Expenditures as Share of GDP & Energy Expenditures as Share of Gross Output & Total Energy CO2 Emissions           & Total Energy CO2 Emissions per Capita & Total Energy CO2 Emissions per Real Dollar of GDP              \\\\\n",
       "\t2 & NA   & (Trillion Btu)                   & (Million Btu)                               & (Thousand Btu per Chained (2012) Dollar)                & (Million Nominal Dollars) & (Nominal Dollars)              & (Percent)                           & (Percent)                                    & (Million Metric Tons Carbon Dioxide) & (Metric Tons Carbon Dioxide)          & (Metric Tons Carbon Dioxide per Million Chained (2012) Dollars)\\\\\n",
       "\t30 & 1978 & 79906.703                        & 359                                         & 12.16                                                   & 239280.18                 & 1075                           & 10.2                                & 5.5                                          & 4883.91                              & 21.9                                  & 744                                                            \\\\\n",
       "\t31 & 1979 & 80811.788                        & 359                                         & 11.93                                                   & 297574.63                 & 1322                           & 11.3                                & 6                                            & 4946.627                             & 22                                    & 730                                                            \\\\\n",
       "\t32 & 1980 & 78021.113                        & 343                                         & 11.54                                                   & 374350.01                 & 1647                           & 13.1                                & 6.9                                          & 4750.409                             & 20.9                                  & 703                                                            \\\\\n",
       "\t33 & 1981 & 76057.187                        & 331                                         & 10.97                                                   & 427901.18                 & 1865                           & 13.3                                & 7.1                                          & 4627.298                             & 20.2                                  & 668                                                            \\\\\n",
       "\t34 & 1982 & 73046.189                        & 315                                         & 10.73                                                   & 426482.04                 & 1841                           & 12.8                                & 6.9                                          & 4394.16                              & 19                                    & 646                                                            \\\\\n",
       "\t35 & 1983 & 72915.394                        & 312                                         & 10.24                                                   & 417621.52                 & 1786                           & 11.5                                & 6.3                                          & 4370.655                             & 18.7                                  & 614                                                            \\\\\n",
       "\\end{tabular}\n"
      ],
      "text/markdown": [
       "\n",
       "A data.frame: 8 × 11\n",
       "\n",
       "| <!--/--> | V1 &lt;chr&gt; | V2 &lt;chr&gt; | V3 &lt;chr&gt; | V4 &lt;chr&gt; | V5 &lt;chr&gt; | V6 &lt;chr&gt; | V7 &lt;chr&gt; | V8 &lt;chr&gt; | V9 &lt;chr&gt; | V10 &lt;chr&gt; | V11 &lt;chr&gt; |\n",
       "|---|---|---|---|---|---|---|---|---|---|---|---|\n",
       "| 1 | Year | Total Primary Energy Consumption | Total Primary Energy Consumption per Capita | Total Primary Energy Consumption per Real Dollar of GDP | Energy Expenditures       | Energy Expenditures per Capita | Energy Expenditures as Share of GDP | Energy Expenditures as Share of Gross Output | Total Energy CO2 Emissions           | Total Energy CO2 Emissions per Capita | Total Energy CO2 Emissions per Real Dollar of GDP               |\n",
       "| 2 | NA   | (Trillion Btu)                   | (Million Btu)                               | (Thousand Btu per Chained (2012) Dollar)                | (Million Nominal Dollars) | (Nominal Dollars)              | (Percent)                           | (Percent)                                    | (Million Metric Tons Carbon Dioxide) | (Metric Tons Carbon Dioxide)          | (Metric Tons Carbon Dioxide per Million Chained (2012) Dollars) |\n",
       "| 30 | 1978 | 79906.703                        | 359                                         | 12.16                                                   | 239280.18                 | 1075                           | 10.2                                | 5.5                                          | 4883.91                              | 21.9                                  | 744                                                             |\n",
       "| 31 | 1979 | 80811.788                        | 359                                         | 11.93                                                   | 297574.63                 | 1322                           | 11.3                                | 6                                            | 4946.627                             | 22                                    | 730                                                             |\n",
       "| 32 | 1980 | 78021.113                        | 343                                         | 11.54                                                   | 374350.01                 | 1647                           | 13.1                                | 6.9                                          | 4750.409                             | 20.9                                  | 703                                                             |\n",
       "| 33 | 1981 | 76057.187                        | 331                                         | 10.97                                                   | 427901.18                 | 1865                           | 13.3                                | 7.1                                          | 4627.298                             | 20.2                                  | 668                                                             |\n",
       "| 34 | 1982 | 73046.189                        | 315                                         | 10.73                                                   | 426482.04                 | 1841                           | 12.8                                | 6.9                                          | 4394.16                              | 19                                    | 646                                                             |\n",
       "| 35 | 1983 | 72915.394                        | 312                                         | 10.24                                                   | 417621.52                 | 1786                           | 11.5                                | 6.3                                          | 4370.655                             | 18.7                                  | 614                                                             |\n",
       "\n"
      ],
      "text/plain": [
       "   V1   V2                              \n",
       "1  Year Total Primary Energy Consumption\n",
       "2  NA   (Trillion Btu)                  \n",
       "30 1978 79906.703                       \n",
       "31 1979 80811.788                       \n",
       "32 1980 78021.113                       \n",
       "33 1981 76057.187                       \n",
       "34 1982 73046.189                       \n",
       "35 1983 72915.394                       \n",
       "   V3                                         \n",
       "1  Total Primary Energy Consumption per Capita\n",
       "2  (Million Btu)                              \n",
       "30 359                                        \n",
       "31 359                                        \n",
       "32 343                                        \n",
       "33 331                                        \n",
       "34 315                                        \n",
       "35 312                                        \n",
       "   V4                                                     \n",
       "1  Total Primary Energy Consumption per Real Dollar of GDP\n",
       "2  (Thousand Btu per Chained (2012) Dollar)               \n",
       "30 12.16                                                  \n",
       "31 11.93                                                  \n",
       "32 11.54                                                  \n",
       "33 10.97                                                  \n",
       "34 10.73                                                  \n",
       "35 10.24                                                  \n",
       "   V5                        V6                            \n",
       "1  Energy Expenditures       Energy Expenditures per Capita\n",
       "2  (Million Nominal Dollars) (Nominal Dollars)             \n",
       "30 239280.18                 1075                          \n",
       "31 297574.63                 1322                          \n",
       "32 374350.01                 1647                          \n",
       "33 427901.18                 1865                          \n",
       "34 426482.04                 1841                          \n",
       "35 417621.52                 1786                          \n",
       "   V7                                 \n",
       "1  Energy Expenditures as Share of GDP\n",
       "2  (Percent)                          \n",
       "30 10.2                               \n",
       "31 11.3                               \n",
       "32 13.1                               \n",
       "33 13.3                               \n",
       "34 12.8                               \n",
       "35 11.5                               \n",
       "   V8                                          \n",
       "1  Energy Expenditures as Share of Gross Output\n",
       "2  (Percent)                                   \n",
       "30 5.5                                         \n",
       "31 6                                           \n",
       "32 6.9                                         \n",
       "33 7.1                                         \n",
       "34 6.9                                         \n",
       "35 6.3                                         \n",
       "   V9                                   V10                                  \n",
       "1  Total Energy CO2 Emissions           Total Energy CO2 Emissions per Capita\n",
       "2  (Million Metric Tons Carbon Dioxide) (Metric Tons Carbon Dioxide)         \n",
       "30 4883.91                              21.9                                 \n",
       "31 4946.627                             22                                   \n",
       "32 4750.409                             20.9                                 \n",
       "33 4627.298                             20.2                                 \n",
       "34 4394.16                              19                                   \n",
       "35 4370.655                             18.7                                 \n",
       "   V11                                                            \n",
       "1  Total Energy CO2 Emissions per Real Dollar of GDP              \n",
       "2  (Metric Tons Carbon Dioxide per Million Chained (2012) Dollars)\n",
       "30 744                                                            \n",
       "31 730                                                            \n",
       "32 703                                                            \n",
       "33 668                                                            \n",
       "34 646                                                            \n",
       "35 614                                                            "
      ]
     },
     "metadata": {},
     "output_type": "display_data"
    }
   ],
   "source": [
    "rbind(metadata$Expenditures_Emissions_Indicators, energy_data$Expenditures_Emissions_Indicators[30:35,])"
   ]
  },
  {
   "cell_type": "markdown",
   "metadata": {},
   "source": [
    "<br>"
   ]
  },
  {
   "cell_type": "code",
   "execution_count": 104,
   "metadata": {},
   "outputs": [
    {
     "data": {
      "text/html": [
       "<table>\n",
       "<caption>A data.frame: 8 × 8</caption>\n",
       "<thead>\n",
       "\t<tr><th></th><th scope=col>V1</th><th scope=col>V2</th><th scope=col>V3</th><th scope=col>V4</th><th scope=col>V5</th><th scope=col>V6</th><th scope=col>V7</th><th scope=col>V8</th></tr>\n",
       "\t<tr><th></th><th scope=col>&lt;chr&gt;</th><th scope=col>&lt;chr&gt;</th><th scope=col>&lt;chr&gt;</th><th scope=col>&lt;chr&gt;</th><th scope=col>&lt;chr&gt;</th><th scope=col>&lt;chr&gt;</th><th scope=col>&lt;chr&gt;</th><th scope=col>&lt;chr&gt;</th></tr>\n",
       "</thead>\n",
       "<tbody>\n",
       "\t<tr><th scope=row>1</th><td>Year</td><td>Total Resident Population, United States</td><td>Total Resident Population, World</td><td>United States Share of World Population</td><td>U.S. Gross Domestic Product, Nominal</td><td>U.S. Gross Domestic Product, Real</td><td>U.S. Gross Domestic Product Implicit Price Deflator</td><td>U.S. Gross Output, Nominal Dollars</td></tr>\n",
       "\t<tr><th scope=row>2</th><td>NA  </td><td>(Million people)                        </td><td>(Million people)                </td><td>(Percent)                              </td><td>(Billion Dollars)                   </td><td>(Billion chained (2012) dollars) </td><td>(2012 = 1.00000)                                   </td><td>(Billion Dollars)                 </td></tr>\n",
       "\t<tr><th scope=row>65</th><td>2013</td><td>316.1                                   </td><td>7109.6                          </td><td>4.4                                    </td><td>16784.9                             </td><td>16495.4                          </td><td>1.01755                                            </td><td>30291.3                           </td></tr>\n",
       "\t<tr><th scope=row>66</th><td>2014</td><td>318.4                                   </td><td>7188.4                          </td><td>4.4                                    </td><td>17521.7                             </td><td>16899.8                          </td><td>1.0368                                             </td><td>31740                             </td></tr>\n",
       "\t<tr><th scope=row>67</th><td>2015</td><td>320.7                                   </td><td>7267                            </td><td>4.4                                    </td><td>18219.3                             </td><td>17386.7                          </td><td>1.04789                                            </td><td>32176.7                           </td></tr>\n",
       "\t<tr><th scope=row>68</th><td>2016</td><td>323.1                                   </td><td>7345.8                          </td><td>4.4                                    </td><td>18707.2                             </td><td>17659.2                          </td><td>1.05935                                            </td><td>32838.5                           </td></tr>\n",
       "\t<tr><th scope=row>69</th><td>2017</td><td>325.1                                   </td><td>7424.2                          </td><td>4.4                                    </td><td>19485.4                             </td><td>18050.7                          </td><td>1.07948                                            </td><td>34495.4                           </td></tr>\n",
       "\t<tr><th scope=row>70</th><td>2018</td><td>327.2                                   </td><td>7503.8                          </td><td>4.4                                    </td><td>20494.1                             </td><td>18566.4                          </td><td>1.10382                                            </td><td>36593.3                           </td></tr>\n",
       "</tbody>\n",
       "</table>\n"
      ],
      "text/latex": [
       "A data.frame: 8 × 8\n",
       "\\begin{tabular}{r|llllllll}\n",
       "  & V1 & V2 & V3 & V4 & V5 & V6 & V7 & V8\\\\\n",
       "  & <chr> & <chr> & <chr> & <chr> & <chr> & <chr> & <chr> & <chr>\\\\\n",
       "\\hline\n",
       "\t1 & Year & Total Resident Population, United States & Total Resident Population, World & United States Share of World Population & U.S. Gross Domestic Product, Nominal & U.S. Gross Domestic Product, Real & U.S. Gross Domestic Product Implicit Price Deflator & U.S. Gross Output, Nominal Dollars\\\\\n",
       "\t2 & NA   & (Million people)                         & (Million people)                 & (Percent)                               & (Billion Dollars)                    & (Billion chained (2012) dollars)  & (2012 = 1.00000)                                    & (Billion Dollars)                 \\\\\n",
       "\t65 & 2013 & 316.1                                    & 7109.6                           & 4.4                                     & 16784.9                              & 16495.4                           & 1.01755                                             & 30291.3                           \\\\\n",
       "\t66 & 2014 & 318.4                                    & 7188.4                           & 4.4                                     & 17521.7                              & 16899.8                           & 1.0368                                              & 31740                             \\\\\n",
       "\t67 & 2015 & 320.7                                    & 7267                             & 4.4                                     & 18219.3                              & 17386.7                           & 1.04789                                             & 32176.7                           \\\\\n",
       "\t68 & 2016 & 323.1                                    & 7345.8                           & 4.4                                     & 18707.2                              & 17659.2                           & 1.05935                                             & 32838.5                           \\\\\n",
       "\t69 & 2017 & 325.1                                    & 7424.2                           & 4.4                                     & 19485.4                              & 18050.7                           & 1.07948                                             & 34495.4                           \\\\\n",
       "\t70 & 2018 & 327.2                                    & 7503.8                           & 4.4                                     & 20494.1                              & 18566.4                           & 1.10382                                             & 36593.3                           \\\\\n",
       "\\end{tabular}\n"
      ],
      "text/markdown": [
       "\n",
       "A data.frame: 8 × 8\n",
       "\n",
       "| <!--/--> | V1 &lt;chr&gt; | V2 &lt;chr&gt; | V3 &lt;chr&gt; | V4 &lt;chr&gt; | V5 &lt;chr&gt; | V6 &lt;chr&gt; | V7 &lt;chr&gt; | V8 &lt;chr&gt; |\n",
       "|---|---|---|---|---|---|---|---|---|\n",
       "| 1 | Year | Total Resident Population, United States | Total Resident Population, World | United States Share of World Population | U.S. Gross Domestic Product, Nominal | U.S. Gross Domestic Product, Real | U.S. Gross Domestic Product Implicit Price Deflator | U.S. Gross Output, Nominal Dollars |\n",
       "| 2 | NA   | (Million people)                         | (Million people)                 | (Percent)                               | (Billion Dollars)                    | (Billion chained (2012) dollars)  | (2012 = 1.00000)                                    | (Billion Dollars)                  |\n",
       "| 65 | 2013 | 316.1                                    | 7109.6                           | 4.4                                     | 16784.9                              | 16495.4                           | 1.01755                                             | 30291.3                            |\n",
       "| 66 | 2014 | 318.4                                    | 7188.4                           | 4.4                                     | 17521.7                              | 16899.8                           | 1.0368                                              | 31740                              |\n",
       "| 67 | 2015 | 320.7                                    | 7267                             | 4.4                                     | 18219.3                              | 17386.7                           | 1.04789                                             | 32176.7                            |\n",
       "| 68 | 2016 | 323.1                                    | 7345.8                           | 4.4                                     | 18707.2                              | 17659.2                           | 1.05935                                             | 32838.5                            |\n",
       "| 69 | 2017 | 325.1                                    | 7424.2                           | 4.4                                     | 19485.4                              | 18050.7                           | 1.07948                                             | 34495.4                            |\n",
       "| 70 | 2018 | 327.2                                    | 7503.8                           | 4.4                                     | 20494.1                              | 18566.4                           | 1.10382                                             | 36593.3                            |\n",
       "\n"
      ],
      "text/plain": [
       "   V1   V2                                      \n",
       "1  Year Total Resident Population, United States\n",
       "2  NA   (Million people)                        \n",
       "65 2013 316.1                                   \n",
       "66 2014 318.4                                   \n",
       "67 2015 320.7                                   \n",
       "68 2016 323.1                                   \n",
       "69 2017 325.1                                   \n",
       "70 2018 327.2                                   \n",
       "   V3                               V4                                     \n",
       "1  Total Resident Population, World United States Share of World Population\n",
       "2  (Million people)                 (Percent)                              \n",
       "65 7109.6                           4.4                                    \n",
       "66 7188.4                           4.4                                    \n",
       "67 7267                             4.4                                    \n",
       "68 7345.8                           4.4                                    \n",
       "69 7424.2                           4.4                                    \n",
       "70 7503.8                           4.4                                    \n",
       "   V5                                   V6                               \n",
       "1  U.S. Gross Domestic Product, Nominal U.S. Gross Domestic Product, Real\n",
       "2  (Billion Dollars)                    (Billion chained (2012) dollars) \n",
       "65 16784.9                              16495.4                          \n",
       "66 17521.7                              16899.8                          \n",
       "67 18219.3                              17386.7                          \n",
       "68 18707.2                              17659.2                          \n",
       "69 19485.4                              18050.7                          \n",
       "70 20494.1                              18566.4                          \n",
       "   V7                                                 \n",
       "1  U.S. Gross Domestic Product Implicit Price Deflator\n",
       "2  (2012 = 1.00000)                                   \n",
       "65 1.01755                                            \n",
       "66 1.0368                                             \n",
       "67 1.04789                                            \n",
       "68 1.05935                                            \n",
       "69 1.07948                                            \n",
       "70 1.10382                                            \n",
       "   V8                                \n",
       "1  U.S. Gross Output, Nominal Dollars\n",
       "2  (Billion Dollars)                 \n",
       "65 30291.3                           \n",
       "66 31740                             \n",
       "67 32176.7                           \n",
       "68 32838.5                           \n",
       "69 34495.4                           \n",
       "70 36593.3                           "
      ]
     },
     "metadata": {},
     "output_type": "display_data"
    }
   ],
   "source": [
    "rbind(metadata$GDP_Pop_Info, tail(energy_data$GDP_Pop_Info))"
   ]
  },
  {
   "cell_type": "markdown",
   "metadata": {},
   "source": [
    "<br>"
   ]
  },
  {
   "cell_type": "markdown",
   "metadata": {},
   "source": [
    "<h4><b>Generation Information for Illinois</b></h4>\n",
    "\n",
    "To get this information, filtering and aggregating over the `generation_by_state.csv` data is needed. Note this is monthly data but only goes back to 2001."
   ]
  },
  {
   "cell_type": "code",
   "execution_count": 105,
   "metadata": {},
   "outputs": [
    {
     "data": {
      "text/html": [
       "<table>\n",
       "<caption>A data.frame: 6 × 6</caption>\n",
       "<thead>\n",
       "\t<tr><th></th><th scope=col>YEAR</th><th scope=col>MONTH</th><th scope=col>STATE</th><th scope=col>TYPE.OF.PRODUCER</th><th scope=col>ENERGY.SOURCE</th><th scope=col>GENERATION..Megawatthours.</th></tr>\n",
       "\t<tr><th></th><th scope=col>&lt;int&gt;</th><th scope=col>&lt;int&gt;</th><th scope=col>&lt;fct&gt;</th><th scope=col>&lt;fct&gt;</th><th scope=col>&lt;fct&gt;</th><th scope=col>&lt;dbl&gt;</th></tr>\n",
       "</thead>\n",
       "<tbody>\n",
       "\t<tr><th scope=row>1</th><td>2001</td><td>1</td><td>AK</td><td>Total Electric Power Industry</td><td>Coal                      </td><td> 46903</td></tr>\n",
       "\t<tr><th scope=row>2</th><td>2001</td><td>1</td><td>AK</td><td>Total Electric Power Industry</td><td>Petroleum                 </td><td> 71085</td></tr>\n",
       "\t<tr><th scope=row>3</th><td>2001</td><td>1</td><td>AK</td><td>Total Electric Power Industry</td><td>Natural Gas               </td><td>367521</td></tr>\n",
       "\t<tr><th scope=row>4</th><td>2001</td><td>1</td><td>AK</td><td>Total Electric Power Industry</td><td>Hydroelectric Conventional</td><td>104549</td></tr>\n",
       "\t<tr><th scope=row>5</th><td>2001</td><td>1</td><td>AK</td><td>Total Electric Power Industry</td><td>Wind                      </td><td>    87</td></tr>\n",
       "\t<tr><th scope=row>6</th><td>2001</td><td>1</td><td>AK</td><td>Total Electric Power Industry</td><td>Total                     </td><td>590145</td></tr>\n",
       "</tbody>\n",
       "</table>\n"
      ],
      "text/latex": [
       "A data.frame: 6 × 6\n",
       "\\begin{tabular}{r|llllll}\n",
       "  & YEAR & MONTH & STATE & TYPE.OF.PRODUCER & ENERGY.SOURCE & GENERATION..Megawatthours.\\\\\n",
       "  & <int> & <int> & <fct> & <fct> & <fct> & <dbl>\\\\\n",
       "\\hline\n",
       "\t1 & 2001 & 1 & AK & Total Electric Power Industry & Coal                       &  46903\\\\\n",
       "\t2 & 2001 & 1 & AK & Total Electric Power Industry & Petroleum                  &  71085\\\\\n",
       "\t3 & 2001 & 1 & AK & Total Electric Power Industry & Natural Gas                & 367521\\\\\n",
       "\t4 & 2001 & 1 & AK & Total Electric Power Industry & Hydroelectric Conventional & 104549\\\\\n",
       "\t5 & 2001 & 1 & AK & Total Electric Power Industry & Wind                       &     87\\\\\n",
       "\t6 & 2001 & 1 & AK & Total Electric Power Industry & Total                      & 590145\\\\\n",
       "\\end{tabular}\n"
      ],
      "text/markdown": [
       "\n",
       "A data.frame: 6 × 6\n",
       "\n",
       "| <!--/--> | YEAR &lt;int&gt; | MONTH &lt;int&gt; | STATE &lt;fct&gt; | TYPE.OF.PRODUCER &lt;fct&gt; | ENERGY.SOURCE &lt;fct&gt; | GENERATION..Megawatthours. &lt;dbl&gt; |\n",
       "|---|---|---|---|---|---|---|\n",
       "| 1 | 2001 | 1 | AK | Total Electric Power Industry | Coal                       |  46903 |\n",
       "| 2 | 2001 | 1 | AK | Total Electric Power Industry | Petroleum                  |  71085 |\n",
       "| 3 | 2001 | 1 | AK | Total Electric Power Industry | Natural Gas                | 367521 |\n",
       "| 4 | 2001 | 1 | AK | Total Electric Power Industry | Hydroelectric Conventional | 104549 |\n",
       "| 5 | 2001 | 1 | AK | Total Electric Power Industry | Wind                       |     87 |\n",
       "| 6 | 2001 | 1 | AK | Total Electric Power Industry | Total                      | 590145 |\n",
       "\n"
      ],
      "text/plain": [
       "  YEAR MONTH STATE TYPE.OF.PRODUCER              ENERGY.SOURCE             \n",
       "1 2001 1     AK    Total Electric Power Industry Coal                      \n",
       "2 2001 1     AK    Total Electric Power Industry Petroleum                 \n",
       "3 2001 1     AK    Total Electric Power Industry Natural Gas               \n",
       "4 2001 1     AK    Total Electric Power Industry Hydroelectric Conventional\n",
       "5 2001 1     AK    Total Electric Power Industry Wind                      \n",
       "6 2001 1     AK    Total Electric Power Industry Total                     \n",
       "  GENERATION..Megawatthours.\n",
       "1  46903                    \n",
       "2  71085                    \n",
       "3 367521                    \n",
       "4 104549                    \n",
       "5     87                    \n",
       "6 590145                    "
      ]
     },
     "metadata": {},
     "output_type": "display_data"
    }
   ],
   "source": [
    "IL_data <- read.csv(\"Data/generation_by_state.csv\", header = T, strip.white = T)\n",
    "head(IL_data)"
   ]
  },
  {
   "cell_type": "code",
   "execution_count": 106,
   "metadata": {},
   "outputs": [
    {
     "data": {
      "text/html": [
       "<table>\n",
       "<caption>A data.frame: 15 × 6</caption>\n",
       "<thead>\n",
       "\t<tr><th></th><th scope=col>YEAR</th><th scope=col>MONTH</th><th scope=col>STATE</th><th scope=col>TYPE.OF.PRODUCER</th><th scope=col>ENERGY.SOURCE</th><th scope=col>GENERATION..Megawatthours.</th></tr>\n",
       "\t<tr><th></th><th scope=col>&lt;int&gt;</th><th scope=col>&lt;int&gt;</th><th scope=col>&lt;fct&gt;</th><th scope=col>&lt;fct&gt;</th><th scope=col>&lt;fct&gt;</th><th scope=col>&lt;dbl&gt;</th></tr>\n",
       "</thead>\n",
       "<tbody>\n",
       "\t<tr><th scope=row>414</th><td>2001</td><td>1</td><td>IL</td><td>Total Electric Power Industry          </td><td>Coal                      </td><td> 7539572</td></tr>\n",
       "\t<tr><th scope=row>415</th><td>2001</td><td>1</td><td>IL</td><td>Total Electric Power Industry          </td><td>Petroleum                 </td><td>   17066</td></tr>\n",
       "\t<tr><th scope=row>416</th><td>2001</td><td>1</td><td>IL</td><td>Total Electric Power Industry          </td><td>Natural Gas               </td><td>  137681</td></tr>\n",
       "\t<tr><th scope=row>417</th><td>2001</td><td>1</td><td>IL</td><td>Total Electric Power Industry          </td><td>Other Gases               </td><td>   28111</td></tr>\n",
       "\t<tr><th scope=row>418</th><td>2001</td><td>1</td><td>IL</td><td>Total Electric Power Industry          </td><td>Nuclear                   </td><td> 8237539</td></tr>\n",
       "\t<tr><th scope=row>419</th><td>2001</td><td>1</td><td>IL</td><td>Total Electric Power Industry          </td><td>Hydroelectric Conventional</td><td>   12599</td></tr>\n",
       "\t<tr><th scope=row>420</th><td>2001</td><td>1</td><td>IL</td><td>Total Electric Power Industry          </td><td>Other Biomass             </td><td>   59136</td></tr>\n",
       "\t<tr><th scope=row>421</th><td>2001</td><td>1</td><td>IL</td><td>Total Electric Power Industry          </td><td>Other                     </td><td>    7665</td></tr>\n",
       "\t<tr><th scope=row>422</th><td>2001</td><td>1</td><td>IL</td><td>Total Electric Power Industry          </td><td>Total                     </td><td>16039369</td></tr>\n",
       "\t<tr><th scope=row>423</th><td>2001</td><td>1</td><td>IL</td><td>Electric Generators, Electric Utilities</td><td>Coal                      </td><td> 2825263</td></tr>\n",
       "\t<tr><th scope=row>424</th><td>2001</td><td>1</td><td>IL</td><td>Electric Generators, Electric Utilities</td><td>Petroleum                 </td><td>    5172</td></tr>\n",
       "\t<tr><th scope=row>425</th><td>2001</td><td>1</td><td>IL</td><td>Electric Generators, Electric Utilities</td><td>Natural Gas               </td><td>    9770</td></tr>\n",
       "\t<tr><th scope=row>426</th><td>2001</td><td>1</td><td>IL</td><td>Electric Generators, Electric Utilities</td><td>Hydroelectric Conventional</td><td>    5487</td></tr>\n",
       "\t<tr><th scope=row>427</th><td>2001</td><td>1</td><td>IL</td><td>Electric Generators, Electric Utilities</td><td>Other Biomass             </td><td>    4534</td></tr>\n",
       "\t<tr><th scope=row>428</th><td>2001</td><td>1</td><td>IL</td><td>Electric Generators, Electric Utilities</td><td>Other                     </td><td>    3420</td></tr>\n",
       "</tbody>\n",
       "</table>\n"
      ],
      "text/latex": [
       "A data.frame: 15 × 6\n",
       "\\begin{tabular}{r|llllll}\n",
       "  & YEAR & MONTH & STATE & TYPE.OF.PRODUCER & ENERGY.SOURCE & GENERATION..Megawatthours.\\\\\n",
       "  & <int> & <int> & <fct> & <fct> & <fct> & <dbl>\\\\\n",
       "\\hline\n",
       "\t414 & 2001 & 1 & IL & Total Electric Power Industry           & Coal                       &  7539572\\\\\n",
       "\t415 & 2001 & 1 & IL & Total Electric Power Industry           & Petroleum                  &    17066\\\\\n",
       "\t416 & 2001 & 1 & IL & Total Electric Power Industry           & Natural Gas                &   137681\\\\\n",
       "\t417 & 2001 & 1 & IL & Total Electric Power Industry           & Other Gases                &    28111\\\\\n",
       "\t418 & 2001 & 1 & IL & Total Electric Power Industry           & Nuclear                    &  8237539\\\\\n",
       "\t419 & 2001 & 1 & IL & Total Electric Power Industry           & Hydroelectric Conventional &    12599\\\\\n",
       "\t420 & 2001 & 1 & IL & Total Electric Power Industry           & Other Biomass              &    59136\\\\\n",
       "\t421 & 2001 & 1 & IL & Total Electric Power Industry           & Other                      &     7665\\\\\n",
       "\t422 & 2001 & 1 & IL & Total Electric Power Industry           & Total                      & 16039369\\\\\n",
       "\t423 & 2001 & 1 & IL & Electric Generators, Electric Utilities & Coal                       &  2825263\\\\\n",
       "\t424 & 2001 & 1 & IL & Electric Generators, Electric Utilities & Petroleum                  &     5172\\\\\n",
       "\t425 & 2001 & 1 & IL & Electric Generators, Electric Utilities & Natural Gas                &     9770\\\\\n",
       "\t426 & 2001 & 1 & IL & Electric Generators, Electric Utilities & Hydroelectric Conventional &     5487\\\\\n",
       "\t427 & 2001 & 1 & IL & Electric Generators, Electric Utilities & Other Biomass              &     4534\\\\\n",
       "\t428 & 2001 & 1 & IL & Electric Generators, Electric Utilities & Other                      &     3420\\\\\n",
       "\\end{tabular}\n"
      ],
      "text/markdown": [
       "\n",
       "A data.frame: 15 × 6\n",
       "\n",
       "| <!--/--> | YEAR &lt;int&gt; | MONTH &lt;int&gt; | STATE &lt;fct&gt; | TYPE.OF.PRODUCER &lt;fct&gt; | ENERGY.SOURCE &lt;fct&gt; | GENERATION..Megawatthours. &lt;dbl&gt; |\n",
       "|---|---|---|---|---|---|---|\n",
       "| 414 | 2001 | 1 | IL | Total Electric Power Industry           | Coal                       |  7539572 |\n",
       "| 415 | 2001 | 1 | IL | Total Electric Power Industry           | Petroleum                  |    17066 |\n",
       "| 416 | 2001 | 1 | IL | Total Electric Power Industry           | Natural Gas                |   137681 |\n",
       "| 417 | 2001 | 1 | IL | Total Electric Power Industry           | Other Gases                |    28111 |\n",
       "| 418 | 2001 | 1 | IL | Total Electric Power Industry           | Nuclear                    |  8237539 |\n",
       "| 419 | 2001 | 1 | IL | Total Electric Power Industry           | Hydroelectric Conventional |    12599 |\n",
       "| 420 | 2001 | 1 | IL | Total Electric Power Industry           | Other Biomass              |    59136 |\n",
       "| 421 | 2001 | 1 | IL | Total Electric Power Industry           | Other                      |     7665 |\n",
       "| 422 | 2001 | 1 | IL | Total Electric Power Industry           | Total                      | 16039369 |\n",
       "| 423 | 2001 | 1 | IL | Electric Generators, Electric Utilities | Coal                       |  2825263 |\n",
       "| 424 | 2001 | 1 | IL | Electric Generators, Electric Utilities | Petroleum                  |     5172 |\n",
       "| 425 | 2001 | 1 | IL | Electric Generators, Electric Utilities | Natural Gas                |     9770 |\n",
       "| 426 | 2001 | 1 | IL | Electric Generators, Electric Utilities | Hydroelectric Conventional |     5487 |\n",
       "| 427 | 2001 | 1 | IL | Electric Generators, Electric Utilities | Other Biomass              |     4534 |\n",
       "| 428 | 2001 | 1 | IL | Electric Generators, Electric Utilities | Other                      |     3420 |\n",
       "\n"
      ],
      "text/plain": [
       "    YEAR MONTH STATE TYPE.OF.PRODUCER                       \n",
       "414 2001 1     IL    Total Electric Power Industry          \n",
       "415 2001 1     IL    Total Electric Power Industry          \n",
       "416 2001 1     IL    Total Electric Power Industry          \n",
       "417 2001 1     IL    Total Electric Power Industry          \n",
       "418 2001 1     IL    Total Electric Power Industry          \n",
       "419 2001 1     IL    Total Electric Power Industry          \n",
       "420 2001 1     IL    Total Electric Power Industry          \n",
       "421 2001 1     IL    Total Electric Power Industry          \n",
       "422 2001 1     IL    Total Electric Power Industry          \n",
       "423 2001 1     IL    Electric Generators, Electric Utilities\n",
       "424 2001 1     IL    Electric Generators, Electric Utilities\n",
       "425 2001 1     IL    Electric Generators, Electric Utilities\n",
       "426 2001 1     IL    Electric Generators, Electric Utilities\n",
       "427 2001 1     IL    Electric Generators, Electric Utilities\n",
       "428 2001 1     IL    Electric Generators, Electric Utilities\n",
       "    ENERGY.SOURCE              GENERATION..Megawatthours.\n",
       "414 Coal                        7539572                  \n",
       "415 Petroleum                     17066                  \n",
       "416 Natural Gas                  137681                  \n",
       "417 Other Gases                   28111                  \n",
       "418 Nuclear                     8237539                  \n",
       "419 Hydroelectric Conventional    12599                  \n",
       "420 Other Biomass                 59136                  \n",
       "421 Other                          7665                  \n",
       "422 Total                      16039369                  \n",
       "423 Coal                        2825263                  \n",
       "424 Petroleum                      5172                  \n",
       "425 Natural Gas                    9770                  \n",
       "426 Hydroelectric Conventional     5487                  \n",
       "427 Other Biomass                  4534                  \n",
       "428 Other                          3420                  "
      ]
     },
     "metadata": {},
     "output_type": "display_data"
    }
   ],
   "source": [
    "IL_data <- IL_data[IL_data$STATE == \"IL\",]\n",
    "head(IL_data, 15)"
   ]
  },
  {
   "cell_type": "markdown",
   "metadata": {},
   "source": [
    "We are not interested in the type of producer so we can sum up the generation (total output) over producer type. We can also give the columns more useful labels."
   ]
  },
  {
   "cell_type": "code",
   "execution_count": 107,
   "metadata": {},
   "outputs": [
    {
     "data": {
      "text/html": [
       "<table>\n",
       "<caption>A data.frame: 10 × 4</caption>\n",
       "<thead>\n",
       "\t<tr><th></th><th scope=col>Year</th><th scope=col>Month</th><th scope=col>Source</th><th scope=col>Output_MWh</th></tr>\n",
       "\t<tr><th></th><th scope=col>&lt;int&gt;</th><th scope=col>&lt;int&gt;</th><th scope=col>&lt;fct&gt;</th><th scope=col>&lt;dbl&gt;</th></tr>\n",
       "</thead>\n",
       "<tbody>\n",
       "\t<tr><th scope=row>1</th><td>2001</td><td> 1</td><td>Coal</td><td>15079144</td></tr>\n",
       "\t<tr><th scope=row>2</th><td>2001</td><td> 2</td><td>Coal</td><td>12535630</td></tr>\n",
       "\t<tr><th scope=row>3</th><td>2001</td><td> 3</td><td>Coal</td><td>12548664</td></tr>\n",
       "\t<tr><th scope=row>4</th><td>2001</td><td> 4</td><td>Coal</td><td>11287268</td></tr>\n",
       "\t<tr><th scope=row>5</th><td>2001</td><td> 5</td><td>Coal</td><td>12377706</td></tr>\n",
       "\t<tr><th scope=row>6</th><td>2001</td><td> 6</td><td>Coal</td><td>13591136</td></tr>\n",
       "\t<tr><th scope=row>7</th><td>2001</td><td> 7</td><td>Coal</td><td>15519272</td></tr>\n",
       "\t<tr><th scope=row>8</th><td>2001</td><td> 8</td><td>Coal</td><td>15965670</td></tr>\n",
       "\t<tr><th scope=row>9</th><td>2001</td><td> 9</td><td>Coal</td><td>13145606</td></tr>\n",
       "\t<tr><th scope=row>10</th><td>2001</td><td>10</td><td>Coal</td><td>11713102</td></tr>\n",
       "</tbody>\n",
       "</table>\n"
      ],
      "text/latex": [
       "A data.frame: 10 × 4\n",
       "\\begin{tabular}{r|llll}\n",
       "  & Year & Month & Source & Output\\_MWh\\\\\n",
       "  & <int> & <int> & <fct> & <dbl>\\\\\n",
       "\\hline\n",
       "\t1 & 2001 &  1 & Coal & 15079144\\\\\n",
       "\t2 & 2001 &  2 & Coal & 12535630\\\\\n",
       "\t3 & 2001 &  3 & Coal & 12548664\\\\\n",
       "\t4 & 2001 &  4 & Coal & 11287268\\\\\n",
       "\t5 & 2001 &  5 & Coal & 12377706\\\\\n",
       "\t6 & 2001 &  6 & Coal & 13591136\\\\\n",
       "\t7 & 2001 &  7 & Coal & 15519272\\\\\n",
       "\t8 & 2001 &  8 & Coal & 15965670\\\\\n",
       "\t9 & 2001 &  9 & Coal & 13145606\\\\\n",
       "\t10 & 2001 & 10 & Coal & 11713102\\\\\n",
       "\\end{tabular}\n"
      ],
      "text/markdown": [
       "\n",
       "A data.frame: 10 × 4\n",
       "\n",
       "| <!--/--> | Year &lt;int&gt; | Month &lt;int&gt; | Source &lt;fct&gt; | Output_MWh &lt;dbl&gt; |\n",
       "|---|---|---|---|---|\n",
       "| 1 | 2001 |  1 | Coal | 15079144 |\n",
       "| 2 | 2001 |  2 | Coal | 12535630 |\n",
       "| 3 | 2001 |  3 | Coal | 12548664 |\n",
       "| 4 | 2001 |  4 | Coal | 11287268 |\n",
       "| 5 | 2001 |  5 | Coal | 12377706 |\n",
       "| 6 | 2001 |  6 | Coal | 13591136 |\n",
       "| 7 | 2001 |  7 | Coal | 15519272 |\n",
       "| 8 | 2001 |  8 | Coal | 15965670 |\n",
       "| 9 | 2001 |  9 | Coal | 13145606 |\n",
       "| 10 | 2001 | 10 | Coal | 11713102 |\n",
       "\n"
      ],
      "text/plain": [
       "   Year Month Source Output_MWh\n",
       "1  2001  1    Coal   15079144  \n",
       "2  2001  2    Coal   12535630  \n",
       "3  2001  3    Coal   12548664  \n",
       "4  2001  4    Coal   11287268  \n",
       "5  2001  5    Coal   12377706  \n",
       "6  2001  6    Coal   13591136  \n",
       "7  2001  7    Coal   15519272  \n",
       "8  2001  8    Coal   15965670  \n",
       "9  2001  9    Coal   13145606  \n",
       "10 2001 10    Coal   11713102  "
      ]
     },
     "metadata": {},
     "output_type": "display_data"
    }
   ],
   "source": [
    "IL_data <- aggregate(GENERATION..Megawatthours. ~  MONTH + YEAR + ENERGY.SOURCE, IL_data, sum)\n",
    "colnames(IL_data) <- c(\"Month\", \"Year\", \"Source\", \"Output_MWh\")\n",
    "IL_data <- IL_data[, c(2,1,3,4)]  # flip year, month\n",
    "head(IL_data, 10)"
   ]
  },
  {
   "cell_type": "markdown",
   "metadata": {},
   "source": [
    "<br>"
   ]
  },
  {
   "cell_type": "markdown",
   "metadata": {},
   "source": [
    "We can subset by wind and solar data for analysis. "
   ]
  },
  {
   "cell_type": "markdown",
   "metadata": {},
   "source": [
    "<b>IL Wind Energy</b>"
   ]
  },
  {
   "cell_type": "code",
   "execution_count": 108,
   "metadata": {},
   "outputs": [
    {
     "data": {
      "text/html": [
       "<table>\n",
       "<caption>A data.frame: 6 × 4</caption>\n",
       "<thead>\n",
       "\t<tr><th></th><th scope=col>Year</th><th scope=col>Month</th><th scope=col>Source</th><th scope=col>Output_MWh</th></tr>\n",
       "\t<tr><th></th><th scope=col>&lt;int&gt;</th><th scope=col>&lt;int&gt;</th><th scope=col>&lt;fct&gt;</th><th scope=col>&lt;dbl&gt;</th></tr>\n",
       "</thead>\n",
       "<tbody>\n",
       "\t<tr><th scope=row>1</th><td>2003</td><td>1</td><td>Wind</td><td>3286</td></tr>\n",
       "\t<tr><th scope=row>2</th><td>2003</td><td>2</td><td>Wind</td><td>2900</td></tr>\n",
       "\t<tr><th scope=row>3</th><td>2003</td><td>3</td><td>Wind</td><td>2984</td></tr>\n",
       "\t<tr><th scope=row>4</th><td>2003</td><td>4</td><td>Wind</td><td>2680</td></tr>\n",
       "\t<tr><th scope=row>5</th><td>2003</td><td>5</td><td>Wind</td><td>2734</td></tr>\n",
       "\t<tr><th scope=row>6</th><td>2003</td><td>6</td><td>Wind</td><td>2900</td></tr>\n",
       "</tbody>\n",
       "</table>\n"
      ],
      "text/latex": [
       "A data.frame: 6 × 4\n",
       "\\begin{tabular}{r|llll}\n",
       "  & Year & Month & Source & Output\\_MWh\\\\\n",
       "  & <int> & <int> & <fct> & <dbl>\\\\\n",
       "\\hline\n",
       "\t1 & 2003 & 1 & Wind & 3286\\\\\n",
       "\t2 & 2003 & 2 & Wind & 2900\\\\\n",
       "\t3 & 2003 & 3 & Wind & 2984\\\\\n",
       "\t4 & 2003 & 4 & Wind & 2680\\\\\n",
       "\t5 & 2003 & 5 & Wind & 2734\\\\\n",
       "\t6 & 2003 & 6 & Wind & 2900\\\\\n",
       "\\end{tabular}\n"
      ],
      "text/markdown": [
       "\n",
       "A data.frame: 6 × 4\n",
       "\n",
       "| <!--/--> | Year &lt;int&gt; | Month &lt;int&gt; | Source &lt;fct&gt; | Output_MWh &lt;dbl&gt; |\n",
       "|---|---|---|---|---|\n",
       "| 1 | 2003 | 1 | Wind | 3286 |\n",
       "| 2 | 2003 | 2 | Wind | 2900 |\n",
       "| 3 | 2003 | 3 | Wind | 2984 |\n",
       "| 4 | 2003 | 4 | Wind | 2680 |\n",
       "| 5 | 2003 | 5 | Wind | 2734 |\n",
       "| 6 | 2003 | 6 | Wind | 2900 |\n",
       "\n"
      ],
      "text/plain": [
       "  Year Month Source Output_MWh\n",
       "1 2003 1     Wind   3286      \n",
       "2 2003 2     Wind   2900      \n",
       "3 2003 3     Wind   2984      \n",
       "4 2003 4     Wind   2680      \n",
       "5 2003 5     Wind   2734      \n",
       "6 2003 6     Wind   2900      "
      ]
     },
     "metadata": {},
     "output_type": "display_data"
    }
   ],
   "source": [
    "IL_wind <- IL_data[IL_data$Source == 'Wind',]\n",
    "rownames(IL_wind) <- 1:nrow(IL_wind)\n",
    "head(IL_wind)"
   ]
  },
  {
   "cell_type": "markdown",
   "metadata": {},
   "source": [
    "<br>"
   ]
  },
  {
   "cell_type": "markdown",
   "metadata": {},
   "source": [
    "<b>IL Solar Energy</b>"
   ]
  },
  {
   "cell_type": "code",
   "execution_count": 109,
   "metadata": {},
   "outputs": [
    {
     "data": {
      "text/html": [
       "<table>\n",
       "<caption>A data.frame: 6 × 4</caption>\n",
       "<thead>\n",
       "\t<tr><th></th><th scope=col>Year</th><th scope=col>Month</th><th scope=col>Source</th><th scope=col>Output_MWh</th></tr>\n",
       "\t<tr><th></th><th scope=col>&lt;int&gt;</th><th scope=col>&lt;int&gt;</th><th scope=col>&lt;fct&gt;</th><th scope=col>&lt;dbl&gt;</th></tr>\n",
       "</thead>\n",
       "<tbody>\n",
       "\t<tr><th scope=row>1</th><td>2009</td><td>1</td><td>Solar Thermal and Photovoltaic</td><td>0</td></tr>\n",
       "\t<tr><th scope=row>2</th><td>2009</td><td>2</td><td>Solar Thermal and Photovoltaic</td><td>0</td></tr>\n",
       "\t<tr><th scope=row>3</th><td>2009</td><td>3</td><td>Solar Thermal and Photovoltaic</td><td>0</td></tr>\n",
       "\t<tr><th scope=row>4</th><td>2009</td><td>4</td><td>Solar Thermal and Photovoltaic</td><td>0</td></tr>\n",
       "\t<tr><th scope=row>5</th><td>2009</td><td>5</td><td>Solar Thermal and Photovoltaic</td><td>0</td></tr>\n",
       "\t<tr><th scope=row>6</th><td>2009</td><td>6</td><td>Solar Thermal and Photovoltaic</td><td>0</td></tr>\n",
       "</tbody>\n",
       "</table>\n"
      ],
      "text/latex": [
       "A data.frame: 6 × 4\n",
       "\\begin{tabular}{r|llll}\n",
       "  & Year & Month & Source & Output\\_MWh\\\\\n",
       "  & <int> & <int> & <fct> & <dbl>\\\\\n",
       "\\hline\n",
       "\t1 & 2009 & 1 & Solar Thermal and Photovoltaic & 0\\\\\n",
       "\t2 & 2009 & 2 & Solar Thermal and Photovoltaic & 0\\\\\n",
       "\t3 & 2009 & 3 & Solar Thermal and Photovoltaic & 0\\\\\n",
       "\t4 & 2009 & 4 & Solar Thermal and Photovoltaic & 0\\\\\n",
       "\t5 & 2009 & 5 & Solar Thermal and Photovoltaic & 0\\\\\n",
       "\t6 & 2009 & 6 & Solar Thermal and Photovoltaic & 0\\\\\n",
       "\\end{tabular}\n"
      ],
      "text/markdown": [
       "\n",
       "A data.frame: 6 × 4\n",
       "\n",
       "| <!--/--> | Year &lt;int&gt; | Month &lt;int&gt; | Source &lt;fct&gt; | Output_MWh &lt;dbl&gt; |\n",
       "|---|---|---|---|---|\n",
       "| 1 | 2009 | 1 | Solar Thermal and Photovoltaic | 0 |\n",
       "| 2 | 2009 | 2 | Solar Thermal and Photovoltaic | 0 |\n",
       "| 3 | 2009 | 3 | Solar Thermal and Photovoltaic | 0 |\n",
       "| 4 | 2009 | 4 | Solar Thermal and Photovoltaic | 0 |\n",
       "| 5 | 2009 | 5 | Solar Thermal and Photovoltaic | 0 |\n",
       "| 6 | 2009 | 6 | Solar Thermal and Photovoltaic | 0 |\n",
       "\n"
      ],
      "text/plain": [
       "  Year Month Source                         Output_MWh\n",
       "1 2009 1     Solar Thermal and Photovoltaic 0         \n",
       "2 2009 2     Solar Thermal and Photovoltaic 0         \n",
       "3 2009 3     Solar Thermal and Photovoltaic 0         \n",
       "4 2009 4     Solar Thermal and Photovoltaic 0         \n",
       "5 2009 5     Solar Thermal and Photovoltaic 0         \n",
       "6 2009 6     Solar Thermal and Photovoltaic 0         "
      ]
     },
     "metadata": {},
     "output_type": "display_data"
    }
   ],
   "source": [
    "IL_solar <- IL_data[IL_data$Source == 'Solar Thermal and Photovoltaic',]\n",
    "rownames(IL_solar) <- 1:nrow(IL_solar)\n",
    "head(IL_solar)"
   ]
  },
  {
   "cell_type": "markdown",
   "metadata": {},
   "source": [
    "---"
   ]
  },
  {
   "cell_type": "markdown",
   "metadata": {},
   "source": [
    "<br>"
   ]
  },
  {
   "cell_type": "markdown",
   "metadata": {},
   "source": [
    "<h3><u>Converting to Time Series Data</u></h3>"
   ]
  },
  {
   "cell_type": "markdown",
   "metadata": {},
   "source": [
    "Create monthly and yearly lists for to convert to time series. Separate metadata as well for easy reference."
   ]
  },
  {
   "cell_type": "code",
   "execution_count": 110,
   "metadata": {},
   "outputs": [],
   "source": [
    "yearly_dta <- energy_data[c('Expenditures_Emissions_Indicators', 'GDP_Pop_Info')]\n",
    "yearly_meta <- metadata[c('Expenditures_Emissions_Indicators', 'GDP_Pop_Info')]"
   ]
  },
  {
   "cell_type": "code",
   "execution_count": 111,
   "metadata": {},
   "outputs": [],
   "source": [
    "monthly_dta <- energy_data[setdiff(names(energy_data), names(yearly_dta))]\n",
    "monthly_meta <- metadata[setdiff(names(energy_data), names(yearly_dta))]"
   ]
  },
  {
   "cell_type": "markdown",
   "metadata": {},
   "source": [
    "Build time-series:"
   ]
  },
  {
   "cell_type": "code",
   "execution_count": 112,
   "metadata": {},
   "outputs": [],
   "source": [
    "yearly_dta_ts <- lapply(yearly_dta, function(x) ts(x[2:ncol(x)], start = x[1,1], frequency = 1))"
   ]
  },
  {
   "cell_type": "code",
   "execution_count": 113,
   "metadata": {},
   "outputs": [
    {
     "data": {
      "text/html": [
       "<table>\n",
       "<caption>A Time Series: 10 × 7</caption>\n",
       "<thead>\n",
       "\t<tr><th></th><th scope=col>V2</th><th scope=col>V3</th><th scope=col>V4</th><th scope=col>V5</th><th scope=col>V6</th><th scope=col>V7</th><th scope=col>V8</th></tr>\n",
       "</thead>\n",
       "<tbody>\n",
       "\t<tr><th scope=row>1949</th><td>149.2</td><td>    NA</td><td> NA</td><td>272.5</td><td>2106.6</td><td>0.12935</td><td>510.3</td></tr>\n",
       "\t<tr><th scope=row>1950</th><td>152.3</td><td>2557.6</td><td>6.0</td><td>299.8</td><td>2289.5</td><td>0.13095</td><td>577.8</td></tr>\n",
       "\t<tr><th scope=row>1951</th><td>154.9</td><td>2594.9</td><td>6.0</td><td>346.9</td><td>2473.8</td><td>0.14024</td><td>654.6</td></tr>\n",
       "\t<tr><th scope=row>1952</th><td>157.6</td><td>2636.8</td><td>6.0</td><td>367.3</td><td>2574.9</td><td>0.14266</td><td>686.0</td></tr>\n",
       "\t<tr><th scope=row>1953</th><td>160.2</td><td>2682.1</td><td>6.0</td><td>389.2</td><td>2695.6</td><td>0.14439</td><td>739.2</td></tr>\n",
       "\t<tr><th scope=row>1954</th><td>163.0</td><td>2730.2</td><td>6.0</td><td>390.5</td><td>2680.0</td><td>0.14573</td><td>739.9</td></tr>\n",
       "\t<tr><th scope=row>1955</th><td>165.9</td><td>2782.1</td><td>6.0</td><td>425.5</td><td>2871.2</td><td>0.14819</td><td>802.6</td></tr>\n",
       "\t<tr><th scope=row>1956</th><td>168.9</td><td>2835.3</td><td>6.0</td><td>449.4</td><td>2932.4</td><td>0.15324</td><td>841.8</td></tr>\n",
       "\t<tr><th scope=row>1957</th><td>172.0</td><td>2891.4</td><td>5.9</td><td>474.0</td><td>2994.1</td><td>0.15832</td><td>875.5</td></tr>\n",
       "\t<tr><th scope=row>1958</th><td>174.9</td><td>2948.2</td><td>5.9</td><td>481.2</td><td>2972.0</td><td>0.16192</td><td>897.5</td></tr>\n",
       "</tbody>\n",
       "</table>\n"
      ],
      "text/latex": [
       "A Time Series: 10 × 7\n",
       "\\begin{tabular}{r|lllllll}\n",
       "  & V2 & V3 & V4 & V5 & V6 & V7 & V8\\\\\n",
       "\\hline\n",
       "\t1949 & 149.2 &     NA &  NA & 272.5 & 2106.6 & 0.12935 & 510.3\\\\\n",
       "\t1950 & 152.3 & 2557.6 & 6.0 & 299.8 & 2289.5 & 0.13095 & 577.8\\\\\n",
       "\t1951 & 154.9 & 2594.9 & 6.0 & 346.9 & 2473.8 & 0.14024 & 654.6\\\\\n",
       "\t1952 & 157.6 & 2636.8 & 6.0 & 367.3 & 2574.9 & 0.14266 & 686.0\\\\\n",
       "\t1953 & 160.2 & 2682.1 & 6.0 & 389.2 & 2695.6 & 0.14439 & 739.2\\\\\n",
       "\t1954 & 163.0 & 2730.2 & 6.0 & 390.5 & 2680.0 & 0.14573 & 739.9\\\\\n",
       "\t1955 & 165.9 & 2782.1 & 6.0 & 425.5 & 2871.2 & 0.14819 & 802.6\\\\\n",
       "\t1956 & 168.9 & 2835.3 & 6.0 & 449.4 & 2932.4 & 0.15324 & 841.8\\\\\n",
       "\t1957 & 172.0 & 2891.4 & 5.9 & 474.0 & 2994.1 & 0.15832 & 875.5\\\\\n",
       "\t1958 & 174.9 & 2948.2 & 5.9 & 481.2 & 2972.0 & 0.16192 & 897.5\\\\\n",
       "\\end{tabular}\n"
      ],
      "text/markdown": [
       "\n",
       "A Time Series: 10 × 7\n",
       "\n",
       "| <!--/--> | V2 | V3 | V4 | V5 | V6 | V7 | V8 |\n",
       "|---|---|---|---|---|---|---|---|\n",
       "| 1949 | 149.2 |     NA |  NA | 272.5 | 2106.6 | 0.12935 | 510.3 |\n",
       "| 1950 | 152.3 | 2557.6 | 6.0 | 299.8 | 2289.5 | 0.13095 | 577.8 |\n",
       "| 1951 | 154.9 | 2594.9 | 6.0 | 346.9 | 2473.8 | 0.14024 | 654.6 |\n",
       "| 1952 | 157.6 | 2636.8 | 6.0 | 367.3 | 2574.9 | 0.14266 | 686.0 |\n",
       "| 1953 | 160.2 | 2682.1 | 6.0 | 389.2 | 2695.6 | 0.14439 | 739.2 |\n",
       "| 1954 | 163.0 | 2730.2 | 6.0 | 390.5 | 2680.0 | 0.14573 | 739.9 |\n",
       "| 1955 | 165.9 | 2782.1 | 6.0 | 425.5 | 2871.2 | 0.14819 | 802.6 |\n",
       "| 1956 | 168.9 | 2835.3 | 6.0 | 449.4 | 2932.4 | 0.15324 | 841.8 |\n",
       "| 1957 | 172.0 | 2891.4 | 5.9 | 474.0 | 2994.1 | 0.15832 | 875.5 |\n",
       "| 1958 | 174.9 | 2948.2 | 5.9 | 481.2 | 2972.0 | 0.16192 | 897.5 |\n",
       "\n"
      ],
      "text/plain": [
       "     V2    V3     V4  V5    V6     V7      V8   \n",
       "1949 149.2     NA  NA 272.5 2106.6 0.12935 510.3\n",
       "1950 152.3 2557.6 6.0 299.8 2289.5 0.13095 577.8\n",
       "1951 154.9 2594.9 6.0 346.9 2473.8 0.14024 654.6\n",
       "1952 157.6 2636.8 6.0 367.3 2574.9 0.14266 686.0\n",
       "1953 160.2 2682.1 6.0 389.2 2695.6 0.14439 739.2\n",
       "1954 163.0 2730.2 6.0 390.5 2680.0 0.14573 739.9\n",
       "1955 165.9 2782.1 6.0 425.5 2871.2 0.14819 802.6\n",
       "1956 168.9 2835.3 6.0 449.4 2932.4 0.15324 841.8\n",
       "1957 172.0 2891.4 5.9 474.0 2994.1 0.15832 875.5\n",
       "1958 174.9 2948.2 5.9 481.2 2972.0 0.16192 897.5"
      ]
     },
     "metadata": {},
     "output_type": "display_data"
    }
   ],
   "source": [
    "head(yearly_dta_ts$GDP_Pop_Info, 10)"
   ]
  },
  {
   "cell_type": "markdown",
   "metadata": {},
   "source": [
    "<br>"
   ]
  },
  {
   "cell_type": "markdown",
   "metadata": {},
   "source": [
    "The regex expression in the `start` portion of the `ts` function adjusts for the different formatting and the different starting dates of the data."
   ]
  },
  {
   "cell_type": "code",
   "execution_count": 114,
   "metadata": {},
   "outputs": [],
   "source": [
    "monthly_dta_ts <- lapply(monthly_dta, \n",
    "                         function(x) { ts(x[2:ncol(x)],\n",
    "                         start = c(as.integer(regmatches(x[1,1], regexpr(\"[0-9]{4}\", x[1,1]))), 1),\n",
    "                         frequency = 12) })"
   ]
  },
  {
   "cell_type": "code",
   "execution_count": 115,
   "metadata": {},
   "outputs": [
    {
     "data": {
      "text/html": [
       "<table>\n",
       "<caption>A Time Series: 12 × 14</caption>\n",
       "<thead>\n",
       "\t<tr><th></th><th scope=col>V2</th><th scope=col>V3</th><th scope=col>V4</th><th scope=col>V5</th><th scope=col>V6</th><th scope=col>V7</th><th scope=col>V8</th><th scope=col>V9</th><th scope=col>V10</th><th scope=col>V11</th><th scope=col>V12</th><th scope=col>V13</th><th scope=col>V14</th><th scope=col>V15</th></tr>\n",
       "</thead>\n",
       "<tbody>\n",
       "\t<tr><th scope=row>Jan 1973</th><td>108.256</td><td>125.686</td><td>0.428</td><td>54.556</td><td>10.493</td><td>13.778</td><td>5.160</td><td>1.039</td><td>70.901</td><td>4.743</td><td>50.756</td><td>8.504</td><td>220.358</td><td>454.300</td></tr>\n",
       "\t<tr><th scope=row>Feb 1973</th><td> 97.667</td><td>113.867</td><td>0.432</td><td>51.207</td><td> 8.874</td><td>12.225</td><td>4.421</td><td>1.027</td><td>67.377</td><td>3.904</td><td>46.890</td><td>7.460</td><td>203.817</td><td>415.351</td></tr>\n",
       "\t<tr><th scope=row>Mar 1973</th><td> 97.333</td><td>107.811</td><td>0.459</td><td>43.975</td><td> 6.706</td><td>12.325</td><td>2.551</td><td>1.107</td><td>75.482</td><td>4.260</td><td>47.336</td><td>8.414</td><td>202.615</td><td>407.758</td></tr>\n",
       "\t<tr><th scope=row>Apr 1973</th><td> 93.052</td><td> 97.938</td><td>0.446</td><td>33.602</td><td> 5.809</td><td>12.144</td><td>2.006</td><td>0.981</td><td>73.367</td><td>4.087</td><td>36.792</td><td>7.991</td><td>177.227</td><td>368.216</td></tr>\n",
       "\t<tr><th scope=row>May 1973</th><td> 94.311</td><td> 92.134</td><td>0.549</td><td>35.203</td><td> 5.504</td><td>13.792</td><td>1.682</td><td>1.159</td><td>80.052</td><td>4.543</td><td>38.708</td><td>8.445</td><td>189.636</td><td>376.081</td></tr>\n",
       "\t<tr><th scope=row>Jun 1973</th><td> 97.724</td><td> 81.740</td><td>0.471</td><td>30.835</td><td> 4.515</td><td>12.070</td><td>1.447</td><td>1.008</td><td>78.103</td><td>4.765</td><td>38.734</td><td>8.591</td><td>180.539</td><td>360.003</td></tr>\n",
       "\t<tr><th scope=row>Jul 1973</th><td>103.131</td><td> 82.952</td><td>0.420</td><td>30.666</td><td> 4.428</td><td>12.975</td><td>1.887</td><td>1.222</td><td>81.395</td><td>4.697</td><td>37.028</td><td>8.820</td><td>183.538</td><td>369.621</td></tr>\n",
       "\t<tr><th scope=row>Aug 1973</th><td>105.357</td><td> 84.184</td><td>0.668</td><td>33.657</td><td> 5.246</td><td>12.990</td><td>1.864</td><td>1.189</td><td>84.101</td><td>4.900</td><td>42.304</td><td>8.907</td><td>195.826</td><td>385.367</td></tr>\n",
       "\t<tr><th scope=row>Sep 1973</th><td> 98.261</td><td> 81.199</td><td>0.462</td><td>34.090</td><td> 5.345</td><td>12.841</td><td>2.269</td><td>1.042</td><td>73.806</td><td>4.245</td><td>39.758</td><td>8.064</td><td>181.922</td><td>361.381</td></tr>\n",
       "\t<tr><th scope=row>Oct 1973</th><td>101.028</td><td> 90.755</td><td>0.550</td><td>38.607</td><td> 6.663</td><td>13.667</td><td>2.281</td><td>1.283</td><td>77.383</td><td>5.027</td><td>39.764</td><td>8.351</td><td>193.575</td><td>385.358</td></tr>\n",
       "\t<tr><th scope=row>Nov 1973</th><td>101.436</td><td>101.419</td><td>0.475</td><td>44.719</td><td> 8.007</td><td>12.302</td><td>3.759</td><td>1.137</td><td>76.524</td><td>4.306</td><td>46.911</td><td>7.681</td><td>205.822</td><td>408.678</td></tr>\n",
       "\t<tr><th scope=row>Dec 1973</th><td>108.718</td><td>116.361</td><td>0.413</td><td>48.633</td><td> 8.171</td><td>13.457</td><td>3.028</td><td>1.124</td><td>72.282</td><td>4.443</td><td>45.196</td><td>8.023</td><td>204.771</td><td>429.850</td></tr>\n",
       "</tbody>\n",
       "</table>\n"
      ],
      "text/latex": [
       "A Time Series: 12 × 14\n",
       "\\begin{tabular}{r|llllllllllllll}\n",
       "  & V2 & V3 & V4 & V5 & V6 & V7 & V8 & V9 & V10 & V11 & V12 & V13 & V14 & V15\\\\\n",
       "\\hline\n",
       "\tJan 1973 & 108.256 & 125.686 & 0.428 & 54.556 & 10.493 & 13.778 & 5.160 & 1.039 & 70.901 & 4.743 & 50.756 & 8.504 & 220.358 & 454.300\\\\\n",
       "\tFeb 1973 &  97.667 & 113.867 & 0.432 & 51.207 &  8.874 & 12.225 & 4.421 & 1.027 & 67.377 & 3.904 & 46.890 & 7.460 & 203.817 & 415.351\\\\\n",
       "\tMar 1973 &  97.333 & 107.811 & 0.459 & 43.975 &  6.706 & 12.325 & 2.551 & 1.107 & 75.482 & 4.260 & 47.336 & 8.414 & 202.615 & 407.758\\\\\n",
       "\tApr 1973 &  93.052 &  97.938 & 0.446 & 33.602 &  5.809 & 12.144 & 2.006 & 0.981 & 73.367 & 4.087 & 36.792 & 7.991 & 177.227 & 368.216\\\\\n",
       "\tMay 1973 &  94.311 &  92.134 & 0.549 & 35.203 &  5.504 & 13.792 & 1.682 & 1.159 & 80.052 & 4.543 & 38.708 & 8.445 & 189.636 & 376.081\\\\\n",
       "\tJun 1973 &  97.724 &  81.740 & 0.471 & 30.835 &  4.515 & 12.070 & 1.447 & 1.008 & 78.103 & 4.765 & 38.734 & 8.591 & 180.539 & 360.003\\\\\n",
       "\tJul 1973 & 103.131 &  82.952 & 0.420 & 30.666 &  4.428 & 12.975 & 1.887 & 1.222 & 81.395 & 4.697 & 37.028 & 8.820 & 183.538 & 369.621\\\\\n",
       "\tAug 1973 & 105.357 &  84.184 & 0.668 & 33.657 &  5.246 & 12.990 & 1.864 & 1.189 & 84.101 & 4.900 & 42.304 & 8.907 & 195.826 & 385.367\\\\\n",
       "\tSep 1973 &  98.261 &  81.199 & 0.462 & 34.090 &  5.345 & 12.841 & 2.269 & 1.042 & 73.806 & 4.245 & 39.758 & 8.064 & 181.922 & 361.381\\\\\n",
       "\tOct 1973 & 101.028 &  90.755 & 0.550 & 38.607 &  6.663 & 13.667 & 2.281 & 1.283 & 77.383 & 5.027 & 39.764 & 8.351 & 193.575 & 385.358\\\\\n",
       "\tNov 1973 & 101.436 & 101.419 & 0.475 & 44.719 &  8.007 & 12.302 & 3.759 & 1.137 & 76.524 & 4.306 & 46.911 & 7.681 & 205.822 & 408.678\\\\\n",
       "\tDec 1973 & 108.718 & 116.361 & 0.413 & 48.633 &  8.171 & 13.457 & 3.028 & 1.124 & 72.282 & 4.443 & 45.196 & 8.023 & 204.771 & 429.850\\\\\n",
       "\\end{tabular}\n"
      ],
      "text/markdown": [
       "\n",
       "A Time Series: 12 × 14\n",
       "\n",
       "| <!--/--> | V2 | V3 | V4 | V5 | V6 | V7 | V8 | V9 | V10 | V11 | V12 | V13 | V14 | V15 |\n",
       "|---|---|---|---|---|---|---|---|---|---|---|---|---|---|---|\n",
       "| Jan 1973 | 108.256 | 125.686 | 0.428 | 54.556 | 10.493 | 13.778 | 5.160 | 1.039 | 70.901 | 4.743 | 50.756 | 8.504 | 220.358 | 454.300 |\n",
       "| Feb 1973 |  97.667 | 113.867 | 0.432 | 51.207 |  8.874 | 12.225 | 4.421 | 1.027 | 67.377 | 3.904 | 46.890 | 7.460 | 203.817 | 415.351 |\n",
       "| Mar 1973 |  97.333 | 107.811 | 0.459 | 43.975 |  6.706 | 12.325 | 2.551 | 1.107 | 75.482 | 4.260 | 47.336 | 8.414 | 202.615 | 407.758 |\n",
       "| Apr 1973 |  93.052 |  97.938 | 0.446 | 33.602 |  5.809 | 12.144 | 2.006 | 0.981 | 73.367 | 4.087 | 36.792 | 7.991 | 177.227 | 368.216 |\n",
       "| May 1973 |  94.311 |  92.134 | 0.549 | 35.203 |  5.504 | 13.792 | 1.682 | 1.159 | 80.052 | 4.543 | 38.708 | 8.445 | 189.636 | 376.081 |\n",
       "| Jun 1973 |  97.724 |  81.740 | 0.471 | 30.835 |  4.515 | 12.070 | 1.447 | 1.008 | 78.103 | 4.765 | 38.734 | 8.591 | 180.539 | 360.003 |\n",
       "| Jul 1973 | 103.131 |  82.952 | 0.420 | 30.666 |  4.428 | 12.975 | 1.887 | 1.222 | 81.395 | 4.697 | 37.028 | 8.820 | 183.538 | 369.621 |\n",
       "| Aug 1973 | 105.357 |  84.184 | 0.668 | 33.657 |  5.246 | 12.990 | 1.864 | 1.189 | 84.101 | 4.900 | 42.304 | 8.907 | 195.826 | 385.367 |\n",
       "| Sep 1973 |  98.261 |  81.199 | 0.462 | 34.090 |  5.345 | 12.841 | 2.269 | 1.042 | 73.806 | 4.245 | 39.758 | 8.064 | 181.922 | 361.381 |\n",
       "| Oct 1973 | 101.028 |  90.755 | 0.550 | 38.607 |  6.663 | 13.667 | 2.281 | 1.283 | 77.383 | 5.027 | 39.764 | 8.351 | 193.575 | 385.358 |\n",
       "| Nov 1973 | 101.436 | 101.419 | 0.475 | 44.719 |  8.007 | 12.302 | 3.759 | 1.137 | 76.524 | 4.306 | 46.911 | 7.681 | 205.822 | 408.678 |\n",
       "| Dec 1973 | 108.718 | 116.361 | 0.413 | 48.633 |  8.171 | 13.457 | 3.028 | 1.124 | 72.282 | 4.443 | 45.196 | 8.023 | 204.771 | 429.850 |\n",
       "\n"
      ],
      "text/plain": [
       "         V2      V3      V4    V5     V6     V7     V8    V9    V10    V11  \n",
       "Jan 1973 108.256 125.686 0.428 54.556 10.493 13.778 5.160 1.039 70.901 4.743\n",
       "Feb 1973  97.667 113.867 0.432 51.207  8.874 12.225 4.421 1.027 67.377 3.904\n",
       "Mar 1973  97.333 107.811 0.459 43.975  6.706 12.325 2.551 1.107 75.482 4.260\n",
       "Apr 1973  93.052  97.938 0.446 33.602  5.809 12.144 2.006 0.981 73.367 4.087\n",
       "May 1973  94.311  92.134 0.549 35.203  5.504 13.792 1.682 1.159 80.052 4.543\n",
       "Jun 1973  97.724  81.740 0.471 30.835  4.515 12.070 1.447 1.008 78.103 4.765\n",
       "Jul 1973 103.131  82.952 0.420 30.666  4.428 12.975 1.887 1.222 81.395 4.697\n",
       "Aug 1973 105.357  84.184 0.668 33.657  5.246 12.990 1.864 1.189 84.101 4.900\n",
       "Sep 1973  98.261  81.199 0.462 34.090  5.345 12.841 2.269 1.042 73.806 4.245\n",
       "Oct 1973 101.028  90.755 0.550 38.607  6.663 13.667 2.281 1.283 77.383 5.027\n",
       "Nov 1973 101.436 101.419 0.475 44.719  8.007 12.302 3.759 1.137 76.524 4.306\n",
       "Dec 1973 108.718 116.361 0.413 48.633  8.171 13.457 3.028 1.124 72.282 4.443\n",
       "         V12    V13   V14     V15    \n",
       "Jan 1973 50.756 8.504 220.358 454.300\n",
       "Feb 1973 46.890 7.460 203.817 415.351\n",
       "Mar 1973 47.336 8.414 202.615 407.758\n",
       "Apr 1973 36.792 7.991 177.227 368.216\n",
       "May 1973 38.708 8.445 189.636 376.081\n",
       "Jun 1973 38.734 8.591 180.539 360.003\n",
       "Jul 1973 37.028 8.820 183.538 369.621\n",
       "Aug 1973 42.304 8.907 195.826 385.367\n",
       "Sep 1973 39.758 8.064 181.922 361.381\n",
       "Oct 1973 39.764 8.351 193.575 385.358\n",
       "Nov 1973 46.911 7.681 205.822 408.678\n",
       "Dec 1973 45.196 8.023 204.771 429.850"
      ]
     },
     "metadata": {},
     "output_type": "display_data"
    }
   ],
   "source": [
    "head(monthly_dta_ts$CO2_by_Source, 12)"
   ]
  },
  {
   "cell_type": "markdown",
   "metadata": {},
   "source": [
    "<br>"
   ]
  },
  {
   "cell_type": "markdown",
   "metadata": {},
   "source": [
    "Convert the <i>Illinois</i> data:"
   ]
  },
  {
   "cell_type": "code",
   "execution_count": 116,
   "metadata": {},
   "outputs": [],
   "source": [
    "IL_wind_ts <- ts(IL_wind[,'Output_MWh'], start = c(IL_wind[1,1], 1), frequency = 12)\n",
    "IL_solar_ts <- ts(IL_solar[,'Output_MWh'], start = c(IL_solar[1,1], 1), frequency = 12)"
   ]
  },
  {
   "cell_type": "markdown",
   "metadata": {},
   "source": [
    "<br>"
   ]
  },
  {
   "cell_type": "markdown",
   "metadata": {},
   "source": [
    "<h4><u>A Quick Look at Time Series Data Samples</u></h4>"
   ]
  },
  {
   "cell_type": "code",
   "execution_count": 117,
   "metadata": {},
   "outputs": [],
   "source": [
    "options(repr.plot.width = 11, repr.plot.height = 5)"
   ]
  },
  {
   "cell_type": "code",
   "execution_count": 118,
   "metadata": {},
   "outputs": [
    {
     "data": {
      "text/html": [
       "<table>\n",
       "<caption>A data.frame: 2 × 14</caption>\n",
       "<thead>\n",
       "\t<tr><th scope=col>V1</th><th scope=col>V2</th><th scope=col>V3</th><th scope=col>V4</th><th scope=col>V5</th><th scope=col>V6</th><th scope=col>V7</th><th scope=col>V8</th><th scope=col>V9</th><th scope=col>V10</th><th scope=col>V11</th><th scope=col>V12</th><th scope=col>V13</th><th scope=col>V14</th></tr>\n",
       "\t<tr><th scope=col>&lt;chr&gt;</th><th scope=col>&lt;chr&gt;</th><th scope=col>&lt;chr&gt;</th><th scope=col>&lt;chr&gt;</th><th scope=col>&lt;chr&gt;</th><th scope=col>&lt;chr&gt;</th><th scope=col>&lt;chr&gt;</th><th scope=col>&lt;chr&gt;</th><th scope=col>&lt;chr&gt;</th><th scope=col>&lt;chr&gt;</th><th scope=col>&lt;chr&gt;</th><th scope=col>&lt;chr&gt;</th><th scope=col>&lt;chr&gt;</th><th scope=col>&lt;chr&gt;</th></tr>\n",
       "</thead>\n",
       "<tbody>\n",
       "\t<tr><td>Month</td><td>Coal Production</td><td>Natural Gas (Dry) Production</td><td>Crude Oil Production</td><td>Natural Gas Plant Liquids Production</td><td>Total Fossil Fuels Production</td><td>Nuclear Electric Power Production</td><td>Hydroelectric Power Production</td><td>Geothermal Energy Production</td><td>Solar Energy Production</td><td>Wind Energy Production</td><td>Biomass Energy Production</td><td>Total Renewable Energy Production</td><td>Total Primary Energy Production</td></tr>\n",
       "\t<tr><td>NA   </td><td>(Trillion Btu) </td><td>(Trillion Btu)              </td><td>(Trillion Btu)      </td><td>(Trillion Btu)                      </td><td>(Trillion Btu)               </td><td>(Trillion Btu)                   </td><td>(Trillion Btu)                </td><td>(Trillion Btu)              </td><td>(Trillion Btu)         </td><td>(Trillion Btu)        </td><td>(Trillion Btu)           </td><td>(Trillion Btu)                   </td><td>(Trillion Btu)                 </td></tr>\n",
       "</tbody>\n",
       "</table>\n"
      ],
      "text/latex": [
       "A data.frame: 2 × 14\n",
       "\\begin{tabular}{llllllllllllll}\n",
       " V1 & V2 & V3 & V4 & V5 & V6 & V7 & V8 & V9 & V10 & V11 & V12 & V13 & V14\\\\\n",
       " <chr> & <chr> & <chr> & <chr> & <chr> & <chr> & <chr> & <chr> & <chr> & <chr> & <chr> & <chr> & <chr> & <chr>\\\\\n",
       "\\hline\n",
       "\t Month & Coal Production & Natural Gas (Dry) Production & Crude Oil Production & Natural Gas Plant Liquids Production & Total Fossil Fuels Production & Nuclear Electric Power Production & Hydroelectric Power Production & Geothermal Energy Production & Solar Energy Production & Wind Energy Production & Biomass Energy Production & Total Renewable Energy Production & Total Primary Energy Production\\\\\n",
       "\t NA    & (Trillion Btu)  & (Trillion Btu)               & (Trillion Btu)       & (Trillion Btu)                       & (Trillion Btu)                & (Trillion Btu)                    & (Trillion Btu)                 & (Trillion Btu)               & (Trillion Btu)          & (Trillion Btu)         & (Trillion Btu)            & (Trillion Btu)                    & (Trillion Btu)                 \\\\\n",
       "\\end{tabular}\n"
      ],
      "text/markdown": [
       "\n",
       "A data.frame: 2 × 14\n",
       "\n",
       "| V1 &lt;chr&gt; | V2 &lt;chr&gt; | V3 &lt;chr&gt; | V4 &lt;chr&gt; | V5 &lt;chr&gt; | V6 &lt;chr&gt; | V7 &lt;chr&gt; | V8 &lt;chr&gt; | V9 &lt;chr&gt; | V10 &lt;chr&gt; | V11 &lt;chr&gt; | V12 &lt;chr&gt; | V13 &lt;chr&gt; | V14 &lt;chr&gt; |\n",
       "|---|---|---|---|---|---|---|---|---|---|---|---|---|---|\n",
       "| Month | Coal Production | Natural Gas (Dry) Production | Crude Oil Production | Natural Gas Plant Liquids Production | Total Fossil Fuels Production | Nuclear Electric Power Production | Hydroelectric Power Production | Geothermal Energy Production | Solar Energy Production | Wind Energy Production | Biomass Energy Production | Total Renewable Energy Production | Total Primary Energy Production |\n",
       "| NA    | (Trillion Btu)  | (Trillion Btu)               | (Trillion Btu)       | (Trillion Btu)                       | (Trillion Btu)                | (Trillion Btu)                    | (Trillion Btu)                 | (Trillion Btu)               | (Trillion Btu)          | (Trillion Btu)         | (Trillion Btu)            | (Trillion Btu)                    | (Trillion Btu)                  |\n",
       "\n"
      ],
      "text/plain": [
       "  V1    V2              V3                           V4                  \n",
       "1 Month Coal Production Natural Gas (Dry) Production Crude Oil Production\n",
       "2 NA    (Trillion Btu)  (Trillion Btu)               (Trillion Btu)      \n",
       "  V5                                   V6                           \n",
       "1 Natural Gas Plant Liquids Production Total Fossil Fuels Production\n",
       "2 (Trillion Btu)                       (Trillion Btu)               \n",
       "  V7                                V8                            \n",
       "1 Nuclear Electric Power Production Hydroelectric Power Production\n",
       "2 (Trillion Btu)                    (Trillion Btu)                \n",
       "  V9                           V10                     V11                   \n",
       "1 Geothermal Energy Production Solar Energy Production Wind Energy Production\n",
       "2 (Trillion Btu)               (Trillion Btu)          (Trillion Btu)        \n",
       "  V12                       V13                              \n",
       "1 Biomass Energy Production Total Renewable Energy Production\n",
       "2 (Trillion Btu)            (Trillion Btu)                   \n",
       "  V14                            \n",
       "1 Total Primary Energy Production\n",
       "2 (Trillion Btu)                 "
      ]
     },
     "metadata": {},
     "output_type": "display_data"
    }
   ],
   "source": [
    "monthly_meta$Prod_by_Source"
   ]
  },
  {
   "cell_type": "code",
   "execution_count": 119,
   "metadata": {
    "slideshow": {
     "slide_type": "slide"
    }
   },
   "outputs": [
    {
     "data": {
      "image/png": "[encoded data removed]",
      "text/plain": [
       "plot without title"
      ]
     },
     "metadata": {},
     "output_type": "display_data"
    }
   ],
   "source": [
    "autoplot(cbind(\"Fossil Fuels\"  = monthly_dta_ts$Prod_by_Source[,\"V6\"], \n",
    "               \"Renewables\" = monthly_dta_ts$Prod_by_Source[,\"V13\"])) + \n",
    "                xlab(\"Year\") + ylab(\"Production (Trillion Btu)\") + guides(color = guide_legend(title = \"Energy Source\"))"
   ]
  },
  {
   "cell_type": "markdown",
   "metadata": {},
   "source": [
    "Renewables have a looong way to go..."
   ]
  },
  {
   "cell_type": "markdown",
   "metadata": {},
   "source": [
    "<br>"
   ]
  },
  {
   "cell_type": "code",
   "execution_count": 120,
   "metadata": {},
   "outputs": [
    {
     "data": {
      "image/png": "[encoded data removed]",
      "text/plain": [
       "plot without title"
      ]
     },
     "metadata": {},
     "output_type": "display_data"
    }
   ],
   "source": [
    "autoplot(cbind(\"Wind\"  = IL_wind_ts, \"Solar\" = IL_solar_ts)) + \n",
    "                xlab(\"Year\") + ylab(\"Production (MWh)\") + ggtitle(\"Wind and Solar in Illinois\") +\n",
    "                guides(color = guide_legend(title = \"Energy Source\"))"
   ]
  },
  {
   "cell_type": "markdown",
   "metadata": {},
   "source": [
    "It should not be surprising to see that wind is doing much better as a source of energy in IL compared to solar power."
   ]
  },
  {
   "cell_type": "markdown",
   "metadata": {},
   "source": [
    "<br>"
   ]
  },
  {
   "cell_type": "markdown",
   "metadata": {},
   "source": [
    "<h4><u>Save the Data for Reuse</u></h4>"
   ]
  },
  {
   "cell_type": "code",
   "execution_count": 121,
   "metadata": {},
   "outputs": [],
   "source": [
    "save(monthly_dta, monthly_meta, file = \"Monthly_Data.RData\")\n",
    "save(yearly_dta, yearly_meta, file = \"Yearly_Data.RData\")\n",
    "save(IL_data, IL_solar, IL_wind, IL_wind_ts, IL_solar_ts, file = \"IL_Data.RData\")\n",
    "save(monthly_dta_ts, yearly_dta_ts, file = \"Time_Series.RData\")"
   ]
  },
  {
   "cell_type": "markdown",
   "metadata": {},
   "source": [
    "---"
   ]
  },
  {
   "cell_type": "markdown",
   "metadata": {},
   "source": [
    "<br>"
   ]
  },
  {
   "cell_type": "markdown",
   "metadata": {},
   "source": [
    "<h3><b>Installed Capacity Data</b></h3>"
   ]
  },
  {
   "cell_type": "code",
   "execution_count": 25,
   "metadata": {},
   "outputs": [
    {
     "data": {
      "text/html": [
       "<table>\n",
       "<caption>A data.frame: 6 × 31</caption>\n",
       "<thead>\n",
       "\t<tr><th></th><th scope=col>Entity.ID</th><th scope=col>Entity.Name</th><th scope=col>Plant.ID</th><th scope=col>Plant.Name</th><th scope=col>Sector</th><th scope=col>Plant.State</th><th scope=col>Generator.ID</th><th scope=col>Unit.Code</th><th scope=col>Nameplate.Capacity..MW.</th><th scope=col>Net.Summer.Capacity..MW.</th><th scope=col>⋯</th><th scope=col>Planned.Derate.of.Summer.Capacity..MW.</th><th scope=col>Planned.Uprate.Year</th><th scope=col>Planned.Uprate.Month</th><th scope=col>Planned.Uprate.of.Summer.Capacity..MW.</th><th scope=col>County</th><th scope=col>Latitude</th><th scope=col>Longitude</th><th scope=col>Google.Map</th><th scope=col>Bing.Map</th><th scope=col>Balancing.Authority.Code</th></tr>\n",
       "\t<tr><th></th><th scope=col>&lt;fct&gt;</th><th scope=col>&lt;fct&gt;</th><th scope=col>&lt;int&gt;</th><th scope=col>&lt;fct&gt;</th><th scope=col>&lt;fct&gt;</th><th scope=col>&lt;fct&gt;</th><th scope=col>&lt;fct&gt;</th><th scope=col>&lt;fct&gt;</th><th scope=col>&lt;fct&gt;</th><th scope=col>&lt;fct&gt;</th><th scope=col>⋯</th><th scope=col>&lt;dbl&gt;</th><th scope=col>&lt;int&gt;</th><th scope=col>&lt;int&gt;</th><th scope=col>&lt;dbl&gt;</th><th scope=col>&lt;fct&gt;</th><th scope=col>&lt;dbl&gt;</th><th scope=col>&lt;dbl&gt;</th><th scope=col>&lt;fct&gt;</th><th scope=col>&lt;fct&gt;</th><th scope=col>&lt;fct&gt;</th></tr>\n",
       "</thead>\n",
       "<tbody>\n",
       "\t<tr><th scope=row>1</th><td>195</td><td>Alabama Power Co</td><td>2</td><td>Bankhead Dam</td><td>Electric Utility</td><td>AL</td><td>1   </td><td>    </td><td>53.9 </td><td>53.0 </td><td>⋯</td><td>NA</td><td>NA</td><td>NA</td><td>NA</td><td>Tuscaloosa</td><td>33.45867</td><td>-87.35682</td><td>Map</td><td>Map</td><td>SOCO</td></tr>\n",
       "\t<tr><th scope=row>2</th><td>195</td><td>Alabama Power Co</td><td>3</td><td>Barry       </td><td>Electric Utility</td><td>AL</td><td>1   </td><td>    </td><td>153.1</td><td>55.5 </td><td>⋯</td><td>NA</td><td>NA</td><td>NA</td><td>NA</td><td>Mobile    </td><td>31.00690</td><td>-88.01030</td><td>Map</td><td>Map</td><td>SOCO</td></tr>\n",
       "\t<tr><th scope=row>3</th><td>195</td><td>Alabama Power Co</td><td>3</td><td>Barry       </td><td>Electric Utility</td><td>AL</td><td>2   </td><td>    </td><td>153.1</td><td>55.5 </td><td>⋯</td><td>NA</td><td>NA</td><td>NA</td><td>NA</td><td>Mobile    </td><td>31.00690</td><td>-88.01030</td><td>Map</td><td>Map</td><td>SOCO</td></tr>\n",
       "\t<tr><th scope=row>4</th><td>195</td><td>Alabama Power Co</td><td>3</td><td>Barry       </td><td>Electric Utility</td><td>AL</td><td>4   </td><td>    </td><td>403.7</td><td>362.0</td><td>⋯</td><td>NA</td><td>NA</td><td>NA</td><td>NA</td><td>Mobile    </td><td>31.00690</td><td>-88.01030</td><td>Map</td><td>Map</td><td>SOCO</td></tr>\n",
       "\t<tr><th scope=row>5</th><td>195</td><td>Alabama Power Co</td><td>3</td><td>Barry       </td><td>Electric Utility</td><td>AL</td><td>5   </td><td>    </td><td>788.8</td><td>756.5</td><td>⋯</td><td>NA</td><td>NA</td><td>NA</td><td>NA</td><td>Mobile    </td><td>31.00690</td><td>-88.01030</td><td>Map</td><td>Map</td><td>SOCO</td></tr>\n",
       "\t<tr><th scope=row>6</th><td>195</td><td>Alabama Power Co</td><td>3</td><td>Barry       </td><td>Electric Utility</td><td>AL</td><td>A1CT</td><td>G521</td><td>170.1</td><td>175.6</td><td>⋯</td><td>NA</td><td>NA</td><td>NA</td><td>NA</td><td>Mobile    </td><td>31.00690</td><td>-88.01030</td><td>Map</td><td>Map</td><td>SOCO</td></tr>\n",
       "</tbody>\n",
       "</table>\n"
      ],
      "text/latex": [
       "A data.frame: 6 × 31\n",
       "\\begin{tabular}{r|lllllllllllllllllllll}\n",
       "  & Entity.ID & Entity.Name & Plant.ID & Plant.Name & Sector & Plant.State & Generator.ID & Unit.Code & Nameplate.Capacity..MW. & Net.Summer.Capacity..MW. & ⋯ & Planned.Derate.of.Summer.Capacity..MW. & Planned.Uprate.Year & Planned.Uprate.Month & Planned.Uprate.of.Summer.Capacity..MW. & County & Latitude & Longitude & Google.Map & Bing.Map & Balancing.Authority.Code\\\\\n",
       "  & <fct> & <fct> & <int> & <fct> & <fct> & <fct> & <fct> & <fct> & <fct> & <fct> & ⋯ & <dbl> & <int> & <int> & <dbl> & <fct> & <dbl> & <dbl> & <fct> & <fct> & <fct>\\\\\n",
       "\\hline\n",
       "\t1 & 195 & Alabama Power Co & 2 & Bankhead Dam & Electric Utility & AL & 1    &      & 53.9  & 53.0  & ⋯ & NA & NA & NA & NA & Tuscaloosa & 33.45867 & -87.35682 & Map & Map & SOCO\\\\\n",
       "\t2 & 195 & Alabama Power Co & 3 & Barry        & Electric Utility & AL & 1    &      & 153.1 & 55.5  & ⋯ & NA & NA & NA & NA & Mobile     & 31.00690 & -88.01030 & Map & Map & SOCO\\\\\n",
       "\t3 & 195 & Alabama Power Co & 3 & Barry        & Electric Utility & AL & 2    &      & 153.1 & 55.5  & ⋯ & NA & NA & NA & NA & Mobile     & 31.00690 & -88.01030 & Map & Map & SOCO\\\\\n",
       "\t4 & 195 & Alabama Power Co & 3 & Barry        & Electric Utility & AL & 4    &      & 403.7 & 362.0 & ⋯ & NA & NA & NA & NA & Mobile     & 31.00690 & -88.01030 & Map & Map & SOCO\\\\\n",
       "\t5 & 195 & Alabama Power Co & 3 & Barry        & Electric Utility & AL & 5    &      & 788.8 & 756.5 & ⋯ & NA & NA & NA & NA & Mobile     & 31.00690 & -88.01030 & Map & Map & SOCO\\\\\n",
       "\t6 & 195 & Alabama Power Co & 3 & Barry        & Electric Utility & AL & A1CT & G521 & 170.1 & 175.6 & ⋯ & NA & NA & NA & NA & Mobile     & 31.00690 & -88.01030 & Map & Map & SOCO\\\\\n",
       "\\end{tabular}\n"
      ],
      "text/markdown": [
       "\n",
       "A data.frame: 6 × 31\n",
       "\n",
       "| <!--/--> | Entity.ID &lt;fct&gt; | Entity.Name &lt;fct&gt; | Plant.ID &lt;int&gt; | Plant.Name &lt;fct&gt; | Sector &lt;fct&gt; | Plant.State &lt;fct&gt; | Generator.ID &lt;fct&gt; | Unit.Code &lt;fct&gt; | Nameplate.Capacity..MW. &lt;fct&gt; | Net.Summer.Capacity..MW. &lt;fct&gt; | ⋯ ⋯ | Planned.Derate.of.Summer.Capacity..MW. &lt;dbl&gt; | Planned.Uprate.Year &lt;int&gt; | Planned.Uprate.Month &lt;int&gt; | Planned.Uprate.of.Summer.Capacity..MW. &lt;dbl&gt; | County &lt;fct&gt; | Latitude &lt;dbl&gt; | Longitude &lt;dbl&gt; | Google.Map &lt;fct&gt; | Bing.Map &lt;fct&gt; | Balancing.Authority.Code &lt;fct&gt; |\n",
       "|---|---|---|---|---|---|---|---|---|---|---|---|---|---|---|---|---|---|---|---|---|---|\n",
       "| 1 | 195 | Alabama Power Co | 2 | Bankhead Dam | Electric Utility | AL | 1    | <!----> | 53.9  | 53.0  | ⋯ | NA | NA | NA | NA | Tuscaloosa | 33.45867 | -87.35682 | Map | Map | SOCO |\n",
       "| 2 | 195 | Alabama Power Co | 3 | Barry        | Electric Utility | AL | 1    | <!----> | 153.1 | 55.5  | ⋯ | NA | NA | NA | NA | Mobile     | 31.00690 | -88.01030 | Map | Map | SOCO |\n",
       "| 3 | 195 | Alabama Power Co | 3 | Barry        | Electric Utility | AL | 2    | <!----> | 153.1 | 55.5  | ⋯ | NA | NA | NA | NA | Mobile     | 31.00690 | -88.01030 | Map | Map | SOCO |\n",
       "| 4 | 195 | Alabama Power Co | 3 | Barry        | Electric Utility | AL | 4    | <!----> | 403.7 | 362.0 | ⋯ | NA | NA | NA | NA | Mobile     | 31.00690 | -88.01030 | Map | Map | SOCO |\n",
       "| 5 | 195 | Alabama Power Co | 3 | Barry        | Electric Utility | AL | 5    | <!----> | 788.8 | 756.5 | ⋯ | NA | NA | NA | NA | Mobile     | 31.00690 | -88.01030 | Map | Map | SOCO |\n",
       "| 6 | 195 | Alabama Power Co | 3 | Barry        | Electric Utility | AL | A1CT | G521 | 170.1 | 175.6 | ⋯ | NA | NA | NA | NA | Mobile     | 31.00690 | -88.01030 | Map | Map | SOCO |\n",
       "\n"
      ],
      "text/plain": [
       "  Entity.ID Entity.Name      Plant.ID Plant.Name   Sector           Plant.State\n",
       "1 195       Alabama Power Co 2        Bankhead Dam Electric Utility AL         \n",
       "2 195       Alabama Power Co 3        Barry        Electric Utility AL         \n",
       "3 195       Alabama Power Co 3        Barry        Electric Utility AL         \n",
       "4 195       Alabama Power Co 3        Barry        Electric Utility AL         \n",
       "5 195       Alabama Power Co 3        Barry        Electric Utility AL         \n",
       "6 195       Alabama Power Co 3        Barry        Electric Utility AL         \n",
       "  Generator.ID Unit.Code Nameplate.Capacity..MW. Net.Summer.Capacity..MW. ⋯\n",
       "1 1                      53.9                    53.0                     ⋯\n",
       "2 1                      153.1                   55.5                     ⋯\n",
       "3 2                      153.1                   55.5                     ⋯\n",
       "4 4                      403.7                   362.0                    ⋯\n",
       "5 5                      788.8                   756.5                    ⋯\n",
       "6 A1CT         G521      170.1                   175.6                    ⋯\n",
       "  Planned.Derate.of.Summer.Capacity..MW. Planned.Uprate.Year\n",
       "1 NA                                     NA                 \n",
       "2 NA                                     NA                 \n",
       "3 NA                                     NA                 \n",
       "4 NA                                     NA                 \n",
       "5 NA                                     NA                 \n",
       "6 NA                                     NA                 \n",
       "  Planned.Uprate.Month Planned.Uprate.of.Summer.Capacity..MW. County    \n",
       "1 NA                   NA                                     Tuscaloosa\n",
       "2 NA                   NA                                     Mobile    \n",
       "3 NA                   NA                                     Mobile    \n",
       "4 NA                   NA                                     Mobile    \n",
       "5 NA                   NA                                     Mobile    \n",
       "6 NA                   NA                                     Mobile    \n",
       "  Latitude Longitude Google.Map Bing.Map Balancing.Authority.Code\n",
       "1 33.45867 -87.35682 Map        Map      SOCO                    \n",
       "2 31.00690 -88.01030 Map        Map      SOCO                    \n",
       "3 31.00690 -88.01030 Map        Map      SOCO                    \n",
       "4 31.00690 -88.01030 Map        Map      SOCO                    \n",
       "5 31.00690 -88.01030 Map        Map      SOCO                    \n",
       "6 31.00690 -88.01030 Map        Map      SOCO                    "
      ]
     },
     "metadata": {},
     "output_type": "display_data"
    }
   ],
   "source": [
    "capacity <- read.csv(file = \"Data/EIA/december2019_installedCapacity.csv\", skip = 1, header = T, fill = T)\n",
    "head(capacity)"
   ]
  },
  {
   "cell_type": "markdown",
   "metadata": {},
   "source": [
    "<br>\n",
    "We only need a few of these columns for analysis:"
   ]
  },
  {
   "cell_type": "code",
   "execution_count": 26,
   "metadata": {},
   "outputs": [
    {
     "name": "stdout",
     "output_type": "stream",
     "text": [
      "[1] \"Plant.Name\"              \"Sector\"                 \n",
      "[3] \"Plant.State\"             \"Nameplate.Capacity..MW.\"\n",
      "[5] \"Technology\"              \"Energy.Source.Code\"     \n",
      "[7] \"Operating.Month\"         \"Operating.Year\"         \n",
      "[9] \"Status\"                 \n"
     ]
    }
   ],
   "source": [
    "# print(colnames(capacity))\n",
    "columns <- colnames(capacity)[c(4:6, 9, 12:13, 15:16, 19)]  # columns of interest\n",
    "print(columns)"
   ]
  },
  {
   "cell_type": "code",
   "execution_count": 27,
   "metadata": {},
   "outputs": [
    {
     "name": "stderr",
     "output_type": "stream",
     "text": [
      "Warning message in eval(expr, envir, enclos):\n",
      "“NAs introduced by coercion”"
     ]
    }
   ],
   "source": [
    "# Use the selected columns and rename for readability\n",
    "capacity <- capacity[, columns]\n",
    "colnames(capacity)[c(1,3,4,6)] <- c(\"Name\", \"State\", \"Capacity.MW\", \"Source\")\n",
    "capacity$Capacity.MW <- as.numeric(as.character(capacity$Capacity.MW))"
   ]
  },
  {
   "cell_type": "code",
   "execution_count": 28,
   "metadata": {},
   "outputs": [
    {
     "data": {
      "text/html": [
       "<table>\n",
       "<caption>A data.frame: 6 × 9</caption>\n",
       "<thead>\n",
       "\t<tr><th></th><th scope=col>Name</th><th scope=col>Sector</th><th scope=col>State</th><th scope=col>Capacity.MW</th><th scope=col>Technology</th><th scope=col>Source</th><th scope=col>Operating.Month</th><th scope=col>Operating.Year</th><th scope=col>Status</th></tr>\n",
       "\t<tr><th></th><th scope=col>&lt;fct&gt;</th><th scope=col>&lt;fct&gt;</th><th scope=col>&lt;fct&gt;</th><th scope=col>&lt;dbl&gt;</th><th scope=col>&lt;fct&gt;</th><th scope=col>&lt;fct&gt;</th><th scope=col>&lt;int&gt;</th><th scope=col>&lt;int&gt;</th><th scope=col>&lt;fct&gt;</th></tr>\n",
       "</thead>\n",
       "<tbody>\n",
       "\t<tr><th scope=row>1</th><td>Bankhead Dam</td><td>Electric Utility</td><td>AL</td><td> 53.9</td><td>Conventional Hydroelectric      </td><td>WAT</td><td> 7</td><td>1963</td><td>(OP) Operating</td></tr>\n",
       "\t<tr><th scope=row>2</th><td>Barry       </td><td>Electric Utility</td><td>AL</td><td>153.1</td><td>Natural Gas Steam Turbine       </td><td>NG </td><td> 2</td><td>1954</td><td>(OP) Operating</td></tr>\n",
       "\t<tr><th scope=row>3</th><td>Barry       </td><td>Electric Utility</td><td>AL</td><td>153.1</td><td>Natural Gas Steam Turbine       </td><td>NG </td><td> 7</td><td>1954</td><td>(OP) Operating</td></tr>\n",
       "\t<tr><th scope=row>4</th><td>Barry       </td><td>Electric Utility</td><td>AL</td><td>403.7</td><td>Conventional Steam Coal         </td><td>BIT</td><td>12</td><td>1969</td><td>(OP) Operating</td></tr>\n",
       "\t<tr><th scope=row>5</th><td>Barry       </td><td>Electric Utility</td><td>AL</td><td>788.8</td><td>Conventional Steam Coal         </td><td>BIT</td><td>10</td><td>1971</td><td>(OP) Operating</td></tr>\n",
       "\t<tr><th scope=row>6</th><td>Barry       </td><td>Electric Utility</td><td>AL</td><td>170.1</td><td>Natural Gas Fired Combined Cycle</td><td>NG </td><td> 5</td><td>2000</td><td>(OP) Operating</td></tr>\n",
       "</tbody>\n",
       "</table>\n"
      ],
      "text/latex": [
       "A data.frame: 6 × 9\n",
       "\\begin{tabular}{r|lllllllll}\n",
       "  & Name & Sector & State & Capacity.MW & Technology & Source & Operating.Month & Operating.Year & Status\\\\\n",
       "  & <fct> & <fct> & <fct> & <dbl> & <fct> & <fct> & <int> & <int> & <fct>\\\\\n",
       "\\hline\n",
       "\t1 & Bankhead Dam & Electric Utility & AL &  53.9 & Conventional Hydroelectric       & WAT &  7 & 1963 & (OP) Operating\\\\\n",
       "\t2 & Barry        & Electric Utility & AL & 153.1 & Natural Gas Steam Turbine        & NG  &  2 & 1954 & (OP) Operating\\\\\n",
       "\t3 & Barry        & Electric Utility & AL & 153.1 & Natural Gas Steam Turbine        & NG  &  7 & 1954 & (OP) Operating\\\\\n",
       "\t4 & Barry        & Electric Utility & AL & 403.7 & Conventional Steam Coal          & BIT & 12 & 1969 & (OP) Operating\\\\\n",
       "\t5 & Barry        & Electric Utility & AL & 788.8 & Conventional Steam Coal          & BIT & 10 & 1971 & (OP) Operating\\\\\n",
       "\t6 & Barry        & Electric Utility & AL & 170.1 & Natural Gas Fired Combined Cycle & NG  &  5 & 2000 & (OP) Operating\\\\\n",
       "\\end{tabular}\n"
      ],
      "text/markdown": [
       "\n",
       "A data.frame: 6 × 9\n",
       "\n",
       "| <!--/--> | Name &lt;fct&gt; | Sector &lt;fct&gt; | State &lt;fct&gt; | Capacity.MW &lt;dbl&gt; | Technology &lt;fct&gt; | Source &lt;fct&gt; | Operating.Month &lt;int&gt; | Operating.Year &lt;int&gt; | Status &lt;fct&gt; |\n",
       "|---|---|---|---|---|---|---|---|---|---|\n",
       "| 1 | Bankhead Dam | Electric Utility | AL |  53.9 | Conventional Hydroelectric       | WAT |  7 | 1963 | (OP) Operating |\n",
       "| 2 | Barry        | Electric Utility | AL | 153.1 | Natural Gas Steam Turbine        | NG  |  2 | 1954 | (OP) Operating |\n",
       "| 3 | Barry        | Electric Utility | AL | 153.1 | Natural Gas Steam Turbine        | NG  |  7 | 1954 | (OP) Operating |\n",
       "| 4 | Barry        | Electric Utility | AL | 403.7 | Conventional Steam Coal          | BIT | 12 | 1969 | (OP) Operating |\n",
       "| 5 | Barry        | Electric Utility | AL | 788.8 | Conventional Steam Coal          | BIT | 10 | 1971 | (OP) Operating |\n",
       "| 6 | Barry        | Electric Utility | AL | 170.1 | Natural Gas Fired Combined Cycle | NG  |  5 | 2000 | (OP) Operating |\n",
       "\n"
      ],
      "text/plain": [
       "  Name         Sector           State Capacity.MW\n",
       "1 Bankhead Dam Electric Utility AL     53.9      \n",
       "2 Barry        Electric Utility AL    153.1      \n",
       "3 Barry        Electric Utility AL    153.1      \n",
       "4 Barry        Electric Utility AL    403.7      \n",
       "5 Barry        Electric Utility AL    788.8      \n",
       "6 Barry        Electric Utility AL    170.1      \n",
       "  Technology                       Source Operating.Month Operating.Year\n",
       "1 Conventional Hydroelectric       WAT     7              1963          \n",
       "2 Natural Gas Steam Turbine        NG      2              1954          \n",
       "3 Natural Gas Steam Turbine        NG      7              1954          \n",
       "4 Conventional Steam Coal          BIT    12              1969          \n",
       "5 Conventional Steam Coal          BIT    10              1971          \n",
       "6 Natural Gas Fired Combined Cycle NG      5              2000          \n",
       "  Status        \n",
       "1 (OP) Operating\n",
       "2 (OP) Operating\n",
       "3 (OP) Operating\n",
       "4 (OP) Operating\n",
       "5 (OP) Operating\n",
       "6 (OP) Operating"
      ]
     },
     "metadata": {},
     "output_type": "display_data"
    }
   ],
   "source": [
    "head(capacity)"
   ]
  },
  {
   "cell_type": "markdown",
   "metadata": {},
   "source": [
    "Using `unique(capacity$Source)` shows that wind energy has the code \"WND\" and solar energy is \"SUN\". Next, subset the data into wind energy and solar energy installed capacity."
   ]
  },
  {
   "cell_type": "markdown",
   "metadata": {},
   "source": [
    "<h3><u>Wind Energy</u></h3>"
   ]
  },
  {
   "cell_type": "code",
   "execution_count": 29,
   "metadata": {},
   "outputs": [
    {
     "data": {
      "text/html": [
       "<table>\n",
       "<caption>A data.frame: 6 × 9</caption>\n",
       "<thead>\n",
       "\t<tr><th></th><th scope=col>Name</th><th scope=col>Sector</th><th scope=col>State</th><th scope=col>Capacity.MW</th><th scope=col>Technology</th><th scope=col>Source</th><th scope=col>Operating.Month</th><th scope=col>Operating.Year</th><th scope=col>Status</th></tr>\n",
       "\t<tr><th></th><th scope=col>&lt;fct&gt;</th><th scope=col>&lt;fct&gt;</th><th scope=col>&lt;fct&gt;</th><th scope=col>&lt;dbl&gt;</th><th scope=col>&lt;fct&gt;</th><th scope=col>&lt;fct&gt;</th><th scope=col>&lt;int&gt;</th><th scope=col>&lt;int&gt;</th><th scope=col>&lt;fct&gt;</th></tr>\n",
       "</thead>\n",
       "<tbody>\n",
       "\t<tr><th scope=row>193</th><td>Snake River </td><td>Electric Utility</td><td>AK</td><td>0.8</td><td>Onshore Wind Turbine</td><td>WND</td><td>1</td><td>2015</td><td>(OP) Operating</td></tr>\n",
       "\t<tr><th scope=row>194</th><td>Snake River </td><td>Electric Utility</td><td>AK</td><td>0.9</td><td>Onshore Wind Turbine</td><td>WND</td><td>7</td><td>2013</td><td>(OP) Operating</td></tr>\n",
       "\t<tr><th scope=row>195</th><td>Snake River </td><td>Electric Utility</td><td>AK</td><td>0.9</td><td>Onshore Wind Turbine</td><td>WND</td><td>7</td><td>2013</td><td>(OP) Operating</td></tr>\n",
       "\t<tr><th scope=row>882</th><td>Lamar Plant </td><td>Electric Utility</td><td>CO</td><td>4.5</td><td>Onshore Wind Turbine</td><td>WND</td><td>2</td><td>2004</td><td>(OP) Operating</td></tr>\n",
       "\t<tr><th scope=row>883</th><td>Lamar Plant </td><td>Electric Utility</td><td>CO</td><td>1.5</td><td>Onshore Wind Turbine</td><td>WND</td><td>2</td><td>2004</td><td>(OP) Operating</td></tr>\n",
       "\t<tr><th scope=row>1184</th><td>Medicine Bow</td><td>IPP Non-CHP     </td><td>WY</td><td>0.7</td><td>Onshore Wind Turbine</td><td>WND</td><td>7</td><td>2000</td><td>(OP) Operating</td></tr>\n",
       "</tbody>\n",
       "</table>\n"
      ],
      "text/latex": [
       "A data.frame: 6 × 9\n",
       "\\begin{tabular}{r|lllllllll}\n",
       "  & Name & Sector & State & Capacity.MW & Technology & Source & Operating.Month & Operating.Year & Status\\\\\n",
       "  & <fct> & <fct> & <fct> & <dbl> & <fct> & <fct> & <int> & <int> & <fct>\\\\\n",
       "\\hline\n",
       "\t193 & Snake River  & Electric Utility & AK & 0.8 & Onshore Wind Turbine & WND & 1 & 2015 & (OP) Operating\\\\\n",
       "\t194 & Snake River  & Electric Utility & AK & 0.9 & Onshore Wind Turbine & WND & 7 & 2013 & (OP) Operating\\\\\n",
       "\t195 & Snake River  & Electric Utility & AK & 0.9 & Onshore Wind Turbine & WND & 7 & 2013 & (OP) Operating\\\\\n",
       "\t882 & Lamar Plant  & Electric Utility & CO & 4.5 & Onshore Wind Turbine & WND & 2 & 2004 & (OP) Operating\\\\\n",
       "\t883 & Lamar Plant  & Electric Utility & CO & 1.5 & Onshore Wind Turbine & WND & 2 & 2004 & (OP) Operating\\\\\n",
       "\t1184 & Medicine Bow & IPP Non-CHP      & WY & 0.7 & Onshore Wind Turbine & WND & 7 & 2000 & (OP) Operating\\\\\n",
       "\\end{tabular}\n"
      ],
      "text/markdown": [
       "\n",
       "A data.frame: 6 × 9\n",
       "\n",
       "| <!--/--> | Name &lt;fct&gt; | Sector &lt;fct&gt; | State &lt;fct&gt; | Capacity.MW &lt;dbl&gt; | Technology &lt;fct&gt; | Source &lt;fct&gt; | Operating.Month &lt;int&gt; | Operating.Year &lt;int&gt; | Status &lt;fct&gt; |\n",
       "|---|---|---|---|---|---|---|---|---|---|\n",
       "| 193 | Snake River  | Electric Utility | AK | 0.8 | Onshore Wind Turbine | WND | 1 | 2015 | (OP) Operating |\n",
       "| 194 | Snake River  | Electric Utility | AK | 0.9 | Onshore Wind Turbine | WND | 7 | 2013 | (OP) Operating |\n",
       "| 195 | Snake River  | Electric Utility | AK | 0.9 | Onshore Wind Turbine | WND | 7 | 2013 | (OP) Operating |\n",
       "| 882 | Lamar Plant  | Electric Utility | CO | 4.5 | Onshore Wind Turbine | WND | 2 | 2004 | (OP) Operating |\n",
       "| 883 | Lamar Plant  | Electric Utility | CO | 1.5 | Onshore Wind Turbine | WND | 2 | 2004 | (OP) Operating |\n",
       "| 1184 | Medicine Bow | IPP Non-CHP      | WY | 0.7 | Onshore Wind Turbine | WND | 7 | 2000 | (OP) Operating |\n",
       "\n"
      ],
      "text/plain": [
       "     Name         Sector           State Capacity.MW Technology          \n",
       "193  Snake River  Electric Utility AK    0.8         Onshore Wind Turbine\n",
       "194  Snake River  Electric Utility AK    0.9         Onshore Wind Turbine\n",
       "195  Snake River  Electric Utility AK    0.9         Onshore Wind Turbine\n",
       "882  Lamar Plant  Electric Utility CO    4.5         Onshore Wind Turbine\n",
       "883  Lamar Plant  Electric Utility CO    1.5         Onshore Wind Turbine\n",
       "1184 Medicine Bow IPP Non-CHP      WY    0.7         Onshore Wind Turbine\n",
       "     Source Operating.Month Operating.Year Status        \n",
       "193  WND    1               2015           (OP) Operating\n",
       "194  WND    7               2013           (OP) Operating\n",
       "195  WND    7               2013           (OP) Operating\n",
       "882  WND    2               2004           (OP) Operating\n",
       "883  WND    2               2004           (OP) Operating\n",
       "1184 WND    7               2000           (OP) Operating"
      ]
     },
     "metadata": {},
     "output_type": "display_data"
    }
   ],
   "source": [
    "wind_cap <- capacity[capacity$Source == \"WND\",]\n",
    "head(wind_cap)"
   ]
  },
  {
   "cell_type": "markdown",
   "metadata": {},
   "source": [
    "Group the installed capacity by operating month and year and sum the total capacity for each month/year:"
   ]
  },
  {
   "cell_type": "code",
   "execution_count": 30,
   "metadata": {},
   "outputs": [
    {
     "data": {
      "text/html": [
       "<table>\n",
       "<caption>A data.frame: 10 × 3</caption>\n",
       "<thead>\n",
       "\t<tr><th></th><th scope=col>Operating.Year</th><th scope=col>Operating.Month</th><th scope=col>Capacity.MW</th></tr>\n",
       "\t<tr><th></th><th scope=col>&lt;int&gt;</th><th scope=col>&lt;int&gt;</th><th scope=col>&lt;dbl&gt;</th></tr>\n",
       "</thead>\n",
       "<tbody>\n",
       "\t<tr><th scope=row>120</th><td>1975</td><td> 7</td><td>16.5</td></tr>\n",
       "\t<tr><th scope=row>218</th><td>1981</td><td>12</td><td>17.3</td></tr>\n",
       "\t<tr><th scope=row>99</th><td>1982</td><td> 6</td><td> 3.5</td></tr>\n",
       "\t<tr><th scope=row>219</th><td>1982</td><td>12</td><td>15.3</td></tr>\n",
       "\t<tr><th scope=row>44</th><td>1983</td><td> 3</td><td>31.0</td></tr>\n",
       "\t<tr><th scope=row>1</th><td>1984</td><td> 1</td><td>36.4</td></tr>\n",
       "\t<tr><th scope=row>199</th><td>1984</td><td>11</td><td>29.9</td></tr>\n",
       "\t<tr><th scope=row>220</th><td>1984</td><td>12</td><td>71.7</td></tr>\n",
       "\t<tr><th scope=row>2</th><td>1985</td><td> 1</td><td>50.0</td></tr>\n",
       "\t<tr><th scope=row>221</th><td>1985</td><td>12</td><td>23.4</td></tr>\n",
       "</tbody>\n",
       "</table>\n"
      ],
      "text/latex": [
       "A data.frame: 10 × 3\n",
       "\\begin{tabular}{r|lll}\n",
       "  & Operating.Year & Operating.Month & Capacity.MW\\\\\n",
       "  & <int> & <int> & <dbl>\\\\\n",
       "\\hline\n",
       "\t120 & 1975 &  7 & 16.5\\\\\n",
       "\t218 & 1981 & 12 & 17.3\\\\\n",
       "\t99 & 1982 &  6 &  3.5\\\\\n",
       "\t219 & 1982 & 12 & 15.3\\\\\n",
       "\t44 & 1983 &  3 & 31.0\\\\\n",
       "\t1 & 1984 &  1 & 36.4\\\\\n",
       "\t199 & 1984 & 11 & 29.9\\\\\n",
       "\t220 & 1984 & 12 & 71.7\\\\\n",
       "\t2 & 1985 &  1 & 50.0\\\\\n",
       "\t221 & 1985 & 12 & 23.4\\\\\n",
       "\\end{tabular}\n"
      ],
      "text/markdown": [
       "\n",
       "A data.frame: 10 × 3\n",
       "\n",
       "| <!--/--> | Operating.Year &lt;int&gt; | Operating.Month &lt;int&gt; | Capacity.MW &lt;dbl&gt; |\n",
       "|---|---|---|---|\n",
       "| 120 | 1975 |  7 | 16.5 |\n",
       "| 218 | 1981 | 12 | 17.3 |\n",
       "| 99 | 1982 |  6 |  3.5 |\n",
       "| 219 | 1982 | 12 | 15.3 |\n",
       "| 44 | 1983 |  3 | 31.0 |\n",
       "| 1 | 1984 |  1 | 36.4 |\n",
       "| 199 | 1984 | 11 | 29.9 |\n",
       "| 220 | 1984 | 12 | 71.7 |\n",
       "| 2 | 1985 |  1 | 50.0 |\n",
       "| 221 | 1985 | 12 | 23.4 |\n",
       "\n"
      ],
      "text/plain": [
       "    Operating.Year Operating.Month Capacity.MW\n",
       "120 1975            7              16.5       \n",
       "218 1981           12              17.3       \n",
       "99  1982            6               3.5       \n",
       "219 1982           12              15.3       \n",
       "44  1983            3              31.0       \n",
       "1   1984            1              36.4       \n",
       "199 1984           11              29.9       \n",
       "220 1984           12              71.7       \n",
       "2   1985            1              50.0       \n",
       "221 1985           12              23.4       "
      ]
     },
     "metadata": {},
     "output_type": "display_data"
    }
   ],
   "source": [
    "wind_cap <- aggregate(Capacity.MW ~ Operating.Year + Operating.Month, data = wind_cap, FUN = sum)\n",
    "wind_cap <- wind_cap[order(wind_cap$Operating.Year, wind_cap$Operating.Month),]\n",
    "head(wind_cap, 10)"
   ]
  },
  {
   "cell_type": "markdown",
   "metadata": {},
   "source": [
    "<br>"
   ]
  },
  {
   "cell_type": "markdown",
   "metadata": {},
   "source": [
    "The data above provides the capacity of new installations by month and year but what we need is the cumulative installed capacity. In addition, months where no new capacity was added are not included in the original data. For a time-series analysis,these must be added to the series with carry-over values from previous months."
   ]
  },
  {
   "cell_type": "code",
   "execution_count": 31,
   "metadata": {},
   "outputs": [
    {
     "data": {
      "text/html": [
       "<table>\n",
       "<caption>A data.frame: 15 × 4</caption>\n",
       "<thead>\n",
       "\t<tr><th></th><th scope=col>Operating.Year</th><th scope=col>Operating.Month</th><th scope=col>Capacity.MW</th><th scope=col>Cumul.Cap.MW</th></tr>\n",
       "\t<tr><th></th><th scope=col>&lt;int&gt;</th><th scope=col>&lt;int&gt;</th><th scope=col>&lt;dbl&gt;</th><th scope=col>&lt;dbl&gt;</th></tr>\n",
       "</thead>\n",
       "<tbody>\n",
       "\t<tr><th scope=row>1</th><td>1975</td><td> 1</td><td> 0.0</td><td> 0.0</td></tr>\n",
       "\t<tr><th scope=row>2</th><td>1975</td><td> 2</td><td> 0.0</td><td> 0.0</td></tr>\n",
       "\t<tr><th scope=row>3</th><td>1975</td><td> 3</td><td> 0.0</td><td> 0.0</td></tr>\n",
       "\t<tr><th scope=row>4</th><td>1975</td><td> 4</td><td> 0.0</td><td> 0.0</td></tr>\n",
       "\t<tr><th scope=row>5</th><td>1975</td><td> 5</td><td> 0.0</td><td> 0.0</td></tr>\n",
       "\t<tr><th scope=row>6</th><td>1975</td><td> 6</td><td> 0.0</td><td> 0.0</td></tr>\n",
       "\t<tr><th scope=row>7</th><td>1975</td><td> 7</td><td>16.5</td><td>16.5</td></tr>\n",
       "\t<tr><th scope=row>8</th><td>1975</td><td> 8</td><td> 0.0</td><td>16.5</td></tr>\n",
       "\t<tr><th scope=row>9</th><td>1975</td><td> 9</td><td> 0.0</td><td>16.5</td></tr>\n",
       "\t<tr><th scope=row>10</th><td>1975</td><td>10</td><td> 0.0</td><td>16.5</td></tr>\n",
       "\t<tr><th scope=row>11</th><td>1975</td><td>11</td><td> 0.0</td><td>16.5</td></tr>\n",
       "\t<tr><th scope=row>12</th><td>1975</td><td>12</td><td> 0.0</td><td>16.5</td></tr>\n",
       "\t<tr><th scope=row>13</th><td>1976</td><td> 1</td><td> 0.0</td><td>16.5</td></tr>\n",
       "\t<tr><th scope=row>14</th><td>1976</td><td> 2</td><td> 0.0</td><td>16.5</td></tr>\n",
       "\t<tr><th scope=row>15</th><td>1976</td><td> 3</td><td> 0.0</td><td>16.5</td></tr>\n",
       "</tbody>\n",
       "</table>\n"
      ],
      "text/latex": [
       "A data.frame: 15 × 4\n",
       "\\begin{tabular}{r|llll}\n",
       "  & Operating.Year & Operating.Month & Capacity.MW & Cumul.Cap.MW\\\\\n",
       "  & <int> & <int> & <dbl> & <dbl>\\\\\n",
       "\\hline\n",
       "\t1 & 1975 &  1 &  0.0 &  0.0\\\\\n",
       "\t2 & 1975 &  2 &  0.0 &  0.0\\\\\n",
       "\t3 & 1975 &  3 &  0.0 &  0.0\\\\\n",
       "\t4 & 1975 &  4 &  0.0 &  0.0\\\\\n",
       "\t5 & 1975 &  5 &  0.0 &  0.0\\\\\n",
       "\t6 & 1975 &  6 &  0.0 &  0.0\\\\\n",
       "\t7 & 1975 &  7 & 16.5 & 16.5\\\\\n",
       "\t8 & 1975 &  8 &  0.0 & 16.5\\\\\n",
       "\t9 & 1975 &  9 &  0.0 & 16.5\\\\\n",
       "\t10 & 1975 & 10 &  0.0 & 16.5\\\\\n",
       "\t11 & 1975 & 11 &  0.0 & 16.5\\\\\n",
       "\t12 & 1975 & 12 &  0.0 & 16.5\\\\\n",
       "\t13 & 1976 &  1 &  0.0 & 16.5\\\\\n",
       "\t14 & 1976 &  2 &  0.0 & 16.5\\\\\n",
       "\t15 & 1976 &  3 &  0.0 & 16.5\\\\\n",
       "\\end{tabular}\n"
      ],
      "text/markdown": [
       "\n",
       "A data.frame: 15 × 4\n",
       "\n",
       "| <!--/--> | Operating.Year &lt;int&gt; | Operating.Month &lt;int&gt; | Capacity.MW &lt;dbl&gt; | Cumul.Cap.MW &lt;dbl&gt; |\n",
       "|---|---|---|---|---|\n",
       "| 1 | 1975 |  1 |  0.0 |  0.0 |\n",
       "| 2 | 1975 |  2 |  0.0 |  0.0 |\n",
       "| 3 | 1975 |  3 |  0.0 |  0.0 |\n",
       "| 4 | 1975 |  4 |  0.0 |  0.0 |\n",
       "| 5 | 1975 |  5 |  0.0 |  0.0 |\n",
       "| 6 | 1975 |  6 |  0.0 |  0.0 |\n",
       "| 7 | 1975 |  7 | 16.5 | 16.5 |\n",
       "| 8 | 1975 |  8 |  0.0 | 16.5 |\n",
       "| 9 | 1975 |  9 |  0.0 | 16.5 |\n",
       "| 10 | 1975 | 10 |  0.0 | 16.5 |\n",
       "| 11 | 1975 | 11 |  0.0 | 16.5 |\n",
       "| 12 | 1975 | 12 |  0.0 | 16.5 |\n",
       "| 13 | 1976 |  1 |  0.0 | 16.5 |\n",
       "| 14 | 1976 |  2 |  0.0 | 16.5 |\n",
       "| 15 | 1976 |  3 |  0.0 | 16.5 |\n",
       "\n"
      ],
      "text/plain": [
       "   Operating.Year Operating.Month Capacity.MW Cumul.Cap.MW\n",
       "1  1975            1               0.0         0.0        \n",
       "2  1975            2               0.0         0.0        \n",
       "3  1975            3               0.0         0.0        \n",
       "4  1975            4               0.0         0.0        \n",
       "5  1975            5               0.0         0.0        \n",
       "6  1975            6               0.0         0.0        \n",
       "7  1975            7              16.5        16.5        \n",
       "8  1975            8               0.0        16.5        \n",
       "9  1975            9               0.0        16.5        \n",
       "10 1975           10               0.0        16.5        \n",
       "11 1975           11               0.0        16.5        \n",
       "12 1975           12               0.0        16.5        \n",
       "13 1976            1               0.0        16.5        \n",
       "14 1976            2               0.0        16.5        \n",
       "15 1976            3               0.0        16.5        "
      ]
     },
     "metadata": {},
     "output_type": "display_data"
    }
   ],
   "source": [
    "# Create a dataframe with all the months spanning the time period of the series\n",
    "first <- min(wind_cap$Operating.Year)\n",
    "last <- 2019\n",
    "yrs <- data.frame(Operating.Month = rep(1:12, last - first + 1), \n",
    "                  Operating.Year = unlist(lapply(c(first:last), function(x) rep(x,12))))\n",
    "# Left-join the `wind_cap` on the new dataframe to expand to all months\n",
    "wind_cap <- merge(x = yrs, y = wind_cap, by = c(\"Operating.Year\", \"Operating.Month\"), all.x = T)\n",
    "# Replace NA values with 0\n",
    "wind_cap$Capacity.MW <- replace(wind_cap$Capacity.MW, is.na(wind_cap$Capacity.MW), 0)\n",
    "# Determine cumulative installed capacity\n",
    "wind_cap$Cumul.Cap.MW <- cumsum(wind_cap$Capacity.MW)\n",
    "\n",
    "head(wind_cap, 15)"
   ]
  },
  {
   "cell_type": "code",
   "execution_count": 32,
   "metadata": {},
   "outputs": [
    {
     "data": {
      "image/png": "[encoded data removed]",
      "text/plain": [
       "plot without title"
      ]
     },
     "metadata": {},
     "output_type": "display_data"
    }
   ],
   "source": [
    "wind_cap_ts <- ts(wind_cap$Cumul.Cap.MW, start = c(first, 1), end = c(last, 12), frequency = 12)\n",
    "autoplot(wind_cap_ts) + xlab(\"Year\") + ylab(\"Capacity(MW)\") + ggtitle(\"Wind Energy Installed Capacity\")"
   ]
  },
  {
   "cell_type": "markdown",
   "metadata": {},
   "source": [
    "<h3><u>Solar Energy</u></h3>"
   ]
  },
  {
   "cell_type": "code",
   "execution_count": 33,
   "metadata": {},
   "outputs": [
    {
     "data": {
      "text/html": [
       "<table>\n",
       "<caption>A data.frame: 6 × 9</caption>\n",
       "<thead>\n",
       "\t<tr><th></th><th scope=col>Name</th><th scope=col>Sector</th><th scope=col>State</th><th scope=col>Capacity.MW</th><th scope=col>Technology</th><th scope=col>Source</th><th scope=col>Operating.Month</th><th scope=col>Operating.Year</th><th scope=col>Status</th></tr>\n",
       "\t<tr><th></th><th scope=col>&lt;fct&gt;</th><th scope=col>&lt;fct&gt;</th><th scope=col>&lt;fct&gt;</th><th scope=col>&lt;dbl&gt;</th><th scope=col>&lt;fct&gt;</th><th scope=col>&lt;fct&gt;</th><th scope=col>&lt;int&gt;</th><th scope=col>&lt;int&gt;</th><th scope=col>&lt;fct&gt;</th></tr>\n",
       "</thead>\n",
       "<tbody>\n",
       "\t<tr><th scope=row>285</th><td>Agua Fria         </td><td>Electric Utility</td><td>AZ</td><td> 0.2</td><td>Solar Photovoltaic</td><td>SUN</td><td> 6</td><td>2001</td><td>(OP) Operating</td></tr>\n",
       "\t<tr><th scope=row>1107</th><td>Big Bend          </td><td>Electric Utility</td><td>FL</td><td>19.0</td><td>Solar Photovoltaic</td><td>SUN</td><td> 2</td><td>2017</td><td>(OP) Operating</td></tr>\n",
       "\t<tr><th scope=row>1557</th><td>Geneseo           </td><td>Electric Utility</td><td>IL</td><td> 1.2</td><td>Solar Photovoltaic</td><td>SUN</td><td> 8</td><td>2015</td><td>(OP) Operating</td></tr>\n",
       "\t<tr><th scope=row>1632</th><td>North Ninth Street</td><td>Electric Utility</td><td>IL</td><td> 0.3</td><td>Solar Photovoltaic</td><td>SUN</td><td>11</td><td>2014</td><td>(OP) Operating</td></tr>\n",
       "\t<tr><th scope=row>1987</th><td>Osage (IA)        </td><td>Electric Utility</td><td>IA</td><td> 0.8</td><td>Solar Photovoltaic</td><td>SUN</td><td>11</td><td>2016</td><td>(OP) Operating</td></tr>\n",
       "\t<tr><th scope=row>2350</th><td>E W Brown         </td><td>Electric Utility</td><td>KY</td><td>10.0</td><td>Solar Photovoltaic</td><td>SUN</td><td> 5</td><td>2016</td><td>(OP) Operating</td></tr>\n",
       "</tbody>\n",
       "</table>\n"
      ],
      "text/latex": [
       "A data.frame: 6 × 9\n",
       "\\begin{tabular}{r|lllllllll}\n",
       "  & Name & Sector & State & Capacity.MW & Technology & Source & Operating.Month & Operating.Year & Status\\\\\n",
       "  & <fct> & <fct> & <fct> & <dbl> & <fct> & <fct> & <int> & <int> & <fct>\\\\\n",
       "\\hline\n",
       "\t285 & Agua Fria          & Electric Utility & AZ &  0.2 & Solar Photovoltaic & SUN &  6 & 2001 & (OP) Operating\\\\\n",
       "\t1107 & Big Bend           & Electric Utility & FL & 19.0 & Solar Photovoltaic & SUN &  2 & 2017 & (OP) Operating\\\\\n",
       "\t1557 & Geneseo            & Electric Utility & IL &  1.2 & Solar Photovoltaic & SUN &  8 & 2015 & (OP) Operating\\\\\n",
       "\t1632 & North Ninth Street & Electric Utility & IL &  0.3 & Solar Photovoltaic & SUN & 11 & 2014 & (OP) Operating\\\\\n",
       "\t1987 & Osage (IA)         & Electric Utility & IA &  0.8 & Solar Photovoltaic & SUN & 11 & 2016 & (OP) Operating\\\\\n",
       "\t2350 & E W Brown          & Electric Utility & KY & 10.0 & Solar Photovoltaic & SUN &  5 & 2016 & (OP) Operating\\\\\n",
       "\\end{tabular}\n"
      ],
      "text/markdown": [
       "\n",
       "A data.frame: 6 × 9\n",
       "\n",
       "| <!--/--> | Name &lt;fct&gt; | Sector &lt;fct&gt; | State &lt;fct&gt; | Capacity.MW &lt;dbl&gt; | Technology &lt;fct&gt; | Source &lt;fct&gt; | Operating.Month &lt;int&gt; | Operating.Year &lt;int&gt; | Status &lt;fct&gt; |\n",
       "|---|---|---|---|---|---|---|---|---|---|\n",
       "| 285 | Agua Fria          | Electric Utility | AZ |  0.2 | Solar Photovoltaic | SUN |  6 | 2001 | (OP) Operating |\n",
       "| 1107 | Big Bend           | Electric Utility | FL | 19.0 | Solar Photovoltaic | SUN |  2 | 2017 | (OP) Operating |\n",
       "| 1557 | Geneseo            | Electric Utility | IL |  1.2 | Solar Photovoltaic | SUN |  8 | 2015 | (OP) Operating |\n",
       "| 1632 | North Ninth Street | Electric Utility | IL |  0.3 | Solar Photovoltaic | SUN | 11 | 2014 | (OP) Operating |\n",
       "| 1987 | Osage (IA)         | Electric Utility | IA |  0.8 | Solar Photovoltaic | SUN | 11 | 2016 | (OP) Operating |\n",
       "| 2350 | E W Brown          | Electric Utility | KY | 10.0 | Solar Photovoltaic | SUN |  5 | 2016 | (OP) Operating |\n",
       "\n"
      ],
      "text/plain": [
       "     Name               Sector           State Capacity.MW Technology        \n",
       "285  Agua Fria          Electric Utility AZ     0.2        Solar Photovoltaic\n",
       "1107 Big Bend           Electric Utility FL    19.0        Solar Photovoltaic\n",
       "1557 Geneseo            Electric Utility IL     1.2        Solar Photovoltaic\n",
       "1632 North Ninth Street Electric Utility IL     0.3        Solar Photovoltaic\n",
       "1987 Osage (IA)         Electric Utility IA     0.8        Solar Photovoltaic\n",
       "2350 E W Brown          Electric Utility KY    10.0        Solar Photovoltaic\n",
       "     Source Operating.Month Operating.Year Status        \n",
       "285  SUN     6              2001           (OP) Operating\n",
       "1107 SUN     2              2017           (OP) Operating\n",
       "1557 SUN     8              2015           (OP) Operating\n",
       "1632 SUN    11              2014           (OP) Operating\n",
       "1987 SUN    11              2016           (OP) Operating\n",
       "2350 SUN     5              2016           (OP) Operating"
      ]
     },
     "metadata": {},
     "output_type": "display_data"
    }
   ],
   "source": [
    "solar_cap <- capacity[capacity$Source == \"SUN\",]\n",
    "head(solar_cap)"
   ]
  },
  {
   "cell_type": "markdown",
   "metadata": {},
   "source": [
    "Group the installed capacity by operating month and year and sum the total capacity for each month/year:"
   ]
  },
  {
   "cell_type": "code",
   "execution_count": 34,
   "metadata": {},
   "outputs": [
    {
     "data": {
      "text/html": [
       "<table>\n",
       "<caption>A data.frame: 10 × 3</caption>\n",
       "<thead>\n",
       "\t<tr><th></th><th scope=col>Operating.Year</th><th scope=col>Operating.Month</th><th scope=col>Capacity.MW</th></tr>\n",
       "\t<tr><th></th><th scope=col>&lt;int&gt;</th><th scope=col>&lt;int&gt;</th><th scope=col>&lt;dbl&gt;</th></tr>\n",
       "</thead>\n",
       "<tbody>\n",
       "\t<tr><th scope=row>139</th><td>1986</td><td>12</td><td>68.4</td></tr>\n",
       "\t<tr><th scope=row>112</th><td>1987</td><td>10</td><td>34.2</td></tr>\n",
       "\t<tr><th scope=row>140</th><td>1988</td><td>12</td><td>70.0</td></tr>\n",
       "\t<tr><th scope=row>141</th><td>1989</td><td>12</td><td>92.0</td></tr>\n",
       "\t<tr><th scope=row>98</th><td>1990</td><td> 9</td><td>92.0</td></tr>\n",
       "\t<tr><th scope=row>46</th><td>2001</td><td> 5</td><td> 3.7</td></tr>\n",
       "\t<tr><th scope=row>60</th><td>2001</td><td> 6</td><td> 0.2</td></tr>\n",
       "\t<tr><th scope=row>113</th><td>2002</td><td>10</td><td> 2.1</td></tr>\n",
       "\t<tr><th scope=row>22</th><td>2003</td><td> 3</td><td> 0.2</td></tr>\n",
       "\t<tr><th scope=row>142</th><td>2003</td><td>12</td><td> 0.1</td></tr>\n",
       "</tbody>\n",
       "</table>\n"
      ],
      "text/latex": [
       "A data.frame: 10 × 3\n",
       "\\begin{tabular}{r|lll}\n",
       "  & Operating.Year & Operating.Month & Capacity.MW\\\\\n",
       "  & <int> & <int> & <dbl>\\\\\n",
       "\\hline\n",
       "\t139 & 1986 & 12 & 68.4\\\\\n",
       "\t112 & 1987 & 10 & 34.2\\\\\n",
       "\t140 & 1988 & 12 & 70.0\\\\\n",
       "\t141 & 1989 & 12 & 92.0\\\\\n",
       "\t98 & 1990 &  9 & 92.0\\\\\n",
       "\t46 & 2001 &  5 &  3.7\\\\\n",
       "\t60 & 2001 &  6 &  0.2\\\\\n",
       "\t113 & 2002 & 10 &  2.1\\\\\n",
       "\t22 & 2003 &  3 &  0.2\\\\\n",
       "\t142 & 2003 & 12 &  0.1\\\\\n",
       "\\end{tabular}\n"
      ],
      "text/markdown": [
       "\n",
       "A data.frame: 10 × 3\n",
       "\n",
       "| <!--/--> | Operating.Year &lt;int&gt; | Operating.Month &lt;int&gt; | Capacity.MW &lt;dbl&gt; |\n",
       "|---|---|---|---|\n",
       "| 139 | 1986 | 12 | 68.4 |\n",
       "| 112 | 1987 | 10 | 34.2 |\n",
       "| 140 | 1988 | 12 | 70.0 |\n",
       "| 141 | 1989 | 12 | 92.0 |\n",
       "| 98 | 1990 |  9 | 92.0 |\n",
       "| 46 | 2001 |  5 |  3.7 |\n",
       "| 60 | 2001 |  6 |  0.2 |\n",
       "| 113 | 2002 | 10 |  2.1 |\n",
       "| 22 | 2003 |  3 |  0.2 |\n",
       "| 142 | 2003 | 12 |  0.1 |\n",
       "\n"
      ],
      "text/plain": [
       "    Operating.Year Operating.Month Capacity.MW\n",
       "139 1986           12              68.4       \n",
       "112 1987           10              34.2       \n",
       "140 1988           12              70.0       \n",
       "141 1989           12              92.0       \n",
       "98  1990            9              92.0       \n",
       "46  2001            5               3.7       \n",
       "60  2001            6               0.2       \n",
       "113 2002           10               2.1       \n",
       "22  2003            3               0.2       \n",
       "142 2003           12               0.1       "
      ]
     },
     "metadata": {},
     "output_type": "display_data"
    }
   ],
   "source": [
    "solar_cap <- aggregate(Capacity.MW ~ Operating.Year + Operating.Month, data = solar_cap, FUN = sum)\n",
    "solar_cap <- solar_cap[order(solar_cap$Operating.Year, solar_cap$Operating.Month),]\n",
    "head(solar_cap, 10)"
   ]
  },
  {
   "cell_type": "markdown",
   "metadata": {},
   "source": [
    "<br>"
   ]
  },
  {
   "cell_type": "markdown",
   "metadata": {},
   "source": [
    "The data above provides the capacity of new installations by month and year but what we need is the cumulative installed capacity. In addition, months where no new capacity was added are not included in the original data. For a time-series analysis,these must be added to the series with carry-over values from previous months."
   ]
  },
  {
   "cell_type": "code",
   "execution_count": 35,
   "metadata": {},
   "outputs": [
    {
     "data": {
      "text/html": [
       "<table>\n",
       "<caption>A data.frame: 15 × 4</caption>\n",
       "<thead>\n",
       "\t<tr><th></th><th scope=col>Operating.Year</th><th scope=col>Operating.Month</th><th scope=col>Capacity.MW</th><th scope=col>Cumul.Cap.MW</th></tr>\n",
       "\t<tr><th></th><th scope=col>&lt;int&gt;</th><th scope=col>&lt;int&gt;</th><th scope=col>&lt;dbl&gt;</th><th scope=col>&lt;dbl&gt;</th></tr>\n",
       "</thead>\n",
       "<tbody>\n",
       "\t<tr><th scope=row>1</th><td>1986</td><td> 1</td><td> 0.0</td><td> 0.0</td></tr>\n",
       "\t<tr><th scope=row>2</th><td>1986</td><td> 2</td><td> 0.0</td><td> 0.0</td></tr>\n",
       "\t<tr><th scope=row>3</th><td>1986</td><td> 3</td><td> 0.0</td><td> 0.0</td></tr>\n",
       "\t<tr><th scope=row>4</th><td>1986</td><td> 4</td><td> 0.0</td><td> 0.0</td></tr>\n",
       "\t<tr><th scope=row>5</th><td>1986</td><td> 5</td><td> 0.0</td><td> 0.0</td></tr>\n",
       "\t<tr><th scope=row>6</th><td>1986</td><td> 6</td><td> 0.0</td><td> 0.0</td></tr>\n",
       "\t<tr><th scope=row>7</th><td>1986</td><td> 7</td><td> 0.0</td><td> 0.0</td></tr>\n",
       "\t<tr><th scope=row>8</th><td>1986</td><td> 8</td><td> 0.0</td><td> 0.0</td></tr>\n",
       "\t<tr><th scope=row>9</th><td>1986</td><td> 9</td><td> 0.0</td><td> 0.0</td></tr>\n",
       "\t<tr><th scope=row>10</th><td>1986</td><td>10</td><td> 0.0</td><td> 0.0</td></tr>\n",
       "\t<tr><th scope=row>11</th><td>1986</td><td>11</td><td> 0.0</td><td> 0.0</td></tr>\n",
       "\t<tr><th scope=row>12</th><td>1986</td><td>12</td><td>68.4</td><td>68.4</td></tr>\n",
       "\t<tr><th scope=row>13</th><td>1987</td><td> 1</td><td> 0.0</td><td>68.4</td></tr>\n",
       "\t<tr><th scope=row>14</th><td>1987</td><td> 2</td><td> 0.0</td><td>68.4</td></tr>\n",
       "\t<tr><th scope=row>15</th><td>1987</td><td> 3</td><td> 0.0</td><td>68.4</td></tr>\n",
       "</tbody>\n",
       "</table>\n"
      ],
      "text/latex": [
       "A data.frame: 15 × 4\n",
       "\\begin{tabular}{r|llll}\n",
       "  & Operating.Year & Operating.Month & Capacity.MW & Cumul.Cap.MW\\\\\n",
       "  & <int> & <int> & <dbl> & <dbl>\\\\\n",
       "\\hline\n",
       "\t1 & 1986 &  1 &  0.0 &  0.0\\\\\n",
       "\t2 & 1986 &  2 &  0.0 &  0.0\\\\\n",
       "\t3 & 1986 &  3 &  0.0 &  0.0\\\\\n",
       "\t4 & 1986 &  4 &  0.0 &  0.0\\\\\n",
       "\t5 & 1986 &  5 &  0.0 &  0.0\\\\\n",
       "\t6 & 1986 &  6 &  0.0 &  0.0\\\\\n",
       "\t7 & 1986 &  7 &  0.0 &  0.0\\\\\n",
       "\t8 & 1986 &  8 &  0.0 &  0.0\\\\\n",
       "\t9 & 1986 &  9 &  0.0 &  0.0\\\\\n",
       "\t10 & 1986 & 10 &  0.0 &  0.0\\\\\n",
       "\t11 & 1986 & 11 &  0.0 &  0.0\\\\\n",
       "\t12 & 1986 & 12 & 68.4 & 68.4\\\\\n",
       "\t13 & 1987 &  1 &  0.0 & 68.4\\\\\n",
       "\t14 & 1987 &  2 &  0.0 & 68.4\\\\\n",
       "\t15 & 1987 &  3 &  0.0 & 68.4\\\\\n",
       "\\end{tabular}\n"
      ],
      "text/markdown": [
       "\n",
       "A data.frame: 15 × 4\n",
       "\n",
       "| <!--/--> | Operating.Year &lt;int&gt; | Operating.Month &lt;int&gt; | Capacity.MW &lt;dbl&gt; | Cumul.Cap.MW &lt;dbl&gt; |\n",
       "|---|---|---|---|---|\n",
       "| 1 | 1986 |  1 |  0.0 |  0.0 |\n",
       "| 2 | 1986 |  2 |  0.0 |  0.0 |\n",
       "| 3 | 1986 |  3 |  0.0 |  0.0 |\n",
       "| 4 | 1986 |  4 |  0.0 |  0.0 |\n",
       "| 5 | 1986 |  5 |  0.0 |  0.0 |\n",
       "| 6 | 1986 |  6 |  0.0 |  0.0 |\n",
       "| 7 | 1986 |  7 |  0.0 |  0.0 |\n",
       "| 8 | 1986 |  8 |  0.0 |  0.0 |\n",
       "| 9 | 1986 |  9 |  0.0 |  0.0 |\n",
       "| 10 | 1986 | 10 |  0.0 |  0.0 |\n",
       "| 11 | 1986 | 11 |  0.0 |  0.0 |\n",
       "| 12 | 1986 | 12 | 68.4 | 68.4 |\n",
       "| 13 | 1987 |  1 |  0.0 | 68.4 |\n",
       "| 14 | 1987 |  2 |  0.0 | 68.4 |\n",
       "| 15 | 1987 |  3 |  0.0 | 68.4 |\n",
       "\n"
      ],
      "text/plain": [
       "   Operating.Year Operating.Month Capacity.MW Cumul.Cap.MW\n",
       "1  1986            1               0.0         0.0        \n",
       "2  1986            2               0.0         0.0        \n",
       "3  1986            3               0.0         0.0        \n",
       "4  1986            4               0.0         0.0        \n",
       "5  1986            5               0.0         0.0        \n",
       "6  1986            6               0.0         0.0        \n",
       "7  1986            7               0.0         0.0        \n",
       "8  1986            8               0.0         0.0        \n",
       "9  1986            9               0.0         0.0        \n",
       "10 1986           10               0.0         0.0        \n",
       "11 1986           11               0.0         0.0        \n",
       "12 1986           12              68.4        68.4        \n",
       "13 1987            1               0.0        68.4        \n",
       "14 1987            2               0.0        68.4        \n",
       "15 1987            3               0.0        68.4        "
      ]
     },
     "metadata": {},
     "output_type": "display_data"
    }
   ],
   "source": [
    "# Create a dataframe with all the months spanning the time period of the series\n",
    "first <- min(solar_cap$Operating.Year)\n",
    "last <- 2019\n",
    "yrs <- data.frame(Operating.Month = rep(1:12, last - first + 1), \n",
    "                  Operating.Year = unlist(lapply(c(first:last), function(x) rep(x,12))))\n",
    "# Left-join the `solar_cap` on the new dataframe to expand to all months\n",
    "solar_cap <- merge(x = yrs, y = solar_cap, by = c(\"Operating.Year\", \"Operating.Month\"), all.x = T)\n",
    "# Replace NA values with 0\n",
    "solar_cap$Capacity.MW <- replace(solar_cap$Capacity.MW, is.na(solar_cap$Capacity.MW), 0)\n",
    "# Determine cumulative installed capacity\n",
    "solar_cap$Cumul.Cap.MW <- cumsum(solar_cap$Capacity.MW)\n",
    "\n",
    "head(solar_cap, 15)"
   ]
  },
  {
   "cell_type": "code",
   "execution_count": 36,
   "metadata": {},
   "outputs": [
    {
     "data": {
      "image/png": "[encoded data removed]",
      "text/plain": [
       "plot without title"
      ]
     },
     "metadata": {},
     "output_type": "display_data"
    }
   ],
   "source": [
    "solar_cap_ts <- ts(solar_cap$Cumul.Cap.MW, start = c(first, 1), end = c(last, 12), frequency = 12)\n",
    "autoplot(solar_cap_ts) + xlab(\"Year\") + ylab(\"Capacity(MW)\") + ggtitle(\"Solar Energy Installed Capacity\")"
   ]
  },
  {
   "cell_type": "markdown",
   "metadata": {},
   "source": [
    "Comparing wind and solar and plotting out the total:"
   ]
  },
  {
   "cell_type": "code",
   "execution_count": 37,
   "metadata": {},
   "outputs": [
    {
     "data": {
      "image/png": "[encoded data removed]",
      "text/plain": [
       "plot without title"
      ]
     },
     "metadata": {},
     "output_type": "display_data"
    }
   ],
   "source": [
    "autoplot(cbind(Wind_Capacity = wind_cap_ts, Solar_Capacity = solar_cap_ts, Total = (wind_cap_ts + solar_cap_ts))) + \n",
    "    xlab(\"Year\") + ylab(\"Capacity(MW)\") + ggtitle(\"Wind and Solar Installed Capacity\") +\n",
    "    guides(color = guide_legend(title = \"Source\"))"
   ]
  },
  {
   "cell_type": "markdown",
   "metadata": {},
   "source": [
    "<br>"
   ]
  },
  {
   "cell_type": "markdown",
   "metadata": {},
   "source": [
    "<h3><u>Natural Gas</u></h3>"
   ]
  },
  {
   "cell_type": "markdown",
   "metadata": {},
   "source": [
    "Natural gas is included as an example of a fossil fuel that provides a large portion of America's energy supply. The widespread adoption of natural gas as a power source really began in the early 2000's with the shale gas boom and continues to grow. It will be interesting to see if the adoption of wind and solar power has affected the growth in natural gas capacity."
   ]
  },
  {
   "cell_type": "code",
   "execution_count": 38,
   "metadata": {},
   "outputs": [
    {
     "data": {
      "text/html": [
       "<table>\n",
       "<caption>A data.frame: 6 × 9</caption>\n",
       "<thead>\n",
       "\t<tr><th></th><th scope=col>Name</th><th scope=col>Sector</th><th scope=col>State</th><th scope=col>Capacity.MW</th><th scope=col>Technology</th><th scope=col>Source</th><th scope=col>Operating.Month</th><th scope=col>Operating.Year</th><th scope=col>Status</th></tr>\n",
       "\t<tr><th></th><th scope=col>&lt;fct&gt;</th><th scope=col>&lt;fct&gt;</th><th scope=col>&lt;fct&gt;</th><th scope=col>&lt;dbl&gt;</th><th scope=col>&lt;fct&gt;</th><th scope=col>&lt;fct&gt;</th><th scope=col>&lt;int&gt;</th><th scope=col>&lt;int&gt;</th><th scope=col>&lt;fct&gt;</th></tr>\n",
       "</thead>\n",
       "<tbody>\n",
       "\t<tr><th scope=row>2</th><td>Barry</td><td>Electric Utility</td><td>AL</td><td>153.1</td><td>Natural Gas Steam Turbine       </td><td>NG</td><td>2</td><td>1954</td><td>(OP) Operating</td></tr>\n",
       "\t<tr><th scope=row>3</th><td>Barry</td><td>Electric Utility</td><td>AL</td><td>153.1</td><td>Natural Gas Steam Turbine       </td><td>NG</td><td>7</td><td>1954</td><td>(OP) Operating</td></tr>\n",
       "\t<tr><th scope=row>6</th><td>Barry</td><td>Electric Utility</td><td>AL</td><td>170.1</td><td>Natural Gas Fired Combined Cycle</td><td>NG</td><td>5</td><td>2000</td><td>(OP) Operating</td></tr>\n",
       "\t<tr><th scope=row>7</th><td>Barry</td><td>Electric Utility</td><td>AL</td><td>170.1</td><td>Natural Gas Fired Combined Cycle</td><td>NG</td><td>5</td><td>2000</td><td>(OP) Operating</td></tr>\n",
       "\t<tr><th scope=row>8</th><td>Barry</td><td>Electric Utility</td><td>AL</td><td>195.2</td><td>Natural Gas Fired Combined Cycle</td><td>NG</td><td>5</td><td>2000</td><td>(OP) Operating</td></tr>\n",
       "\t<tr><th scope=row>9</th><td>Barry</td><td>Electric Utility</td><td>AL</td><td>170.1</td><td>Natural Gas Fired Combined Cycle</td><td>NG</td><td>5</td><td>2000</td><td>(OP) Operating</td></tr>\n",
       "</tbody>\n",
       "</table>\n"
      ],
      "text/latex": [
       "A data.frame: 6 × 9\n",
       "\\begin{tabular}{r|lllllllll}\n",
       "  & Name & Sector & State & Capacity.MW & Technology & Source & Operating.Month & Operating.Year & Status\\\\\n",
       "  & <fct> & <fct> & <fct> & <dbl> & <fct> & <fct> & <int> & <int> & <fct>\\\\\n",
       "\\hline\n",
       "\t2 & Barry & Electric Utility & AL & 153.1 & Natural Gas Steam Turbine        & NG & 2 & 1954 & (OP) Operating\\\\\n",
       "\t3 & Barry & Electric Utility & AL & 153.1 & Natural Gas Steam Turbine        & NG & 7 & 1954 & (OP) Operating\\\\\n",
       "\t6 & Barry & Electric Utility & AL & 170.1 & Natural Gas Fired Combined Cycle & NG & 5 & 2000 & (OP) Operating\\\\\n",
       "\t7 & Barry & Electric Utility & AL & 170.1 & Natural Gas Fired Combined Cycle & NG & 5 & 2000 & (OP) Operating\\\\\n",
       "\t8 & Barry & Electric Utility & AL & 195.2 & Natural Gas Fired Combined Cycle & NG & 5 & 2000 & (OP) Operating\\\\\n",
       "\t9 & Barry & Electric Utility & AL & 170.1 & Natural Gas Fired Combined Cycle & NG & 5 & 2000 & (OP) Operating\\\\\n",
       "\\end{tabular}\n"
      ],
      "text/markdown": [
       "\n",
       "A data.frame: 6 × 9\n",
       "\n",
       "| <!--/--> | Name &lt;fct&gt; | Sector &lt;fct&gt; | State &lt;fct&gt; | Capacity.MW &lt;dbl&gt; | Technology &lt;fct&gt; | Source &lt;fct&gt; | Operating.Month &lt;int&gt; | Operating.Year &lt;int&gt; | Status &lt;fct&gt; |\n",
       "|---|---|---|---|---|---|---|---|---|---|\n",
       "| 2 | Barry | Electric Utility | AL | 153.1 | Natural Gas Steam Turbine        | NG | 2 | 1954 | (OP) Operating |\n",
       "| 3 | Barry | Electric Utility | AL | 153.1 | Natural Gas Steam Turbine        | NG | 7 | 1954 | (OP) Operating |\n",
       "| 6 | Barry | Electric Utility | AL | 170.1 | Natural Gas Fired Combined Cycle | NG | 5 | 2000 | (OP) Operating |\n",
       "| 7 | Barry | Electric Utility | AL | 170.1 | Natural Gas Fired Combined Cycle | NG | 5 | 2000 | (OP) Operating |\n",
       "| 8 | Barry | Electric Utility | AL | 195.2 | Natural Gas Fired Combined Cycle | NG | 5 | 2000 | (OP) Operating |\n",
       "| 9 | Barry | Electric Utility | AL | 170.1 | Natural Gas Fired Combined Cycle | NG | 5 | 2000 | (OP) Operating |\n",
       "\n"
      ],
      "text/plain": [
       "  Name  Sector           State Capacity.MW Technology                      \n",
       "2 Barry Electric Utility AL    153.1       Natural Gas Steam Turbine       \n",
       "3 Barry Electric Utility AL    153.1       Natural Gas Steam Turbine       \n",
       "6 Barry Electric Utility AL    170.1       Natural Gas Fired Combined Cycle\n",
       "7 Barry Electric Utility AL    170.1       Natural Gas Fired Combined Cycle\n",
       "8 Barry Electric Utility AL    195.2       Natural Gas Fired Combined Cycle\n",
       "9 Barry Electric Utility AL    170.1       Natural Gas Fired Combined Cycle\n",
       "  Source Operating.Month Operating.Year Status        \n",
       "2 NG     2               1954           (OP) Operating\n",
       "3 NG     7               1954           (OP) Operating\n",
       "6 NG     5               2000           (OP) Operating\n",
       "7 NG     5               2000           (OP) Operating\n",
       "8 NG     5               2000           (OP) Operating\n",
       "9 NG     5               2000           (OP) Operating"
      ]
     },
     "metadata": {},
     "output_type": "display_data"
    }
   ],
   "source": [
    "ng_cap <- capacity[capacity$Source == \"NG\",]\n",
    "head(ng_cap)"
   ]
  },
  {
   "cell_type": "markdown",
   "metadata": {},
   "source": [
    "Group the installed capacity by operating month and year and sum the total capacity for each month/year:"
   ]
  },
  {
   "cell_type": "code",
   "execution_count": 39,
   "metadata": {},
   "outputs": [
    {
     "data": {
      "text/html": [
       "<table>\n",
       "<caption>A data.frame: 10 × 3</caption>\n",
       "<thead>\n",
       "\t<tr><th></th><th scope=col>Operating.Year</th><th scope=col>Operating.Month</th><th scope=col>Capacity.MW</th></tr>\n",
       "\t<tr><th></th><th scope=col>&lt;int&gt;</th><th scope=col>&lt;int&gt;</th><th scope=col>&lt;dbl&gt;</th></tr>\n",
       "</thead>\n",
       "<tbody>\n",
       "\t<tr><th scope=row>1</th><td>1915</td><td> 1</td><td> 0.6</td></tr>\n",
       "\t<tr><th scope=row>2</th><td>1925</td><td> 1</td><td>15.0</td></tr>\n",
       "\t<tr><th scope=row>401</th><td>1938</td><td> 7</td><td> 5.0</td></tr>\n",
       "\t<tr><th scope=row>3</th><td>1939</td><td> 1</td><td> 6.6</td></tr>\n",
       "\t<tr><th scope=row>666</th><td>1940</td><td>11</td><td> 6.0</td></tr>\n",
       "\t<tr><th scope=row>4</th><td>1942</td><td> 1</td><td>62.0</td></tr>\n",
       "\t<tr><th scope=row>5</th><td>1943</td><td> 1</td><td> 7.5</td></tr>\n",
       "\t<tr><th scope=row>6</th><td>1944</td><td> 1</td><td> 6.0</td></tr>\n",
       "\t<tr><th scope=row>474</th><td>1944</td><td> 8</td><td> 0.6</td></tr>\n",
       "\t<tr><th scope=row>328</th><td>1945</td><td> 6</td><td> 5.0</td></tr>\n",
       "</tbody>\n",
       "</table>\n"
      ],
      "text/latex": [
       "A data.frame: 10 × 3\n",
       "\\begin{tabular}{r|lll}\n",
       "  & Operating.Year & Operating.Month & Capacity.MW\\\\\n",
       "  & <int> & <int> & <dbl>\\\\\n",
       "\\hline\n",
       "\t1 & 1915 &  1 &  0.6\\\\\n",
       "\t2 & 1925 &  1 & 15.0\\\\\n",
       "\t401 & 1938 &  7 &  5.0\\\\\n",
       "\t3 & 1939 &  1 &  6.6\\\\\n",
       "\t666 & 1940 & 11 &  6.0\\\\\n",
       "\t4 & 1942 &  1 & 62.0\\\\\n",
       "\t5 & 1943 &  1 &  7.5\\\\\n",
       "\t6 & 1944 &  1 &  6.0\\\\\n",
       "\t474 & 1944 &  8 &  0.6\\\\\n",
       "\t328 & 1945 &  6 &  5.0\\\\\n",
       "\\end{tabular}\n"
      ],
      "text/markdown": [
       "\n",
       "A data.frame: 10 × 3\n",
       "\n",
       "| <!--/--> | Operating.Year &lt;int&gt; | Operating.Month &lt;int&gt; | Capacity.MW &lt;dbl&gt; |\n",
       "|---|---|---|---|\n",
       "| 1 | 1915 |  1 |  0.6 |\n",
       "| 2 | 1925 |  1 | 15.0 |\n",
       "| 401 | 1938 |  7 |  5.0 |\n",
       "| 3 | 1939 |  1 |  6.6 |\n",
       "| 666 | 1940 | 11 |  6.0 |\n",
       "| 4 | 1942 |  1 | 62.0 |\n",
       "| 5 | 1943 |  1 |  7.5 |\n",
       "| 6 | 1944 |  1 |  6.0 |\n",
       "| 474 | 1944 |  8 |  0.6 |\n",
       "| 328 | 1945 |  6 |  5.0 |\n",
       "\n"
      ],
      "text/plain": [
       "    Operating.Year Operating.Month Capacity.MW\n",
       "1   1915            1               0.6       \n",
       "2   1925            1              15.0       \n",
       "401 1938            7               5.0       \n",
       "3   1939            1               6.6       \n",
       "666 1940           11               6.0       \n",
       "4   1942            1              62.0       \n",
       "5   1943            1               7.5       \n",
       "6   1944            1               6.0       \n",
       "474 1944            8               0.6       \n",
       "328 1945            6               5.0       "
      ]
     },
     "metadata": {},
     "output_type": "display_data"
    }
   ],
   "source": [
    "ng_cap <- aggregate(Capacity.MW ~ Operating.Year + Operating.Month, data = ng_cap, FUN = sum)\n",
    "ng_cap <- ng_cap[order(ng_cap$Operating.Year, ng_cap$Operating.Month),]\n",
    "head(ng_cap, 10)"
   ]
  },
  {
   "cell_type": "markdown",
   "metadata": {},
   "source": [
    "<br>"
   ]
  },
  {
   "cell_type": "markdown",
   "metadata": {},
   "source": [
    "The data above provides the capacity of new installations by month and year but what we need is the cumulative installed capacity. In addition, months where no new capacity was added are not included in the original data. For a time-series analysis,these must be added to the series with carry-over values from previous months."
   ]
  },
  {
   "cell_type": "code",
   "execution_count": 40,
   "metadata": {},
   "outputs": [
    {
     "data": {
      "text/html": [
       "<table>\n",
       "<caption>A data.frame: 15 × 4</caption>\n",
       "<thead>\n",
       "\t<tr><th></th><th scope=col>Operating.Year</th><th scope=col>Operating.Month</th><th scope=col>Capacity.MW</th><th scope=col>Cumul.Cap.MW</th></tr>\n",
       "\t<tr><th></th><th scope=col>&lt;int&gt;</th><th scope=col>&lt;int&gt;</th><th scope=col>&lt;dbl&gt;</th><th scope=col>&lt;dbl&gt;</th></tr>\n",
       "</thead>\n",
       "<tbody>\n",
       "\t<tr><th scope=row>1</th><td>1915</td><td> 1</td><td>0.6</td><td>0.6</td></tr>\n",
       "\t<tr><th scope=row>2</th><td>1915</td><td> 2</td><td>0.0</td><td>0.6</td></tr>\n",
       "\t<tr><th scope=row>3</th><td>1915</td><td> 3</td><td>0.0</td><td>0.6</td></tr>\n",
       "\t<tr><th scope=row>4</th><td>1915</td><td> 4</td><td>0.0</td><td>0.6</td></tr>\n",
       "\t<tr><th scope=row>5</th><td>1915</td><td> 5</td><td>0.0</td><td>0.6</td></tr>\n",
       "\t<tr><th scope=row>6</th><td>1915</td><td> 6</td><td>0.0</td><td>0.6</td></tr>\n",
       "\t<tr><th scope=row>7</th><td>1915</td><td> 7</td><td>0.0</td><td>0.6</td></tr>\n",
       "\t<tr><th scope=row>8</th><td>1915</td><td> 8</td><td>0.0</td><td>0.6</td></tr>\n",
       "\t<tr><th scope=row>9</th><td>1915</td><td> 9</td><td>0.0</td><td>0.6</td></tr>\n",
       "\t<tr><th scope=row>10</th><td>1915</td><td>10</td><td>0.0</td><td>0.6</td></tr>\n",
       "\t<tr><th scope=row>11</th><td>1915</td><td>11</td><td>0.0</td><td>0.6</td></tr>\n",
       "\t<tr><th scope=row>12</th><td>1915</td><td>12</td><td>0.0</td><td>0.6</td></tr>\n",
       "\t<tr><th scope=row>13</th><td>1916</td><td> 1</td><td>0.0</td><td>0.6</td></tr>\n",
       "\t<tr><th scope=row>14</th><td>1916</td><td> 2</td><td>0.0</td><td>0.6</td></tr>\n",
       "\t<tr><th scope=row>15</th><td>1916</td><td> 3</td><td>0.0</td><td>0.6</td></tr>\n",
       "</tbody>\n",
       "</table>\n"
      ],
      "text/latex": [
       "A data.frame: 15 × 4\n",
       "\\begin{tabular}{r|llll}\n",
       "  & Operating.Year & Operating.Month & Capacity.MW & Cumul.Cap.MW\\\\\n",
       "  & <int> & <int> & <dbl> & <dbl>\\\\\n",
       "\\hline\n",
       "\t1 & 1915 &  1 & 0.6 & 0.6\\\\\n",
       "\t2 & 1915 &  2 & 0.0 & 0.6\\\\\n",
       "\t3 & 1915 &  3 & 0.0 & 0.6\\\\\n",
       "\t4 & 1915 &  4 & 0.0 & 0.6\\\\\n",
       "\t5 & 1915 &  5 & 0.0 & 0.6\\\\\n",
       "\t6 & 1915 &  6 & 0.0 & 0.6\\\\\n",
       "\t7 & 1915 &  7 & 0.0 & 0.6\\\\\n",
       "\t8 & 1915 &  8 & 0.0 & 0.6\\\\\n",
       "\t9 & 1915 &  9 & 0.0 & 0.6\\\\\n",
       "\t10 & 1915 & 10 & 0.0 & 0.6\\\\\n",
       "\t11 & 1915 & 11 & 0.0 & 0.6\\\\\n",
       "\t12 & 1915 & 12 & 0.0 & 0.6\\\\\n",
       "\t13 & 1916 &  1 & 0.0 & 0.6\\\\\n",
       "\t14 & 1916 &  2 & 0.0 & 0.6\\\\\n",
       "\t15 & 1916 &  3 & 0.0 & 0.6\\\\\n",
       "\\end{tabular}\n"
      ],
      "text/markdown": [
       "\n",
       "A data.frame: 15 × 4\n",
       "\n",
       "| <!--/--> | Operating.Year &lt;int&gt; | Operating.Month &lt;int&gt; | Capacity.MW &lt;dbl&gt; | Cumul.Cap.MW &lt;dbl&gt; |\n",
       "|---|---|---|---|---|\n",
       "| 1 | 1915 |  1 | 0.6 | 0.6 |\n",
       "| 2 | 1915 |  2 | 0.0 | 0.6 |\n",
       "| 3 | 1915 |  3 | 0.0 | 0.6 |\n",
       "| 4 | 1915 |  4 | 0.0 | 0.6 |\n",
       "| 5 | 1915 |  5 | 0.0 | 0.6 |\n",
       "| 6 | 1915 |  6 | 0.0 | 0.6 |\n",
       "| 7 | 1915 |  7 | 0.0 | 0.6 |\n",
       "| 8 | 1915 |  8 | 0.0 | 0.6 |\n",
       "| 9 | 1915 |  9 | 0.0 | 0.6 |\n",
       "| 10 | 1915 | 10 | 0.0 | 0.6 |\n",
       "| 11 | 1915 | 11 | 0.0 | 0.6 |\n",
       "| 12 | 1915 | 12 | 0.0 | 0.6 |\n",
       "| 13 | 1916 |  1 | 0.0 | 0.6 |\n",
       "| 14 | 1916 |  2 | 0.0 | 0.6 |\n",
       "| 15 | 1916 |  3 | 0.0 | 0.6 |\n",
       "\n"
      ],
      "text/plain": [
       "   Operating.Year Operating.Month Capacity.MW Cumul.Cap.MW\n",
       "1  1915            1              0.6         0.6         \n",
       "2  1915            2              0.0         0.6         \n",
       "3  1915            3              0.0         0.6         \n",
       "4  1915            4              0.0         0.6         \n",
       "5  1915            5              0.0         0.6         \n",
       "6  1915            6              0.0         0.6         \n",
       "7  1915            7              0.0         0.6         \n",
       "8  1915            8              0.0         0.6         \n",
       "9  1915            9              0.0         0.6         \n",
       "10 1915           10              0.0         0.6         \n",
       "11 1915           11              0.0         0.6         \n",
       "12 1915           12              0.0         0.6         \n",
       "13 1916            1              0.0         0.6         \n",
       "14 1916            2              0.0         0.6         \n",
       "15 1916            3              0.0         0.6         "
      ]
     },
     "metadata": {},
     "output_type": "display_data"
    }
   ],
   "source": [
    "# Create a dataframe with all the months spanning the time period of the series\n",
    "first <- min(ng_cap$Operating.Year)\n",
    "last <- 2019\n",
    "yrs <- data.frame(Operating.Month = rep(1:12, last - first + 1), \n",
    "                  Operating.Year = unlist(lapply(c(first:last), function(x) rep(x,12))))\n",
    "# Left-join the `ng_cap` on the new dataframe to expand to all months\n",
    "ng_cap <- merge(x = yrs, y = ng_cap, by = c(\"Operating.Year\", \"Operating.Month\"), all.x = T)\n",
    "# Replace NA values with 0\n",
    "ng_cap$Capacity.MW <- replace(ng_cap$Capacity.MW, is.na(ng_cap$Capacity.MW), 0)\n",
    "# Determine cumulative installed capacity\n",
    "ng_cap$Cumul.Cap.MW <- cumsum(ng_cap$Capacity.MW)\n",
    "\n",
    "head(ng_cap, 15)"
   ]
  },
  {
   "cell_type": "code",
   "execution_count": 41,
   "metadata": {},
   "outputs": [
    {
     "data": {
      "image/png": "[encoded data removed]",
      "text/plain": [
       "plot without title"
      ]
     },
     "metadata": {},
     "output_type": "display_data"
    }
   ],
   "source": [
    "ng_cap_ts <- ts(ng_cap$Cumul.Cap.MW, start = c(first, 1), end = c(last, 12), frequency = 12)\n",
    "autoplot(ng_cap_ts) + xlab(\"Year\") + ylab(\"Capacity(MW)\") + ggtitle(\"Natural Gas Installed Capacity\")"
   ]
  },
  {
   "cell_type": "markdown",
   "metadata": {},
   "source": [
    "<br>"
   ]
  },
  {
   "cell_type": "markdown",
   "metadata": {},
   "source": [
    "<h3><u>Coal</u></h3>"
   ]
  },
  {
   "cell_type": "markdown",
   "metadata": {},
   "source": [
    "Coal is included as a legacy fossil fuel that still provides a large portion of America's energy supply. It is of interest to see how it compares to solar and wind as well as natural gas."
   ]
  },
  {
   "cell_type": "code",
   "execution_count": 42,
   "metadata": {},
   "outputs": [
    {
     "data": {
      "text/html": [
       "<table>\n",
       "<caption>A data.frame: 6 × 9</caption>\n",
       "<thead>\n",
       "\t<tr><th></th><th scope=col>Name</th><th scope=col>Sector</th><th scope=col>State</th><th scope=col>Capacity.MW</th><th scope=col>Technology</th><th scope=col>Source</th><th scope=col>Operating.Month</th><th scope=col>Operating.Year</th><th scope=col>Status</th></tr>\n",
       "\t<tr><th></th><th scope=col>&lt;fct&gt;</th><th scope=col>&lt;fct&gt;</th><th scope=col>&lt;fct&gt;</th><th scope=col>&lt;dbl&gt;</th><th scope=col>&lt;fct&gt;</th><th scope=col>&lt;fct&gt;</th><th scope=col>&lt;int&gt;</th><th scope=col>&lt;int&gt;</th><th scope=col>&lt;fct&gt;</th></tr>\n",
       "</thead>\n",
       "<tbody>\n",
       "\t<tr><th scope=row>4</th><td>Barry           </td><td>Electric Utility</td><td>AL</td><td>403.7</td><td>Conventional Steam Coal</td><td>BIT</td><td>12</td><td>1969</td><td>(OP) Operating</td></tr>\n",
       "\t<tr><th scope=row>5</th><td>Barry           </td><td>Electric Utility</td><td>AL</td><td>788.8</td><td>Conventional Steam Coal</td><td>BIT</td><td>10</td><td>1971</td><td>(OP) Operating</td></tr>\n",
       "\t<tr><th scope=row>67</th><td>E C Gaston      </td><td>Electric Utility</td><td>AL</td><td>952.0</td><td>Conventional Steam Coal</td><td>BIT</td><td> 8</td><td>1974</td><td>(OP) Operating</td></tr>\n",
       "\t<tr><th scope=row>105</th><td>Dolet Hills     </td><td>Electric Utility</td><td>LA</td><td>720.7</td><td>Conventional Steam Coal</td><td>LIG</td><td> 4</td><td>1986</td><td>(OP) Operating</td></tr>\n",
       "\t<tr><th scope=row>120</th><td>Charles R Lowman</td><td>Electric Utility</td><td>AL</td><td> 66.0</td><td>Conventional Steam Coal</td><td>BIT</td><td> 6</td><td>1969</td><td>(OP) Operating</td></tr>\n",
       "\t<tr><th scope=row>121</th><td>Charles R Lowman</td><td>Electric Utility</td><td>AL</td><td>236.0</td><td>Conventional Steam Coal</td><td>BIT</td><td> 6</td><td>1978</td><td>(OP) Operating</td></tr>\n",
       "</tbody>\n",
       "</table>\n"
      ],
      "text/latex": [
       "A data.frame: 6 × 9\n",
       "\\begin{tabular}{r|lllllllll}\n",
       "  & Name & Sector & State & Capacity.MW & Technology & Source & Operating.Month & Operating.Year & Status\\\\\n",
       "  & <fct> & <fct> & <fct> & <dbl> & <fct> & <fct> & <int> & <int> & <fct>\\\\\n",
       "\\hline\n",
       "\t4 & Barry            & Electric Utility & AL & 403.7 & Conventional Steam Coal & BIT & 12 & 1969 & (OP) Operating\\\\\n",
       "\t5 & Barry            & Electric Utility & AL & 788.8 & Conventional Steam Coal & BIT & 10 & 1971 & (OP) Operating\\\\\n",
       "\t67 & E C Gaston       & Electric Utility & AL & 952.0 & Conventional Steam Coal & BIT &  8 & 1974 & (OP) Operating\\\\\n",
       "\t105 & Dolet Hills      & Electric Utility & LA & 720.7 & Conventional Steam Coal & LIG &  4 & 1986 & (OP) Operating\\\\\n",
       "\t120 & Charles R Lowman & Electric Utility & AL &  66.0 & Conventional Steam Coal & BIT &  6 & 1969 & (OP) Operating\\\\\n",
       "\t121 & Charles R Lowman & Electric Utility & AL & 236.0 & Conventional Steam Coal & BIT &  6 & 1978 & (OP) Operating\\\\\n",
       "\\end{tabular}\n"
      ],
      "text/markdown": [
       "\n",
       "A data.frame: 6 × 9\n",
       "\n",
       "| <!--/--> | Name &lt;fct&gt; | Sector &lt;fct&gt; | State &lt;fct&gt; | Capacity.MW &lt;dbl&gt; | Technology &lt;fct&gt; | Source &lt;fct&gt; | Operating.Month &lt;int&gt; | Operating.Year &lt;int&gt; | Status &lt;fct&gt; |\n",
       "|---|---|---|---|---|---|---|---|---|---|\n",
       "| 4 | Barry            | Electric Utility | AL | 403.7 | Conventional Steam Coal | BIT | 12 | 1969 | (OP) Operating |\n",
       "| 5 | Barry            | Electric Utility | AL | 788.8 | Conventional Steam Coal | BIT | 10 | 1971 | (OP) Operating |\n",
       "| 67 | E C Gaston       | Electric Utility | AL | 952.0 | Conventional Steam Coal | BIT |  8 | 1974 | (OP) Operating |\n",
       "| 105 | Dolet Hills      | Electric Utility | LA | 720.7 | Conventional Steam Coal | LIG |  4 | 1986 | (OP) Operating |\n",
       "| 120 | Charles R Lowman | Electric Utility | AL |  66.0 | Conventional Steam Coal | BIT |  6 | 1969 | (OP) Operating |\n",
       "| 121 | Charles R Lowman | Electric Utility | AL | 236.0 | Conventional Steam Coal | BIT |  6 | 1978 | (OP) Operating |\n",
       "\n"
      ],
      "text/plain": [
       "    Name             Sector           State Capacity.MW Technology             \n",
       "4   Barry            Electric Utility AL    403.7       Conventional Steam Coal\n",
       "5   Barry            Electric Utility AL    788.8       Conventional Steam Coal\n",
       "67  E C Gaston       Electric Utility AL    952.0       Conventional Steam Coal\n",
       "105 Dolet Hills      Electric Utility LA    720.7       Conventional Steam Coal\n",
       "120 Charles R Lowman Electric Utility AL     66.0       Conventional Steam Coal\n",
       "121 Charles R Lowman Electric Utility AL    236.0       Conventional Steam Coal\n",
       "    Source Operating.Month Operating.Year Status        \n",
       "4   BIT    12              1969           (OP) Operating\n",
       "5   BIT    10              1971           (OP) Operating\n",
       "67  BIT     8              1974           (OP) Operating\n",
       "105 LIG     4              1986           (OP) Operating\n",
       "120 BIT     6              1969           (OP) Operating\n",
       "121 BIT     6              1978           (OP) Operating"
      ]
     },
     "metadata": {},
     "output_type": "display_data"
    }
   ],
   "source": [
    "coal_cap <- capacity[capacity$Technology == \"Conventional Steam Coal\",]\n",
    "head(coal_cap)"
   ]
  },
  {
   "cell_type": "markdown",
   "metadata": {},
   "source": [
    "Group the installed capacity by operating month and year and sum the total capacity for each month/year:"
   ]
  },
  {
   "cell_type": "code",
   "execution_count": 43,
   "metadata": {},
   "outputs": [
    {
     "data": {
      "text/html": [
       "<table>\n",
       "<caption>A data.frame: 10 × 3</caption>\n",
       "<thead>\n",
       "\t<tr><th></th><th scope=col>Operating.Year</th><th scope=col>Operating.Month</th><th scope=col>Capacity.MW</th></tr>\n",
       "\t<tr><th></th><th scope=col>&lt;int&gt;</th><th scope=col>&lt;int&gt;</th><th scope=col>&lt;dbl&gt;</th></tr>\n",
       "</thead>\n",
       "<tbody>\n",
       "\t<tr><th scope=row>1</th><td>1930</td><td>1</td><td>6.2</td></tr>\n",
       "\t<tr><th scope=row>271</th><td>1936</td><td>9</td><td>6.0</td></tr>\n",
       "\t<tr><th scope=row>2</th><td>1937</td><td>1</td><td>7.5</td></tr>\n",
       "\t<tr><th scope=row>272</th><td>1939</td><td>9</td><td>6.0</td></tr>\n",
       "\t<tr><th scope=row>3</th><td>1941</td><td>1</td><td>7.5</td></tr>\n",
       "\t<tr><th scope=row>206</th><td>1941</td><td>7</td><td>6.0</td></tr>\n",
       "\t<tr><th scope=row>4</th><td>1946</td><td>1</td><td>7.5</td></tr>\n",
       "\t<tr><th scope=row>46</th><td>1946</td><td>2</td><td>6.0</td></tr>\n",
       "\t<tr><th scope=row>5</th><td>1947</td><td>1</td><td>3.0</td></tr>\n",
       "\t<tr><th scope=row>273</th><td>1947</td><td>9</td><td>3.0</td></tr>\n",
       "</tbody>\n",
       "</table>\n"
      ],
      "text/latex": [
       "A data.frame: 10 × 3\n",
       "\\begin{tabular}{r|lll}\n",
       "  & Operating.Year & Operating.Month & Capacity.MW\\\\\n",
       "  & <int> & <int> & <dbl>\\\\\n",
       "\\hline\n",
       "\t1 & 1930 & 1 & 6.2\\\\\n",
       "\t271 & 1936 & 9 & 6.0\\\\\n",
       "\t2 & 1937 & 1 & 7.5\\\\\n",
       "\t272 & 1939 & 9 & 6.0\\\\\n",
       "\t3 & 1941 & 1 & 7.5\\\\\n",
       "\t206 & 1941 & 7 & 6.0\\\\\n",
       "\t4 & 1946 & 1 & 7.5\\\\\n",
       "\t46 & 1946 & 2 & 6.0\\\\\n",
       "\t5 & 1947 & 1 & 3.0\\\\\n",
       "\t273 & 1947 & 9 & 3.0\\\\\n",
       "\\end{tabular}\n"
      ],
      "text/markdown": [
       "\n",
       "A data.frame: 10 × 3\n",
       "\n",
       "| <!--/--> | Operating.Year &lt;int&gt; | Operating.Month &lt;int&gt; | Capacity.MW &lt;dbl&gt; |\n",
       "|---|---|---|---|\n",
       "| 1 | 1930 | 1 | 6.2 |\n",
       "| 271 | 1936 | 9 | 6.0 |\n",
       "| 2 | 1937 | 1 | 7.5 |\n",
       "| 272 | 1939 | 9 | 6.0 |\n",
       "| 3 | 1941 | 1 | 7.5 |\n",
       "| 206 | 1941 | 7 | 6.0 |\n",
       "| 4 | 1946 | 1 | 7.5 |\n",
       "| 46 | 1946 | 2 | 6.0 |\n",
       "| 5 | 1947 | 1 | 3.0 |\n",
       "| 273 | 1947 | 9 | 3.0 |\n",
       "\n"
      ],
      "text/plain": [
       "    Operating.Year Operating.Month Capacity.MW\n",
       "1   1930           1               6.2        \n",
       "271 1936           9               6.0        \n",
       "2   1937           1               7.5        \n",
       "272 1939           9               6.0        \n",
       "3   1941           1               7.5        \n",
       "206 1941           7               6.0        \n",
       "4   1946           1               7.5        \n",
       "46  1946           2               6.0        \n",
       "5   1947           1               3.0        \n",
       "273 1947           9               3.0        "
      ]
     },
     "metadata": {},
     "output_type": "display_data"
    }
   ],
   "source": [
    "coal_cap <- aggregate(Capacity.MW ~ Operating.Year + Operating.Month, data = coal_cap, FUN = sum)\n",
    "coal_cap <- coal_cap[order(coal_cap$Operating.Year, coal_cap$Operating.Month),]\n",
    "head(coal_cap, 10)"
   ]
  },
  {
   "cell_type": "markdown",
   "metadata": {},
   "source": [
    "<br>"
   ]
  },
  {
   "cell_type": "markdown",
   "metadata": {},
   "source": [
    "The data above provides the capacity of new installations by month and year but what we need is the cumulative installed capacity. In addition, months where no new capacity was added are not included in the original data. For a time-series analysis,these must be added to the series with carry-over values from previous months."
   ]
  },
  {
   "cell_type": "code",
   "execution_count": 44,
   "metadata": {},
   "outputs": [
    {
     "data": {
      "text/html": [
       "<table>\n",
       "<caption>A data.frame: 15 × 4</caption>\n",
       "<thead>\n",
       "\t<tr><th></th><th scope=col>Operating.Year</th><th scope=col>Operating.Month</th><th scope=col>Capacity.MW</th><th scope=col>Cumul.Cap.MW</th></tr>\n",
       "\t<tr><th></th><th scope=col>&lt;int&gt;</th><th scope=col>&lt;int&gt;</th><th scope=col>&lt;dbl&gt;</th><th scope=col>&lt;dbl&gt;</th></tr>\n",
       "</thead>\n",
       "<tbody>\n",
       "\t<tr><th scope=row>1</th><td>1930</td><td> 1</td><td>6.2</td><td>6.2</td></tr>\n",
       "\t<tr><th scope=row>2</th><td>1930</td><td> 2</td><td>0.0</td><td>6.2</td></tr>\n",
       "\t<tr><th scope=row>3</th><td>1930</td><td> 3</td><td>0.0</td><td>6.2</td></tr>\n",
       "\t<tr><th scope=row>4</th><td>1930</td><td> 4</td><td>0.0</td><td>6.2</td></tr>\n",
       "\t<tr><th scope=row>5</th><td>1930</td><td> 5</td><td>0.0</td><td>6.2</td></tr>\n",
       "\t<tr><th scope=row>6</th><td>1930</td><td> 6</td><td>0.0</td><td>6.2</td></tr>\n",
       "\t<tr><th scope=row>7</th><td>1930</td><td> 7</td><td>0.0</td><td>6.2</td></tr>\n",
       "\t<tr><th scope=row>8</th><td>1930</td><td> 8</td><td>0.0</td><td>6.2</td></tr>\n",
       "\t<tr><th scope=row>9</th><td>1930</td><td> 9</td><td>0.0</td><td>6.2</td></tr>\n",
       "\t<tr><th scope=row>10</th><td>1930</td><td>10</td><td>0.0</td><td>6.2</td></tr>\n",
       "\t<tr><th scope=row>11</th><td>1930</td><td>11</td><td>0.0</td><td>6.2</td></tr>\n",
       "\t<tr><th scope=row>12</th><td>1930</td><td>12</td><td>0.0</td><td>6.2</td></tr>\n",
       "\t<tr><th scope=row>13</th><td>1931</td><td> 1</td><td>0.0</td><td>6.2</td></tr>\n",
       "\t<tr><th scope=row>14</th><td>1931</td><td> 2</td><td>0.0</td><td>6.2</td></tr>\n",
       "\t<tr><th scope=row>15</th><td>1931</td><td> 3</td><td>0.0</td><td>6.2</td></tr>\n",
       "</tbody>\n",
       "</table>\n"
      ],
      "text/latex": [
       "A data.frame: 15 × 4\n",
       "\\begin{tabular}{r|llll}\n",
       "  & Operating.Year & Operating.Month & Capacity.MW & Cumul.Cap.MW\\\\\n",
       "  & <int> & <int> & <dbl> & <dbl>\\\\\n",
       "\\hline\n",
       "\t1 & 1930 &  1 & 6.2 & 6.2\\\\\n",
       "\t2 & 1930 &  2 & 0.0 & 6.2\\\\\n",
       "\t3 & 1930 &  3 & 0.0 & 6.2\\\\\n",
       "\t4 & 1930 &  4 & 0.0 & 6.2\\\\\n",
       "\t5 & 1930 &  5 & 0.0 & 6.2\\\\\n",
       "\t6 & 1930 &  6 & 0.0 & 6.2\\\\\n",
       "\t7 & 1930 &  7 & 0.0 & 6.2\\\\\n",
       "\t8 & 1930 &  8 & 0.0 & 6.2\\\\\n",
       "\t9 & 1930 &  9 & 0.0 & 6.2\\\\\n",
       "\t10 & 1930 & 10 & 0.0 & 6.2\\\\\n",
       "\t11 & 1930 & 11 & 0.0 & 6.2\\\\\n",
       "\t12 & 1930 & 12 & 0.0 & 6.2\\\\\n",
       "\t13 & 1931 &  1 & 0.0 & 6.2\\\\\n",
       "\t14 & 1931 &  2 & 0.0 & 6.2\\\\\n",
       "\t15 & 1931 &  3 & 0.0 & 6.2\\\\\n",
       "\\end{tabular}\n"
      ],
      "text/markdown": [
       "\n",
       "A data.frame: 15 × 4\n",
       "\n",
       "| <!--/--> | Operating.Year &lt;int&gt; | Operating.Month &lt;int&gt; | Capacity.MW &lt;dbl&gt; | Cumul.Cap.MW &lt;dbl&gt; |\n",
       "|---|---|---|---|---|\n",
       "| 1 | 1930 |  1 | 6.2 | 6.2 |\n",
       "| 2 | 1930 |  2 | 0.0 | 6.2 |\n",
       "| 3 | 1930 |  3 | 0.0 | 6.2 |\n",
       "| 4 | 1930 |  4 | 0.0 | 6.2 |\n",
       "| 5 | 1930 |  5 | 0.0 | 6.2 |\n",
       "| 6 | 1930 |  6 | 0.0 | 6.2 |\n",
       "| 7 | 1930 |  7 | 0.0 | 6.2 |\n",
       "| 8 | 1930 |  8 | 0.0 | 6.2 |\n",
       "| 9 | 1930 |  9 | 0.0 | 6.2 |\n",
       "| 10 | 1930 | 10 | 0.0 | 6.2 |\n",
       "| 11 | 1930 | 11 | 0.0 | 6.2 |\n",
       "| 12 | 1930 | 12 | 0.0 | 6.2 |\n",
       "| 13 | 1931 |  1 | 0.0 | 6.2 |\n",
       "| 14 | 1931 |  2 | 0.0 | 6.2 |\n",
       "| 15 | 1931 |  3 | 0.0 | 6.2 |\n",
       "\n"
      ],
      "text/plain": [
       "   Operating.Year Operating.Month Capacity.MW Cumul.Cap.MW\n",
       "1  1930            1              6.2         6.2         \n",
       "2  1930            2              0.0         6.2         \n",
       "3  1930            3              0.0         6.2         \n",
       "4  1930            4              0.0         6.2         \n",
       "5  1930            5              0.0         6.2         \n",
       "6  1930            6              0.0         6.2         \n",
       "7  1930            7              0.0         6.2         \n",
       "8  1930            8              0.0         6.2         \n",
       "9  1930            9              0.0         6.2         \n",
       "10 1930           10              0.0         6.2         \n",
       "11 1930           11              0.0         6.2         \n",
       "12 1930           12              0.0         6.2         \n",
       "13 1931            1              0.0         6.2         \n",
       "14 1931            2              0.0         6.2         \n",
       "15 1931            3              0.0         6.2         "
      ]
     },
     "metadata": {},
     "output_type": "display_data"
    }
   ],
   "source": [
    "# Create a dataframe with all the months spanning the time period of the series\n",
    "first <- min(coal_cap$Operating.Year)\n",
    "last <- 2019\n",
    "yrs <- data.frame(Operating.Month = rep(1:12, last - first + 1), \n",
    "                  Operating.Year = unlist(lapply(c(first:last), function(x) rep(x,12))))\n",
    "# Left-join the `coal_cap` on the new dataframe to expand to all months\n",
    "coal_cap <- merge(x = yrs, y = coal_cap, by = c(\"Operating.Year\", \"Operating.Month\"), all.x = T)\n",
    "# Replace NA values with 0\n",
    "coal_cap$Capacity.MW <- replace(coal_cap$Capacity.MW, is.na(coal_cap$Capacity.MW), 0)\n",
    "# Determine cumulative installed capacity\n",
    "coal_cap$Cumul.Cap.MW <- cumsum(coal_cap$Capacity.MW)\n",
    "\n",
    "head(coal_cap, 15)"
   ]
  },
  {
   "cell_type": "code",
   "execution_count": 45,
   "metadata": {},
   "outputs": [
    {
     "data": {
      "image/png": "[encoded data removed]",
      "text/plain": [
       "plot without title"
      ]
     },
     "metadata": {},
     "output_type": "display_data"
    }
   ],
   "source": [
    "coal_cap_ts <- ts(coal_cap$Cumul.Cap.MW, start = c(first, 1), end = c(last, 12), frequency = 12)\n",
    "autoplot(coal_cap_ts) + xlab(\"Year\") + ylab(\"Capacity(MW)\") + ggtitle(\"Coal Installed Capacity\")"
   ]
  },
  {
   "cell_type": "markdown",
   "metadata": {},
   "source": [
    "<br>"
   ]
  },
  {
   "cell_type": "code",
   "execution_count": 46,
   "metadata": {},
   "outputs": [
    {
     "data": {
      "image/png": "[encoded data removed]",
      "text/plain": [
       "plot without title"
      ]
     },
     "metadata": {},
     "output_type": "display_data"
    }
   ],
   "source": [
    "autoplot(cbind(\"Wind and Solar\" = (wind_cap_ts + solar_cap_ts), \"Natural Gas\" = ng_cap_ts, \"Coal\" = coal_cap_ts)) + \n",
    "    xlab(\"Year\") + ylab(\"Capacity(MW)\") + ggtitle(\"Installed Capacity - Different Sources\") + \n",
    "    xlim(c(1970,2020)) + guides(color = guide_legend(title = \"Source\"))"
   ]
  },
  {
   "cell_type": "markdown",
   "metadata": {},
   "source": [
    "<h4><u>Save the Data for Reuse</u></h4>"
   ]
  },
  {
   "cell_type": "code",
   "execution_count": 47,
   "metadata": {},
   "outputs": [],
   "source": [
    "save(capacity, wind_cap, wind_cap_ts, solar_cap, solar_cap_ts, ng_cap, ng_cap_ts, coal_cap, coal_cap_ts, file = \"capacity.RData\")"
   ]
  }
 ],
 "metadata": {
  "kernelspec": {
   "display_name": "R",
   "language": "R",
   "name": "ir"
  },
  "language_info": {
   "codemirror_mode": "r",
   "file_extension": ".r",
   "mimetype": "text/x-r-source",
   "name": "R",
   "pygments_lexer": "r",
   "version": "3.6.1"
  }
 },
 "nbformat": 4,
 "nbformat_minor": 4
}
