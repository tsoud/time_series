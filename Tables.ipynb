{
 "cells": [
  {
   "cell_type": "markdown",
   "metadata": {},
   "source": [
    "<table>\n",
    "<caption><h4><i><u>Model Error and AICc Values</u></i></h4></caption>\n",
    "<thead>\n",
    "\t<tr><th scope=\"col\">Model</th><th scope=\"col\">AICc</th><th scope=\"col\">RMSE</th><th scope=\"col\">MAE</th></tr>\n",
    "</thead>\n",
    "<tbody>\n",
    "\t<tr><td>ETS \"AAA\" log-transformed - Expanding   </td><td> 325.4982</td><td>0.8386125</td><td>0.7154132</td></tr>\n",
    "\t<tr><td>ETS \"AAA\" log-transformed - Rolling  </td><td> 131.3657</td><td>0.8562623</td><td>0.7363961</td></tr>\n",
    "\t<tr><td>sARIMA(1,1,2)(0,1,1)<sub>12</sub>; no transformation - Expanding   </td><td> 127.7866</td><td>0.7090161</td><td>0.5801910</td></tr>\n",
    "\t<tr><td>sARIMA(1,1,2)(0,1,1)<sub>12</sub>; no transformation - Rolling   </td><td> 126.1304</td><td>0.7076339</td><td>0.5778296</td></tr>\n",
    "\t<tr><td>DH Reg 2 terms ARIMA(4,1,1) errors - Expanding   </td><td>-171.4204</td><td>1.0002399</td><td>0.8603077</td></tr>\n",
    "\t<tr><td>DH Reg 2 terms ARIMA(4,1,1) errors - Rolling  </td><td>-193.5835</td><td>0.9881109</td><td>0.8469297</td></tr>\n",
    "</tbody>\n",
    "</table>"
   ]
  },
  {
   "cell_type": "markdown",
   "metadata": {},
   "source": [
    "<u>Summary of Selected Models</u>\n",
    "\n",
    "- $\\text{ETS}$ model, log-transformation $\\lambda = 0$ with additive error, additive trend, additive seasonality.\n",
    "\n",
    "- $\\text{sARIMA}(1,1,2)(0,1,1)_{12}$ with automatically selected Box-Cox transformation parameter ($\\lambda$).\n",
    "\n",
    "- Dynamic Harmonic Regression with 2 Fourier terms, $\\text{ARIMA}(4,1,1)$ errors, log-transformation $\\lambda = 0$."
   ]
  }
 ],
 "metadata": {
  "kernelspec": {
   "display_name": "R",
   "language": "R",
   "name": "ir"
  },
  "language_info": {
   "codemirror_mode": "r",
   "file_extension": ".r",
   "mimetype": "text/x-r-source",
   "name": "R",
   "pygments_lexer": "r",
   "version": "3.6.1"
  }
 },
 "nbformat": 4,
 "nbformat_minor": 4
}
